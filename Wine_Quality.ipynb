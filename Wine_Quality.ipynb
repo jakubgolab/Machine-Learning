{
  "nbformat": 4,
  "nbformat_minor": 0,
  "metadata": {
    "colab": {
      "provenance": [],
      "mount_file_id": "1vl3UBHN_aB9LHiZEXIHsFwHPgxJZ6yg-",
      "authorship_tag": "ABX9TyNBURzyEnT0Fz3/6f3OXB6g",
      "include_colab_link": true
    },
    "kernelspec": {
      "name": "python3",
      "display_name": "Python 3"
    },
    "language_info": {
      "name": "python"
    }
  },
  "cells": [
    {
      "cell_type": "markdown",
      "metadata": {
        "id": "view-in-github",
        "colab_type": "text"
      },
      "source": [
        "<a href=\"https://colab.research.google.com/github/jakubgolab/Machine-Learning/blob/main/Wine_Quality.ipynb\" target=\"_parent\"><img src=\"https://colab.research.google.com/assets/colab-badge.svg\" alt=\"Open In Colab\"/></a>"
      ]
    },
    {
      "cell_type": "markdown",
      "source": [
        "#Wine Quality\n",
        "This project aims to develop a model that will be able to predict quality of wine (range between 3 and 8).\n",
        "Dataset comes from kaggle website: https://www.kaggle.com/datasets/yasserh/wine-quality-dataset"
      ],
      "metadata": {
        "id": "nRJW-lA8hNVy"
      }
    },
    {
      "cell_type": "code",
      "execution_count": 472,
      "metadata": {
        "id": "688S-b9BewKt"
      },
      "outputs": [],
      "source": [
        "import numpy as np\n",
        "import pandas as pd\n",
        "from matplotlib import pyplot as plt\n",
        "import plotly.express as px\n",
        "import seaborn as sns\n",
        "\n",
        "from tensorflow.keras import layers\n",
        "from tensorflow.keras.models import Sequential\n",
        "from tensorflow.keras import optimizers\n",
        "from tensorflow.keras.callbacks import EarlyStopping"
      ]
    },
    {
      "cell_type": "code",
      "source": [
        "df = pd.read_csv(\"/content/drive/MyDrive/ML_bootcamp/WineQT.csv\", index_col=12)\n",
        "df.head()"
      ],
      "metadata": {
        "colab": {
          "base_uri": "https://localhost:8080/",
          "height": 299
        },
        "id": "b0gV2hiofwN8",
        "outputId": "5e2be0c7-ed54-4f70-a75d-c6d0f433c89e"
      },
      "execution_count": 473,
      "outputs": [
        {
          "output_type": "execute_result",
          "data": {
            "text/plain": [
              "    fixed acidity  volatile acidity  citric acid  residual sugar  chlorides  \\\n",
              "Id                                                                            \n",
              "0             7.4              0.70         0.00             1.9      0.076   \n",
              "1             7.8              0.88         0.00             2.6      0.098   \n",
              "2             7.8              0.76         0.04             2.3      0.092   \n",
              "3            11.2              0.28         0.56             1.9      0.075   \n",
              "4             7.4              0.70         0.00             1.9      0.076   \n",
              "\n",
              "    free sulfur dioxide  total sulfur dioxide  density    pH  sulphates  \\\n",
              "Id                                                                        \n",
              "0                  11.0                  34.0   0.9978  3.51       0.56   \n",
              "1                  25.0                  67.0   0.9968  3.20       0.68   \n",
              "2                  15.0                  54.0   0.9970  3.26       0.65   \n",
              "3                  17.0                  60.0   0.9980  3.16       0.58   \n",
              "4                  11.0                  34.0   0.9978  3.51       0.56   \n",
              "\n",
              "    alcohol  quality  \n",
              "Id                    \n",
              "0       9.4        5  \n",
              "1       9.8        5  \n",
              "2       9.8        5  \n",
              "3       9.8        6  \n",
              "4       9.4        5  "
            ],
            "text/html": [
              "\n",
              "  <div id=\"df-7fc4f95e-0c5e-4e66-8d4f-2eac889b406b\">\n",
              "    <div class=\"colab-df-container\">\n",
              "      <div>\n",
              "<style scoped>\n",
              "    .dataframe tbody tr th:only-of-type {\n",
              "        vertical-align: middle;\n",
              "    }\n",
              "\n",
              "    .dataframe tbody tr th {\n",
              "        vertical-align: top;\n",
              "    }\n",
              "\n",
              "    .dataframe thead th {\n",
              "        text-align: right;\n",
              "    }\n",
              "</style>\n",
              "<table border=\"1\" class=\"dataframe\">\n",
              "  <thead>\n",
              "    <tr style=\"text-align: right;\">\n",
              "      <th></th>\n",
              "      <th>fixed acidity</th>\n",
              "      <th>volatile acidity</th>\n",
              "      <th>citric acid</th>\n",
              "      <th>residual sugar</th>\n",
              "      <th>chlorides</th>\n",
              "      <th>free sulfur dioxide</th>\n",
              "      <th>total sulfur dioxide</th>\n",
              "      <th>density</th>\n",
              "      <th>pH</th>\n",
              "      <th>sulphates</th>\n",
              "      <th>alcohol</th>\n",
              "      <th>quality</th>\n",
              "    </tr>\n",
              "    <tr>\n",
              "      <th>Id</th>\n",
              "      <th></th>\n",
              "      <th></th>\n",
              "      <th></th>\n",
              "      <th></th>\n",
              "      <th></th>\n",
              "      <th></th>\n",
              "      <th></th>\n",
              "      <th></th>\n",
              "      <th></th>\n",
              "      <th></th>\n",
              "      <th></th>\n",
              "      <th></th>\n",
              "    </tr>\n",
              "  </thead>\n",
              "  <tbody>\n",
              "    <tr>\n",
              "      <th>0</th>\n",
              "      <td>7.4</td>\n",
              "      <td>0.70</td>\n",
              "      <td>0.00</td>\n",
              "      <td>1.9</td>\n",
              "      <td>0.076</td>\n",
              "      <td>11.0</td>\n",
              "      <td>34.0</td>\n",
              "      <td>0.9978</td>\n",
              "      <td>3.51</td>\n",
              "      <td>0.56</td>\n",
              "      <td>9.4</td>\n",
              "      <td>5</td>\n",
              "    </tr>\n",
              "    <tr>\n",
              "      <th>1</th>\n",
              "      <td>7.8</td>\n",
              "      <td>0.88</td>\n",
              "      <td>0.00</td>\n",
              "      <td>2.6</td>\n",
              "      <td>0.098</td>\n",
              "      <td>25.0</td>\n",
              "      <td>67.0</td>\n",
              "      <td>0.9968</td>\n",
              "      <td>3.20</td>\n",
              "      <td>0.68</td>\n",
              "      <td>9.8</td>\n",
              "      <td>5</td>\n",
              "    </tr>\n",
              "    <tr>\n",
              "      <th>2</th>\n",
              "      <td>7.8</td>\n",
              "      <td>0.76</td>\n",
              "      <td>0.04</td>\n",
              "      <td>2.3</td>\n",
              "      <td>0.092</td>\n",
              "      <td>15.0</td>\n",
              "      <td>54.0</td>\n",
              "      <td>0.9970</td>\n",
              "      <td>3.26</td>\n",
              "      <td>0.65</td>\n",
              "      <td>9.8</td>\n",
              "      <td>5</td>\n",
              "    </tr>\n",
              "    <tr>\n",
              "      <th>3</th>\n",
              "      <td>11.2</td>\n",
              "      <td>0.28</td>\n",
              "      <td>0.56</td>\n",
              "      <td>1.9</td>\n",
              "      <td>0.075</td>\n",
              "      <td>17.0</td>\n",
              "      <td>60.0</td>\n",
              "      <td>0.9980</td>\n",
              "      <td>3.16</td>\n",
              "      <td>0.58</td>\n",
              "      <td>9.8</td>\n",
              "      <td>6</td>\n",
              "    </tr>\n",
              "    <tr>\n",
              "      <th>4</th>\n",
              "      <td>7.4</td>\n",
              "      <td>0.70</td>\n",
              "      <td>0.00</td>\n",
              "      <td>1.9</td>\n",
              "      <td>0.076</td>\n",
              "      <td>11.0</td>\n",
              "      <td>34.0</td>\n",
              "      <td>0.9978</td>\n",
              "      <td>3.51</td>\n",
              "      <td>0.56</td>\n",
              "      <td>9.4</td>\n",
              "      <td>5</td>\n",
              "    </tr>\n",
              "  </tbody>\n",
              "</table>\n",
              "</div>\n",
              "      <button class=\"colab-df-convert\" onclick=\"convertToInteractive('df-7fc4f95e-0c5e-4e66-8d4f-2eac889b406b')\"\n",
              "              title=\"Convert this dataframe to an interactive table.\"\n",
              "              style=\"display:none;\">\n",
              "        \n",
              "  <svg xmlns=\"http://www.w3.org/2000/svg\" height=\"24px\"viewBox=\"0 0 24 24\"\n",
              "       width=\"24px\">\n",
              "    <path d=\"M0 0h24v24H0V0z\" fill=\"none\"/>\n",
              "    <path d=\"M18.56 5.44l.94 2.06.94-2.06 2.06-.94-2.06-.94-.94-2.06-.94 2.06-2.06.94zm-11 1L8.5 8.5l.94-2.06 2.06-.94-2.06-.94L8.5 2.5l-.94 2.06-2.06.94zm10 10l.94 2.06.94-2.06 2.06-.94-2.06-.94-.94-2.06-.94 2.06-2.06.94z\"/><path d=\"M17.41 7.96l-1.37-1.37c-.4-.4-.92-.59-1.43-.59-.52 0-1.04.2-1.43.59L10.3 9.45l-7.72 7.72c-.78.78-.78 2.05 0 2.83L4 21.41c.39.39.9.59 1.41.59.51 0 1.02-.2 1.41-.59l7.78-7.78 2.81-2.81c.8-.78.8-2.07 0-2.86zM5.41 20L4 18.59l7.72-7.72 1.47 1.35L5.41 20z\"/>\n",
              "  </svg>\n",
              "      </button>\n",
              "      \n",
              "  <style>\n",
              "    .colab-df-container {\n",
              "      display:flex;\n",
              "      flex-wrap:wrap;\n",
              "      gap: 12px;\n",
              "    }\n",
              "\n",
              "    .colab-df-convert {\n",
              "      background-color: #E8F0FE;\n",
              "      border: none;\n",
              "      border-radius: 50%;\n",
              "      cursor: pointer;\n",
              "      display: none;\n",
              "      fill: #1967D2;\n",
              "      height: 32px;\n",
              "      padding: 0 0 0 0;\n",
              "      width: 32px;\n",
              "    }\n",
              "\n",
              "    .colab-df-convert:hover {\n",
              "      background-color: #E2EBFA;\n",
              "      box-shadow: 0px 1px 2px rgba(60, 64, 67, 0.3), 0px 1px 3px 1px rgba(60, 64, 67, 0.15);\n",
              "      fill: #174EA6;\n",
              "    }\n",
              "\n",
              "    [theme=dark] .colab-df-convert {\n",
              "      background-color: #3B4455;\n",
              "      fill: #D2E3FC;\n",
              "    }\n",
              "\n",
              "    [theme=dark] .colab-df-convert:hover {\n",
              "      background-color: #434B5C;\n",
              "      box-shadow: 0px 1px 3px 1px rgba(0, 0, 0, 0.15);\n",
              "      filter: drop-shadow(0px 1px 2px rgba(0, 0, 0, 0.3));\n",
              "      fill: #FFFFFF;\n",
              "    }\n",
              "  </style>\n",
              "\n",
              "      <script>\n",
              "        const buttonEl =\n",
              "          document.querySelector('#df-7fc4f95e-0c5e-4e66-8d4f-2eac889b406b button.colab-df-convert');\n",
              "        buttonEl.style.display =\n",
              "          google.colab.kernel.accessAllowed ? 'block' : 'none';\n",
              "\n",
              "        async function convertToInteractive(key) {\n",
              "          const element = document.querySelector('#df-7fc4f95e-0c5e-4e66-8d4f-2eac889b406b');\n",
              "          const dataTable =\n",
              "            await google.colab.kernel.invokeFunction('convertToInteractive',\n",
              "                                                     [key], {});\n",
              "          if (!dataTable) return;\n",
              "\n",
              "          const docLinkHtml = 'Like what you see? Visit the ' +\n",
              "            '<a target=\"_blank\" href=https://colab.research.google.com/notebooks/data_table.ipynb>data table notebook</a>'\n",
              "            + ' to learn more about interactive tables.';\n",
              "          element.innerHTML = '';\n",
              "          dataTable['output_type'] = 'display_data';\n",
              "          await google.colab.output.renderOutput(dataTable, element);\n",
              "          const docLink = document.createElement('div');\n",
              "          docLink.innerHTML = docLinkHtml;\n",
              "          element.appendChild(docLink);\n",
              "        }\n",
              "      </script>\n",
              "    </div>\n",
              "  </div>\n",
              "  "
            ]
          },
          "metadata": {},
          "execution_count": 473
        }
      ]
    },
    {
      "cell_type": "markdown",
      "source": [
        "#Exploratory Data Analysis"
      ],
      "metadata": {
        "id": "DiOMJk6liis4"
      }
    },
    {
      "cell_type": "code",
      "source": [
        "df.info()"
      ],
      "metadata": {
        "colab": {
          "base_uri": "https://localhost:8080/"
        },
        "id": "ccCDQNBNg4Kj",
        "outputId": "45a68dd5-d5fb-4f16-91e8-b278e7589c21"
      },
      "execution_count": 474,
      "outputs": [
        {
          "output_type": "stream",
          "name": "stdout",
          "text": [
            "<class 'pandas.core.frame.DataFrame'>\n",
            "Int64Index: 1143 entries, 0 to 1597\n",
            "Data columns (total 12 columns):\n",
            " #   Column                Non-Null Count  Dtype  \n",
            "---  ------                --------------  -----  \n",
            " 0   fixed acidity         1143 non-null   float64\n",
            " 1   volatile acidity      1143 non-null   float64\n",
            " 2   citric acid           1143 non-null   float64\n",
            " 3   residual sugar        1143 non-null   float64\n",
            " 4   chlorides             1143 non-null   float64\n",
            " 5   free sulfur dioxide   1143 non-null   float64\n",
            " 6   total sulfur dioxide  1143 non-null   float64\n",
            " 7   density               1143 non-null   float64\n",
            " 8   pH                    1143 non-null   float64\n",
            " 9   sulphates             1143 non-null   float64\n",
            " 10  alcohol               1143 non-null   float64\n",
            " 11  quality               1143 non-null   int64  \n",
            "dtypes: float64(11), int64(1)\n",
            "memory usage: 116.1 KB\n"
          ]
        }
      ]
    },
    {
      "cell_type": "code",
      "source": [
        "df.isna().sum()"
      ],
      "metadata": {
        "colab": {
          "base_uri": "https://localhost:8080/"
        },
        "id": "81bw33hngf7W",
        "outputId": "5f63ac26-874f-4bfb-9ae7-13368b176994"
      },
      "execution_count": 475,
      "outputs": [
        {
          "output_type": "execute_result",
          "data": {
            "text/plain": [
              "fixed acidity           0\n",
              "volatile acidity        0\n",
              "citric acid             0\n",
              "residual sugar          0\n",
              "chlorides               0\n",
              "free sulfur dioxide     0\n",
              "total sulfur dioxide    0\n",
              "density                 0\n",
              "pH                      0\n",
              "sulphates               0\n",
              "alcohol                 0\n",
              "quality                 0\n",
              "dtype: int64"
            ]
          },
          "metadata": {},
          "execution_count": 475
        }
      ]
    },
    {
      "cell_type": "code",
      "source": [
        "df[\"quality\"] = df[\"quality\"].astype(\"category\")"
      ],
      "metadata": {
        "id": "42zAUfYEl5l6"
      },
      "execution_count": 476,
      "outputs": []
    },
    {
      "cell_type": "markdown",
      "source": [
        "The dataset consists of 12 explanatory variable and 1 explained variable (range 3-8). Total number of rows is 1143 and there is no missing values."
      ],
      "metadata": {
        "id": "IknACfl1h6ag"
      }
    },
    {
      "cell_type": "code",
      "source": [
        "sns.set_style()\n",
        "plt.figure(figsize=(10, 6))\n",
        "sns.countplot(x=df[\"quality\"])\n",
        "plt.title(\"Distribution of quality\")\n",
        "plt.show()"
      ],
      "metadata": {
        "colab": {
          "base_uri": "https://localhost:8080/",
          "height": 404
        },
        "id": "UjcGC60qhKjV",
        "outputId": "22a3cbde-3f5c-4cc6-d440-dd4f091b241d"
      },
      "execution_count": 477,
      "outputs": [
        {
          "output_type": "display_data",
          "data": {
            "text/plain": [
              "<Figure size 720x432 with 1 Axes>"
            ],
            "image/png": "[encoded data removed]"
          },
          "metadata": {
            "needs_background": "light"
          }
        }
      ]
    },
    {
      "cell_type": "code",
      "source": [
        "df.describe()"
      ],
      "metadata": {
        "colab": {
          "base_uri": "https://localhost:8080/",
          "height": 361
        },
        "id": "IyO7fcMhjbgo",
        "outputId": "3a55eac7-6d95-4ddd-e69f-ac2eef14a8c3"
      },
      "execution_count": 478,
      "outputs": [
        {
          "output_type": "execute_result",
          "data": {
            "text/plain": [
              "       fixed acidity  volatile acidity  citric acid  residual sugar  \\\n",
              "count    1143.000000       1143.000000  1143.000000     1143.000000   \n",
              "mean        8.311111          0.531339     0.268364        2.532152   \n",
              "std         1.747595          0.179633     0.196686        1.355917   \n",
              "min         4.600000          0.120000     0.000000        0.900000   \n",
              "25%         7.100000          0.392500     0.090000        1.900000   \n",
              "50%         7.900000          0.520000     0.250000        2.200000   \n",
              "75%         9.100000          0.640000     0.420000        2.600000   \n",
              "max        15.900000          1.580000     1.000000       15.500000   \n",
              "\n",
              "         chlorides  free sulfur dioxide  total sulfur dioxide      density  \\\n",
              "count  1143.000000          1143.000000           1143.000000  1143.000000   \n",
              "mean      0.086933            15.615486             45.914698     0.996730   \n",
              "std       0.047267            10.250486             32.782130     0.001925   \n",
              "min       0.012000             1.000000              6.000000     0.990070   \n",
              "25%       0.070000             7.000000             21.000000     0.995570   \n",
              "50%       0.079000            13.000000             37.000000     0.996680   \n",
              "75%       0.090000            21.000000             61.000000     0.997845   \n",
              "max       0.611000            68.000000            289.000000     1.003690   \n",
              "\n",
              "                pH    sulphates      alcohol  \n",
              "count  1143.000000  1143.000000  1143.000000  \n",
              "mean      3.311015     0.657708    10.442111  \n",
              "std       0.156664     0.170399     1.082196  \n",
              "min       2.740000     0.330000     8.400000  \n",
              "25%       3.205000     0.550000     9.500000  \n",
              "50%       3.310000     0.620000    10.200000  \n",
              "75%       3.400000     0.730000    11.100000  \n",
              "max       4.010000     2.000000    14.900000  "
            ],
            "text/html": [
              "\n",
              "  <div id=\"df-ebeddbd0-5ad2-4fff-aade-780c15d7f6c3\">\n",
              "    <div class=\"colab-df-container\">\n",
              "      <div>\n",
              "<style scoped>\n",
              "    .dataframe tbody tr th:only-of-type {\n",
              "        vertical-align: middle;\n",
              "    }\n",
              "\n",
              "    .dataframe tbody tr th {\n",
              "        vertical-align: top;\n",
              "    }\n",
              "\n",
              "    .dataframe thead th {\n",
              "        text-align: right;\n",
              "    }\n",
              "</style>\n",
              "<table border=\"1\" class=\"dataframe\">\n",
              "  <thead>\n",
              "    <tr style=\"text-align: right;\">\n",
              "      <th></th>\n",
              "      <th>fixed acidity</th>\n",
              "      <th>volatile acidity</th>\n",
              "      <th>citric acid</th>\n",
              "      <th>residual sugar</th>\n",
              "      <th>chlorides</th>\n",
              "      <th>free sulfur dioxide</th>\n",
              "      <th>total sulfur dioxide</th>\n",
              "      <th>density</th>\n",
              "      <th>pH</th>\n",
              "      <th>sulphates</th>\n",
              "      <th>alcohol</th>\n",
              "    </tr>\n",
              "  </thead>\n",
              "  <tbody>\n",
              "    <tr>\n",
              "      <th>count</th>\n",
              "      <td>1143.000000</td>\n",
              "      <td>1143.000000</td>\n",
              "      <td>1143.000000</td>\n",
              "      <td>1143.000000</td>\n",
              "      <td>1143.000000</td>\n",
              "      <td>1143.000000</td>\n",
              "      <td>1143.000000</td>\n",
              "      <td>1143.000000</td>\n",
              "      <td>1143.000000</td>\n",
              "      <td>1143.000000</td>\n",
              "      <td>1143.000000</td>\n",
              "    </tr>\n",
              "    <tr>\n",
              "      <th>mean</th>\n",
              "      <td>8.311111</td>\n",
              "      <td>0.531339</td>\n",
              "      <td>0.268364</td>\n",
              "      <td>2.532152</td>\n",
              "      <td>0.086933</td>\n",
              "      <td>15.615486</td>\n",
              "      <td>45.914698</td>\n",
              "      <td>0.996730</td>\n",
              "      <td>3.311015</td>\n",
              "      <td>0.657708</td>\n",
              "      <td>10.442111</td>\n",
              "    </tr>\n",
              "    <tr>\n",
              "      <th>std</th>\n",
              "      <td>1.747595</td>\n",
              "      <td>0.179633</td>\n",
              "      <td>0.196686</td>\n",
              "      <td>1.355917</td>\n",
              "      <td>0.047267</td>\n",
              "      <td>10.250486</td>\n",
              "      <td>32.782130</td>\n",
              "      <td>0.001925</td>\n",
              "      <td>0.156664</td>\n",
              "      <td>0.170399</td>\n",
              "      <td>1.082196</td>\n",
              "    </tr>\n",
              "    <tr>\n",
              "      <th>min</th>\n",
              "      <td>4.600000</td>\n",
              "      <td>0.120000</td>\n",
              "      <td>0.000000</td>\n",
              "      <td>0.900000</td>\n",
              "      <td>0.012000</td>\n",
              "      <td>1.000000</td>\n",
              "      <td>6.000000</td>\n",
              "      <td>0.990070</td>\n",
              "      <td>2.740000</td>\n",
              "      <td>0.330000</td>\n",
              "      <td>8.400000</td>\n",
              "    </tr>\n",
              "    <tr>\n",
              "      <th>25%</th>\n",
              "      <td>7.100000</td>\n",
              "      <td>0.392500</td>\n",
              "      <td>0.090000</td>\n",
              "      <td>1.900000</td>\n",
              "      <td>0.070000</td>\n",
              "      <td>7.000000</td>\n",
              "      <td>21.000000</td>\n",
              "      <td>0.995570</td>\n",
              "      <td>3.205000</td>\n",
              "      <td>0.550000</td>\n",
              "      <td>9.500000</td>\n",
              "    </tr>\n",
              "    <tr>\n",
              "      <th>50%</th>\n",
              "      <td>7.900000</td>\n",
              "      <td>0.520000</td>\n",
              "      <td>0.250000</td>\n",
              "      <td>2.200000</td>\n",
              "      <td>0.079000</td>\n",
              "      <td>13.000000</td>\n",
              "      <td>37.000000</td>\n",
              "      <td>0.996680</td>\n",
              "      <td>3.310000</td>\n",
              "      <td>0.620000</td>\n",
              "      <td>10.200000</td>\n",
              "    </tr>\n",
              "    <tr>\n",
              "      <th>75%</th>\n",
              "      <td>9.100000</td>\n",
              "      <td>0.640000</td>\n",
              "      <td>0.420000</td>\n",
              "      <td>2.600000</td>\n",
              "      <td>0.090000</td>\n",
              "      <td>21.000000</td>\n",
              "      <td>61.000000</td>\n",
              "      <td>0.997845</td>\n",
              "      <td>3.400000</td>\n",
              "      <td>0.730000</td>\n",
              "      <td>11.100000</td>\n",
              "    </tr>\n",
              "    <tr>\n",
              "      <th>max</th>\n",
              "      <td>15.900000</td>\n",
              "      <td>1.580000</td>\n",
              "      <td>1.000000</td>\n",
              "      <td>15.500000</td>\n",
              "      <td>0.611000</td>\n",
              "      <td>68.000000</td>\n",
              "      <td>289.000000</td>\n",
              "      <td>1.003690</td>\n",
              "      <td>4.010000</td>\n",
              "      <td>2.000000</td>\n",
              "      <td>14.900000</td>\n",
              "    </tr>\n",
              "  </tbody>\n",
              "</table>\n",
              "</div>\n",
              "      <button class=\"colab-df-convert\" onclick=\"convertToInteractive('df-ebeddbd0-5ad2-4fff-aade-780c15d7f6c3')\"\n",
              "              title=\"Convert this dataframe to an interactive table.\"\n",
              "              style=\"display:none;\">\n",
              "        \n",
              "  <svg xmlns=\"http://www.w3.org/2000/svg\" height=\"24px\"viewBox=\"0 0 24 24\"\n",
              "       width=\"24px\">\n",
              "    <path d=\"M0 0h24v24H0V0z\" fill=\"none\"/>\n",
              "    <path d=\"M18.56 5.44l.94 2.06.94-2.06 2.06-.94-2.06-.94-.94-2.06-.94 2.06-2.06.94zm-11 1L8.5 8.5l.94-2.06 2.06-.94-2.06-.94L8.5 2.5l-.94 2.06-2.06.94zm10 10l.94 2.06.94-2.06 2.06-.94-2.06-.94-.94-2.06-.94 2.06-2.06.94z\"/><path d=\"M17.41 7.96l-1.37-1.37c-.4-.4-.92-.59-1.43-.59-.52 0-1.04.2-1.43.59L10.3 9.45l-7.72 7.72c-.78.78-.78 2.05 0 2.83L4 21.41c.39.39.9.59 1.41.59.51 0 1.02-.2 1.41-.59l7.78-7.78 2.81-2.81c.8-.78.8-2.07 0-2.86zM5.41 20L4 18.59l7.72-7.72 1.47 1.35L5.41 20z\"/>\n",
              "  </svg>\n",
              "      </button>\n",
              "      \n",
              "  <style>\n",
              "    .colab-df-container {\n",
              "      display:flex;\n",
              "      flex-wrap:wrap;\n",
              "      gap: 12px;\n",
              "    }\n",
              "\n",
              "    .colab-df-convert {\n",
              "      background-color: #E8F0FE;\n",
              "      border: none;\n",
              "      border-radius: 50%;\n",
              "      cursor: pointer;\n",
              "      display: none;\n",
              "      fill: #1967D2;\n",
              "      height: 32px;\n",
              "      padding: 0 0 0 0;\n",
              "      width: 32px;\n",
              "    }\n",
              "\n",
              "    .colab-df-convert:hover {\n",
              "      background-color: #E2EBFA;\n",
              "      box-shadow: 0px 1px 2px rgba(60, 64, 67, 0.3), 0px 1px 3px 1px rgba(60, 64, 67, 0.15);\n",
              "      fill: #174EA6;\n",
              "    }\n",
              "\n",
              "    [theme=dark] .colab-df-convert {\n",
              "      background-color: #3B4455;\n",
              "      fill: #D2E3FC;\n",
              "    }\n",
              "\n",
              "    [theme=dark] .colab-df-convert:hover {\n",
              "      background-color: #434B5C;\n",
              "      box-shadow: 0px 1px 3px 1px rgba(0, 0, 0, 0.15);\n",
              "      filter: drop-shadow(0px 1px 2px rgba(0, 0, 0, 0.3));\n",
              "      fill: #FFFFFF;\n",
              "    }\n",
              "  </style>\n",
              "\n",
              "      <script>\n",
              "        const buttonEl =\n",
              "          document.querySelector('#df-ebeddbd0-5ad2-4fff-aade-780c15d7f6c3 button.colab-df-convert');\n",
              "        buttonEl.style.display =\n",
              "          google.colab.kernel.accessAllowed ? 'block' : 'none';\n",
              "\n",
              "        async function convertToInteractive(key) {\n",
              "          const element = document.querySelector('#df-ebeddbd0-5ad2-4fff-aade-780c15d7f6c3');\n",
              "          const dataTable =\n",
              "            await google.colab.kernel.invokeFunction('convertToInteractive',\n",
              "                                                     [key], {});\n",
              "          if (!dataTable) return;\n",
              "\n",
              "          const docLinkHtml = 'Like what you see? Visit the ' +\n",
              "            '<a target=\"_blank\" href=https://colab.research.google.com/notebooks/data_table.ipynb>data table notebook</a>'\n",
              "            + ' to learn more about interactive tables.';\n",
              "          element.innerHTML = '';\n",
              "          dataTable['output_type'] = 'display_data';\n",
              "          await google.colab.output.renderOutput(dataTable, element);\n",
              "          const docLink = document.createElement('div');\n",
              "          docLink.innerHTML = docLinkHtml;\n",
              "          element.appendChild(docLink);\n",
              "        }\n",
              "      </script>\n",
              "    </div>\n",
              "  </div>\n",
              "  "
            ]
          },
          "metadata": {},
          "execution_count": 478
        }
      ]
    },
    {
      "cell_type": "code",
      "source": [
        "col = list(df.columns)\n",
        "col = np.array(col).reshape(3, 4)\n",
        "\n",
        "fig, axes = plt.subplots(3, 4, figsize=(20, 15))\n",
        "for i in range(3):\n",
        "  for j in range(4):\n",
        "    sns.histplot(df, x=col[i][j], ax=axes[i][j], kde=True)\n",
        "plt.show()"
      ],
      "metadata": {
        "colab": {
          "base_uri": "https://localhost:8080/",
          "height": 879
        },
        "id": "eoe1_RHREbpz",
        "outputId": "e5e21427-3fa8-4886-f92a-24dd24a88075"
      },
      "execution_count": 479,
      "outputs": [
        {
          "output_type": "display_data",
          "data": {
            "text/plain": [
              "<Figure size 1440x1080 with 12 Axes>"
            ],
            "image/png": "[encoded data removed]"
          },
          "metadata": {
            "needs_background": "light"
          }
        }
      ]
    },
    {
      "cell_type": "code",
      "source": [
        "df[\"quality\"] = df[\"quality\"].astype(\"float32\")\n",
        "\n",
        "corr = df.corr()\n",
        "fig = px.imshow(corr,\n",
        "                x=df.columns,\n",
        "                y=df.columns)\n",
        "\n",
        "df[\"quality\"] = df[\"quality\"].astype(\"int8\")\n",
        "fig.show()"
      ],
      "metadata": {
        "colab": {
          "base_uri": "https://localhost:8080/",
          "height": 542
        },
        "id": "682Tgx3Kr2NB",
        "outputId": "a74251c7-2302-4113-9774-ffc865a3472e"
      },
      "execution_count": 480,
      "outputs": [
        {
          "output_type": "display_data",
          "data": {
            "text/html": [
              "<html>\n",
              "<head><meta charset=\"utf-8\" /></head>\n",
              "<body>\n",
              "    <div>            <script src=\"https://cdnjs.cloudflare.com/ajax/libs/mathjax/2.7.5/MathJax.js?config=TeX-AMS-MML_SVG\"></script><script type=\"text/javascript\">if (window.MathJax) {MathJax.Hub.Config({SVG: {font: \"STIX-Web\"}});}</script>                <script type=\"text/javascript\">window.PlotlyConfig = {MathJaxConfig: 'local'};</script>\n",
              "        <script src=\"https://cdn.plot.ly/plotly-2.8.3.min.js\"></script>                <div id=\"44d83f79-627a-4277-8327-3d43d2d24750\" class=\"plotly-graph-div\" style=\"height:525px; width:100%;\"></div>            <script type=\"text/javascript\">                                    window.PLOTLYENV=window.PLOTLYENV || {};                                    if (document.getElementById(\"44d83f79-627a-4277-8327-3d43d2d24750\")) {                    Plotly.newPlot(                        \"44d83f79-627a-4277-8327-3d43d2d24750\",                        [{\"coloraxis\":\"coloraxis\",\"name\":\"0\",\"x\":[\"fixed acidity\",\"volatile acidity\",\"citric acid\",\"residual sugar\",\"chlorides\",\"free sulfur dioxide\",\"total sulfur dioxide\",\"density\",\"pH\",\"sulphates\",\"alcohol\",\"quality\"],\"y\":[\"fixed acidity\",\"volatile acidity\",\"citric acid\",\"residual sugar\",\"chlorides\",\"free sulfur dioxide\",\"total sulfur dioxide\",\"density\",\"pH\",\"sulphates\",\"alcohol\",\"quality\"],\"z\":[[1.0,-0.2507283222922267,0.6731572507629235,0.17183053523615718,0.10788856981486475,-0.16483079329778236,-0.11062836769999605,0.6815008826691703,-0.6851625988235482,0.1745918252127846,-0.07505485317982612,0.12197009989725939],[-0.2507283222922267,1.0,-0.5441869374183994,-0.005751096727715598,0.05633625898948119,-0.0019624789024567917,0.07774772174216345,0.01651151969842792,0.2214915179882762,-0.27607859664162426,-0.20390927263243766,-0.40739351292438425],[0.6731572507629235,-0.5441869374183994,1.0,0.17581485365184404,0.24531248978995243,-0.05758910401502515,0.0368711101713151,0.3752432604912532,-0.5463391381265055,0.33123175783491793,0.106250343253282,0.24082083714719305],[0.17183053523615718,-0.005751096727715598,0.17581485365184404,1.0,0.07086311181911287,0.1653387971252345,0.1907900349517252,0.38014695171471213,-0.11695893598551792,0.01747450374054128,0.05842060594172391,0.02200193057996692],[0.10788856981486475,0.05633625898948119,0.24531248978995243,0.07086311181911287,1.0,0.015280458103643783,0.04816316089792963,0.20890071067822524,-0.2777590680558625,0.37478389389790284,-0.2299170942071166,-0.12408453132892894],[-0.16483079329778236,-0.0019624789024567917,-0.05758910401502515,0.1653387971252345,0.015280458103643783,1.0,0.6610928721834333,-0.054150318124640315,0.0728037064384535,0.03444512164275631,-0.047094832015450706,-0.06325964147253875],[-0.11062836769999605,0.07774772174216345,0.0368711101713151,0.1907900349517252,0.04816316089792963,0.6610928721834333,1.0,0.05017482698912892,-0.0591257200125416,0.026893682152839316,-0.18816479879899578,-0.18333914747213004],[0.6815008826691703,0.01651151969842792,0.3752432604912532,0.38014695171471213,0.20890071067822524,-0.054150318124640315,0.05017482698912892,1.0,-0.3527746247768655,0.14313929001288817,-0.49472689818400944,-0.17520792322644704],[-0.6851625988235482,0.2214915179882762,-0.5463391381265055,-0.11695893598551792,-0.2777590680558625,0.0728037064384535,-0.0591257200125416,-0.3527746247768655,1.0,-0.18549903114396318,0.22532220287324645,-0.05245303335788242],[0.1745918252127846,-0.27607859664162426,0.33123175783491793,0.01747450374054128,0.37478389389790284,0.03444512164275631,0.026893682152839316,0.14313929001288817,-0.18549903114396318,1.0,0.094421126411993,0.2577102599306222],[-0.07505485317982612,-0.20390927263243766,0.106250343253282,0.05842060594172391,-0.2299170942071166,-0.047094832015450706,-0.18816479879899578,-0.49472689818400944,0.22532220287324645,0.094421126411993,1.0,0.48486621180851264],[0.12197009989725939,-0.40739351292438425,0.24082083714719305,0.02200193057996692,-0.12408453132892894,-0.06325964147253875,-0.18333914747213004,-0.17520792322644704,-0.05245303335788242,0.2577102599306222,0.48486621180851264,1.0]],\"type\":\"heatmap\",\"xaxis\":\"x\",\"yaxis\":\"y\",\"hovertemplate\":\"x: %{x}<br>y: %{y}<br>color: %{z}<extra></extra>\"}],                        {\"template\":{\"data\":{\"bar\":[{\"error_x\":{\"color\":\"#2a3f5f\"},\"error_y\":{\"color\":\"#2a3f5f\"},\"marker\":{\"line\":{\"color\":\"#E5ECF6\",\"width\":0.5},\"pattern\":{\"fillmode\":\"overlay\",\"size\":10,\"solidity\":0.2}},\"type\":\"bar\"}],\"barpolar\":[{\"marker\":{\"line\":{\"color\":\"#E5ECF6\",\"width\":0.5},\"pattern\":{\"fillmode\":\"overlay\",\"size\":10,\"solidity\":0.2}},\"type\":\"barpolar\"}],\"carpet\":[{\"aaxis\":{\"endlinecolor\":\"#2a3f5f\",\"gridcolor\":\"white\",\"linecolor\":\"white\",\"minorgridcolor\":\"white\",\"startlinecolor\":\"#2a3f5f\"},\"baxis\":{\"endlinecolor\":\"#2a3f5f\",\"gridcolor\":\"white\",\"linecolor\":\"white\",\"minorgridcolor\":\"white\",\"startlinecolor\":\"#2a3f5f\"},\"type\":\"carpet\"}],\"choropleth\":[{\"colorbar\":{\"outlinewidth\":0,\"ticks\":\"\"},\"type\":\"choropleth\"}],\"contour\":[{\"colorbar\":{\"outlinewidth\":0,\"ticks\":\"\"},\"colorscale\":[[0.0,\"#0d0887\"],[0.1111111111111111,\"#46039f\"],[0.2222222222222222,\"#7201a8\"],[0.3333333333333333,\"#9c179e\"],[0.4444444444444444,\"#bd3786\"],[0.5555555555555556,\"#d8576b\"],[0.6666666666666666,\"#ed7953\"],[0.7777777777777778,\"#fb9f3a\"],[0.8888888888888888,\"#fdca26\"],[1.0,\"#f0f921\"]],\"type\":\"contour\"}],\"contourcarpet\":[{\"colorbar\":{\"outlinewidth\":0,\"ticks\":\"\"},\"type\":\"contourcarpet\"}],\"heatmap\":[{\"colorbar\":{\"outlinewidth\":0,\"ticks\":\"\"},\"colorscale\":[[0.0,\"#0d0887\"],[0.1111111111111111,\"#46039f\"],[0.2222222222222222,\"#7201a8\"],[0.3333333333333333,\"#9c179e\"],[0.4444444444444444,\"#bd3786\"],[0.5555555555555556,\"#d8576b\"],[0.6666666666666666,\"#ed7953\"],[0.7777777777777778,\"#fb9f3a\"],[0.8888888888888888,\"#fdca26\"],[1.0,\"#f0f921\"]],\"type\":\"heatmap\"}],\"heatmapgl\":[{\"colorbar\":{\"outlinewidth\":0,\"ticks\":\"\"},\"colorscale\":[[0.0,\"#0d0887\"],[0.1111111111111111,\"#46039f\"],[0.2222222222222222,\"#7201a8\"],[0.3333333333333333,\"#9c179e\"],[0.4444444444444444,\"#bd3786\"],[0.5555555555555556,\"#d8576b\"],[0.6666666666666666,\"#ed7953\"],[0.7777777777777778,\"#fb9f3a\"],[0.8888888888888888,\"#fdca26\"],[1.0,\"#f0f921\"]],\"type\":\"heatmapgl\"}],\"histogram\":[{\"marker\":{\"pattern\":{\"fillmode\":\"overlay\",\"size\":10,\"solidity\":0.2}},\"type\":\"histogram\"}],\"histogram2d\":[{\"colorbar\":{\"outlinewidth\":0,\"ticks\":\"\"},\"colorscale\":[[0.0,\"#0d0887\"],[0.1111111111111111,\"#46039f\"],[0.2222222222222222,\"#7201a8\"],[0.3333333333333333,\"#9c179e\"],[0.4444444444444444,\"#bd3786\"],[0.5555555555555556,\"#d8576b\"],[0.6666666666666666,\"#ed7953\"],[0.7777777777777778,\"#fb9f3a\"],[0.8888888888888888,\"#fdca26\"],[1.0,\"#f0f921\"]],\"type\":\"histogram2d\"}],\"histogram2dcontour\":[{\"colorbar\":{\"outlinewidth\":0,\"ticks\":\"\"},\"colorscale\":[[0.0,\"#0d0887\"],[0.1111111111111111,\"#46039f\"],[0.2222222222222222,\"#7201a8\"],[0.3333333333333333,\"#9c179e\"],[0.4444444444444444,\"#bd3786\"],[0.5555555555555556,\"#d8576b\"],[0.6666666666666666,\"#ed7953\"],[0.7777777777777778,\"#fb9f3a\"],[0.8888888888888888,\"#fdca26\"],[1.0,\"#f0f921\"]],\"type\":\"histogram2dcontour\"}],\"mesh3d\":[{\"colorbar\":{\"outlinewidth\":0,\"ticks\":\"\"},\"type\":\"mesh3d\"}],\"parcoords\":[{\"line\":{\"colorbar\":{\"outlinewidth\":0,\"ticks\":\"\"}},\"type\":\"parcoords\"}],\"pie\":[{\"automargin\":true,\"type\":\"pie\"}],\"scatter\":[{\"marker\":{\"colorbar\":{\"outlinewidth\":0,\"ticks\":\"\"}},\"type\":\"scatter\"}],\"scatter3d\":[{\"line\":{\"colorbar\":{\"outlinewidth\":0,\"ticks\":\"\"}},\"marker\":{\"colorbar\":{\"outlinewidth\":0,\"ticks\":\"\"}},\"type\":\"scatter3d\"}],\"scattercarpet\":[{\"marker\":{\"colorbar\":{\"outlinewidth\":0,\"ticks\":\"\"}},\"type\":\"scattercarpet\"}],\"scattergeo\":[{\"marker\":{\"colorbar\":{\"outlinewidth\":0,\"ticks\":\"\"}},\"type\":\"scattergeo\"}],\"scattergl\":[{\"marker\":{\"colorbar\":{\"outlinewidth\":0,\"ticks\":\"\"}},\"type\":\"scattergl\"}],\"scattermapbox\":[{\"marker\":{\"colorbar\":{\"outlinewidth\":0,\"ticks\":\"\"}},\"type\":\"scattermapbox\"}],\"scatterpolar\":[{\"marker\":{\"colorbar\":{\"outlinewidth\":0,\"ticks\":\"\"}},\"type\":\"scatterpolar\"}],\"scatterpolargl\":[{\"marker\":{\"colorbar\":{\"outlinewidth\":0,\"ticks\":\"\"}},\"type\":\"scatterpolargl\"}],\"scatterternary\":[{\"marker\":{\"colorbar\":{\"outlinewidth\":0,\"ticks\":\"\"}},\"type\":\"scatterternary\"}],\"surface\":[{\"colorbar\":{\"outlinewidth\":0,\"ticks\":\"\"},\"colorscale\":[[0.0,\"#0d0887\"],[0.1111111111111111,\"#46039f\"],[0.2222222222222222,\"#7201a8\"],[0.3333333333333333,\"#9c179e\"],[0.4444444444444444,\"#bd3786\"],[0.5555555555555556,\"#d8576b\"],[0.6666666666666666,\"#ed7953\"],[0.7777777777777778,\"#fb9f3a\"],[0.8888888888888888,\"#fdca26\"],[1.0,\"#f0f921\"]],\"type\":\"surface\"}],\"table\":[{\"cells\":{\"fill\":{\"color\":\"#EBF0F8\"},\"line\":{\"color\":\"white\"}},\"header\":{\"fill\":{\"color\":\"#C8D4E3\"},\"line\":{\"color\":\"white\"}},\"type\":\"table\"}]},\"layout\":{\"annotationdefaults\":{\"arrowcolor\":\"#2a3f5f\",\"arrowhead\":0,\"arrowwidth\":1},\"autotypenumbers\":\"strict\",\"coloraxis\":{\"colorbar\":{\"outlinewidth\":0,\"ticks\":\"\"}},\"colorscale\":{\"diverging\":[[0,\"#8e0152\"],[0.1,\"#c51b7d\"],[0.2,\"#de77ae\"],[0.3,\"#f1b6da\"],[0.4,\"#fde0ef\"],[0.5,\"#f7f7f7\"],[0.6,\"#e6f5d0\"],[0.7,\"#b8e186\"],[0.8,\"#7fbc41\"],[0.9,\"#4d9221\"],[1,\"#276419\"]],\"sequential\":[[0.0,\"#0d0887\"],[0.1111111111111111,\"#46039f\"],[0.2222222222222222,\"#7201a8\"],[0.3333333333333333,\"#9c179e\"],[0.4444444444444444,\"#bd3786\"],[0.5555555555555556,\"#d8576b\"],[0.6666666666666666,\"#ed7953\"],[0.7777777777777778,\"#fb9f3a\"],[0.8888888888888888,\"#fdca26\"],[1.0,\"#f0f921\"]],\"sequentialminus\":[[0.0,\"#0d0887\"],[0.1111111111111111,\"#46039f\"],[0.2222222222222222,\"#7201a8\"],[0.3333333333333333,\"#9c179e\"],[0.4444444444444444,\"#bd3786\"],[0.5555555555555556,\"#d8576b\"],[0.6666666666666666,\"#ed7953\"],[0.7777777777777778,\"#fb9f3a\"],[0.8888888888888888,\"#fdca26\"],[1.0,\"#f0f921\"]]},\"colorway\":[\"#636efa\",\"#EF553B\",\"#00cc96\",\"#ab63fa\",\"#FFA15A\",\"#19d3f3\",\"#FF6692\",\"#B6E880\",\"#FF97FF\",\"#FECB52\"],\"font\":{\"color\":\"#2a3f5f\"},\"geo\":{\"bgcolor\":\"white\",\"lakecolor\":\"white\",\"landcolor\":\"#E5ECF6\",\"showlakes\":true,\"showland\":true,\"subunitcolor\":\"white\"},\"hoverlabel\":{\"align\":\"left\"},\"hovermode\":\"closest\",\"mapbox\":{\"style\":\"light\"},\"paper_bgcolor\":\"white\",\"plot_bgcolor\":\"#E5ECF6\",\"polar\":{\"angularaxis\":{\"gridcolor\":\"white\",\"linecolor\":\"white\",\"ticks\":\"\"},\"bgcolor\":\"#E5ECF6\",\"radialaxis\":{\"gridcolor\":\"white\",\"linecolor\":\"white\",\"ticks\":\"\"}},\"scene\":{\"xaxis\":{\"backgroundcolor\":\"#E5ECF6\",\"gridcolor\":\"white\",\"gridwidth\":2,\"linecolor\":\"white\",\"showbackground\":true,\"ticks\":\"\",\"zerolinecolor\":\"white\"},\"yaxis\":{\"backgroundcolor\":\"#E5ECF6\",\"gridcolor\":\"white\",\"gridwidth\":2,\"linecolor\":\"white\",\"showbackground\":true,\"ticks\":\"\",\"zerolinecolor\":\"white\"},\"zaxis\":{\"backgroundcolor\":\"#E5ECF6\",\"gridcolor\":\"white\",\"gridwidth\":2,\"linecolor\":\"white\",\"showbackground\":true,\"ticks\":\"\",\"zerolinecolor\":\"white\"}},\"shapedefaults\":{\"line\":{\"color\":\"#2a3f5f\"}},\"ternary\":{\"aaxis\":{\"gridcolor\":\"white\",\"linecolor\":\"white\",\"ticks\":\"\"},\"baxis\":{\"gridcolor\":\"white\",\"linecolor\":\"white\",\"ticks\":\"\"},\"bgcolor\":\"#E5ECF6\",\"caxis\":{\"gridcolor\":\"white\",\"linecolor\":\"white\",\"ticks\":\"\"}},\"title\":{\"x\":0.05},\"xaxis\":{\"automargin\":true,\"gridcolor\":\"white\",\"linecolor\":\"white\",\"ticks\":\"\",\"title\":{\"standoff\":15},\"zerolinecolor\":\"white\",\"zerolinewidth\":2},\"yaxis\":{\"automargin\":true,\"gridcolor\":\"white\",\"linecolor\":\"white\",\"ticks\":\"\",\"title\":{\"standoff\":15},\"zerolinecolor\":\"white\",\"zerolinewidth\":2}}},\"xaxis\":{\"anchor\":\"y\",\"domain\":[0.0,1.0],\"scaleanchor\":\"y\",\"constrain\":\"domain\"},\"yaxis\":{\"anchor\":\"x\",\"domain\":[0.0,1.0],\"autorange\":\"reversed\",\"constrain\":\"domain\"},\"coloraxis\":{\"colorscale\":[[0.0,\"#0d0887\"],[0.1111111111111111,\"#46039f\"],[0.2222222222222222,\"#7201a8\"],[0.3333333333333333,\"#9c179e\"],[0.4444444444444444,\"#bd3786\"],[0.5555555555555556,\"#d8576b\"],[0.6666666666666666,\"#ed7953\"],[0.7777777777777778,\"#fb9f3a\"],[0.8888888888888888,\"#fdca26\"],[1.0,\"#f0f921\"]]},\"margin\":{\"t\":60}},                        {\"responsive\": true}                    ).then(function(){\n",
              "                            \n",
              "var gd = document.getElementById('44d83f79-627a-4277-8327-3d43d2d24750');\n",
              "var x = new MutationObserver(function (mutations, observer) {{\n",
              "        var display = window.getComputedStyle(gd).display;\n",
              "        if (!display || display === 'none') {{\n",
              "            console.log([gd, 'removed!']);\n",
              "            Plotly.purge(gd);\n",
              "            observer.disconnect();\n",
              "        }}\n",
              "}});\n",
              "\n",
              "// Listen for the removal of the full notebook cells\n",
              "var notebookContainer = gd.closest('#notebook-container');\n",
              "if (notebookContainer) {{\n",
              "    x.observe(notebookContainer, {childList: true});\n",
              "}}\n",
              "\n",
              "// Listen for the clearing of the current output cell\n",
              "var outputEl = gd.closest('.output');\n",
              "if (outputEl) {{\n",
              "    x.observe(outputEl, {childList: true});\n",
              "}}\n",
              "\n",
              "                        })                };                            </script>        </div>\n",
              "</body>\n",
              "</html>"
            ]
          },
          "metadata": {}
        }
      ]
    },
    {
      "cell_type": "markdown",
      "source": [
        "We can see that the highest correlation between our target variable and alcohol. Another high correlation is between density and fixed acidity. Let's explore scatter plot."
      ],
      "metadata": {
        "id": "_qYp5RPdEQBz"
      }
    },
    {
      "cell_type": "code",
      "source": [
        "fig = px.scatter(df, x=\"density\", y=\"fixed acidity\", title=\"Density vs Fixed Acidity\", color=\"quality\")\n",
        "fig.show()"
      ],
      "metadata": {
        "colab": {
          "base_uri": "https://localhost:8080/",
          "height": 542
        },
        "id": "aiqSGlQbC5Zn",
        "outputId": "4407fbff-7b24-4071-9b97-a0848dd456dd"
      },
      "execution_count": 481,
      "outputs": [
        {
          "output_type": "display_data",
          "data": {
            "text/html": [
              "<html>\n",
              "<head><meta charset=\"utf-8\" /></head>\n",
              "<body>\n",
              "    <div>            <script src=\"https://cdnjs.cloudflare.com/ajax/libs/mathjax/2.7.5/MathJax.js?config=TeX-AMS-MML_SVG\"></script><script type=\"text/javascript\">if (window.MathJax) {MathJax.Hub.Config({SVG: {font: \"STIX-Web\"}});}</script>                <script type=\"text/javascript\">window.PlotlyConfig = {MathJaxConfig: 'local'};</script>\n",
              "        <script src=\"https://cdn.plot.ly/plotly-2.8.3.min.js\"></script>                <div id=\"83fe7ca6-a67b-41f1-ba7d-bdc5cd57e0fd\" class=\"plotly-graph-div\" style=\"height:525px; width:100%;\"></div>            <script type=\"text/javascript\">                                    window.PLOTLYENV=window.PLOTLYENV || {};                                    if (document.getElementById(\"83fe7ca6-a67b-41f1-ba7d-bdc5cd57e0fd\")) {                    Plotly.newPlot(                        \"83fe7ca6-a67b-41f1-ba7d-bdc5cd57e0fd\",                        [{\"hovertemplate\":\"density=%{x}<br>fixed acidity=%{y}<br>quality=%{marker.color}<extra></extra>\",\"legendgroup\":\"\",\"marker\":{\"color\":[5,5,5,6,5,5,5,7,7,5,5,5,7,6,5,5,5,6,5,5,5,6,5,5,5,6,6,7,5,4,6,5,4,5,5,6,6,5,6,5,5,6,5,5,5,5,5,5,6,5,4,5,6,5,4,5,5,6,5,6,5,5,5,5,6,5,4,5,5,6,6,6,5,5,5,5,5,5,5,6,5,6,6,5,6,5,5,5,5,7,5,5,6,5,5,5,6,5,6,5,5,6,6,4,5,5,5,5,5,5,6,5,4,6,5,5,5,5,4,6,4,6,6,5,5,6,5,5,5,5,5,5,6,5,5,5,5,6,5,5,5,6,4,7,6,7,7,5,6,6,5,6,5,5,5,5,6,5,5,6,6,6,7,6,6,6,6,5,6,6,7,7,6,5,6,6,6,5,5,5,5,5,5,7,5,4,5,5,5,4,8,6,6,6,6,6,6,8,7,6,7,7,5,5,6,6,7,5,7,6,6,6,5,5,5,5,6,6,5,5,5,6,6,6,6,5,5,7,6,5,6,6,7,5,6,5,7,7,6,5,7,6,6,6,6,6,6,5,5,6,6,5,7,7,6,5,6,5,5,7,7,5,7,6,6,6,7,6,6,5,6,8,6,5,7,5,6,5,5,6,6,5,6,7,4,6,5,7,5,5,6,5,6,5,7,5,7,7,6,6,5,6,7,5,5,6,5,6,6,5,8,7,7,5,5,6,6,6,6,7,5,8,5,5,3,6,5,6,6,6,6,5,5,6,6,5,5,6,6,5,8,5,5,6,6,7,7,6,6,8,6,5,8,6,6,7,7,7,7,7,6,7,6,6,7,7,5,6,3,6,5,5,6,5,6,5,5,6,6,6,5,6,7,5,5,6,5,6,6,5,6,6,6,6,6,6,5,5,6,5,6,5,5,6,6,5,6,6,6,6,5,4,5,5,6,5,5,7,5,8,5,6,5,5,5,6,6,5,6,6,6,6,5,5,6,5,6,5,5,5,5,5,5,5,6,5,6,5,6,4,5,5,5,5,6,5,5,5,4,7,6,5,5,6,5,5,5,7,6,6,5,6,5,6,6,6,5,5,6,5,5,5,6,5,5,5,5,5,5,5,5,5,5,6,6,5,6,6,6,6,4,4,5,5,5,6,5,5,5,5,5,5,5,5,5,5,6,5,5,6,5,5,5,5,5,5,6,5,6,5,5,6,6,6,6,5,5,5,6,6,6,5,5,5,5,5,6,6,6,5,6,5,6,5,5,6,5,6,5,5,6,5,5,5,6,6,5,6,5,6,5,6,5,5,7,6,5,7,6,6,7,5,6,5,6,4,6,5,5,7,5,5,7,5,4,6,4,7,7,7,5,6,5,5,6,5,5,5,6,6,6,7,7,5,5,5,5,5,4,7,6,6,6,6,5,6,6,5,5,6,5,6,6,7,6,7,5,7,7,7,5,6,6,6,6,6,6,5,6,6,6,5,6,5,7,6,4,5,7,5,6,5,6,5,7,7,7,7,7,7,7,7,7,7,5,6,7,6,5,5,6,5,6,6,7,5,5,7,6,5,6,6,6,5,5,6,5,5,5,6,6,6,7,5,7,7,7,7,7,6,5,6,6,7,6,5,6,6,5,6,7,6,6,5,7,5,6,7,7,7,6,6,6,6,6,5,6,6,5,5,7,6,7,5,7,7,6,8,6,6,6,6,7,7,5,7,5,6,6,5,7,7,6,6,5,7,6,7,7,8,6,6,7,6,6,5,6,6,6,6,5,7,5,6,6,7,6,6,6,6,6,6,5,8,6,7,6,5,6,7,7,7,6,6,5,6,6,6,6,6,5,6,6,7,6,6,6,5,6,5,7,7,7,5,7,6,6,6,6,6,6,6,4,5,6,5,5,5,5,4,6,5,7,6,6,6,6,6,6,7,8,5,7,7,5,7,7,6,6,6,6,6,6,6,6,5,5,5,7,5,6,5,5,6,6,6,4,4,5,5,5,5,6,5,5,5,5,5,6,6,5,4,5,6,6,6,6,6,6,6,5,5,6,6,4,6,6,7,6,6,6,6,5,5,5,5,5,6,6,5,6,6,3,6,6,6,5,5,5,5,6,5,6,6,6,6,5,6,6,6,6,5,6,6,5,6,5,5,6,5,5,5,6,6,6,6,5,6,5,5,6,5,5,5,6,5,6,5,6,6,5,6,6,5,6,5,5,6,6,6,5,5,5,5,5,5,6,5,5,5,6,5,5,6,5,6,8,6,6,6,7,6,6,6,6,5,5,5,5,7,5,5,5,5,6,4,5,5,5,5,6,7,6,5,5,5,6,5,6,5,8,7,7,7,6,6,5,5,7,6,4,6,5,7,4,7,3,5,5,6,5,5,7,5,7,3,5,4,5,5,5,5,5,5,6,5,5,7,6,6,6,5,6,6,3,6,6,6,5,6,5,6,6,6,5,5,5,5,5,6,6,6,6,5,6,5,7,6,5,6,7,6,5,5,8,5,6,5,7,5,6,5,5,5,5,5,5,6,6,5,5,6,6,6,5,6,6,6,6,6,6,5,5,7,6,6,6,6,6,6,5,6,5],\"coloraxis\":\"coloraxis\",\"symbol\":\"circle\"},\"mode\":\"markers\",\"name\":\"\",\"showlegend\":false,\"x\":[0.9978,0.9968,0.997,0.998,0.9978,0.9978,0.9964,0.9946,0.9968,0.9959,0.9943,0.9974,0.9969,0.9969,0.9982,0.9966,0.9968,0.9968,0.9955,0.9962,0.9972,0.9964,0.9958,0.9966,0.9957,0.9986,0.9975,0.9968,0.9978,0.9976,0.9968,0.9968,0.9934,0.997,0.9971,0.9956,0.9955,0.997,0.9955,0.9971,0.9975,0.9962,0.998,0.9968,0.9966,0.9962,0.9962,0.9962,0.9962,0.9961,0.9976,0.9986,0.9966,0.9958,0.9972,0.9958,0.997,0.9959,0.9961,0.9972,0.9966,0.9978,0.9978,0.9964,0.9972,0.9966,0.9938,0.9965,0.9967,0.9972,0.9972,0.9972,0.9967,0.996,0.9967,0.9973,0.9969,0.9964,0.9964,0.9988,0.9964,0.9966,0.9978,0.9962,0.9962,0.998,0.996,0.9964,0.9964,0.9962,0.9968,0.9937,0.9959,0.9965,0.9972,0.9965,0.9916,0.9954,0.9916,0.9968,0.9944,0.9959,0.9958,0.9996,0.995,0.995,0.9973,0.9973,0.9973,0.9969,0.9968,0.9959,0.9965,0.9964,0.9982,0.9981,0.9961,0.9956,0.9956,0.9953,0.9972,0.9972,0.9961,0.9958,0.9961,0.9972,0.9969,0.9969,0.9969,0.9972,0.9972,0.9971,0.997,0.9971,0.9972,0.9968,0.9976,0.9974,0.9964,0.9964,0.9968,0.9981,0.9948,0.99695,0.99615,0.9994,0.9994,0.9966,0.99585,0.99685,0.9959,0.9974,0.9974,0.9962,0.9967,0.9957,0.9964,0.9957,0.99525,0.99815,0.99615,0.9964,0.9927,0.99625,0.998,0.99685,0.99675,0.9971,0.99925,0.99565,1.00005,1.00005,0.9983,0.99685,0.9983,0.9985,0.9972,0.9986,0.9959,0.99675,0.998,0.9968,0.9968,0.99965,0.99625,0.99565,0.99575,0.9963,0.9999,1.00025,0.9973,0.9987,0.9996,0.9965,0.9965,0.9987,0.9996,0.9976,0.9991,0.9986,0.9972,0.9991,1.00015,1.00015,0.9997,0.9967,0.9976,1.001,0.9976,0.9994,0.9964,1.0014,1.0001,0.9981,0.99855,0.9993,0.9965,0.9973,0.9994,0.9973,0.9966,0.9994,0.9994,0.996,0.99815,0.9976,0.99645,0.9989,0.99865,0.99975,1.0015,1.0015,0.9978,0.998,1.0002,0.9958,0.9963,0.9992,0.9948,0.9974,0.9997,0.9982,0.9982,1.0006,0.9986,0.9979,0.9994,0.9974,1.0018,0.9912,0.9955,1.0001,0.997,1.0,1.001,0.9973,0.9982,0.9992,0.9988,1.0022,1.0022,1.0,0.9962,0.9967,0.9967,1.0003,0.9962,0.9988,0.9974,0.998,0.9981,0.9924,1.0014,0.998,1.0004,0.9994,0.9988,0.9963,0.9994,1.0,0.9994,0.9974,0.9981,0.9996,0.9981,0.9987,0.9966,0.9986,0.9982,1.0014,0.997,0.9956,0.9996,0.9976,0.9952,0.9955,0.9978,0.9952,0.9949,0.9988,0.9978,0.9997,0.9978,0.9974,1.0004,0.9996,1.0004,0.9958,0.9986,0.9951,0.9987,1.0032,0.9934,0.9996,0.9968,0.9967,0.9994,0.9994,0.9968,0.9998,0.9952,0.9988,0.9986,0.9988,1.0008,0.9976,0.9982,0.9987,0.9982,0.9947,1.0,0.9952,0.9996,0.997,0.9995,0.9988,0.998,0.9977,0.9984,1.0026,0.9964,0.9986,0.9976,0.9982,0.9984,0.9952,0.995,1.0002,0.9952,0.9972,0.9984,0.9966,0.9972,1.0002,0.9984,0.999,0.999,0.9976,0.9968,0.9976,1.0,0.9986,0.9994,0.998,0.9973,0.9973,1.001,1.001,0.9994,0.9982,0.9978,0.9976,0.9962,0.9974,0.999,1.0004,1.0004,0.9956,1.0,0.999,0.9974,0.9972,1.0014,0.9996,0.9988,0.9988,0.9966,0.9993,1.0008,0.9982,0.9983,0.9987,0.9994,0.9958,0.998,0.998,0.9934,1.00315,1.0002,1.00315,1.0021,0.9994,0.9982,0.9971,1.0021,0.9994,0.9991,0.999,0.9946,1.0003,0.9978,0.9978,0.9982,0.9982,0.9976,1.0002,1.0002,0.9976,0.9967,0.9917,0.9987,0.9922,0.9987,1.0004,0.9998,0.9994,0.9967,0.9975,0.9984,0.9982,1.0026,0.9956,0.9983,1.0006,0.9965,0.9997,0.9982,0.9988,0.9976,0.9976,0.9974,0.9997,0.9988,0.9988,0.9976,0.9964,0.9976,0.9988,0.9964,1.001,0.9964,0.9954,0.9979,0.9978,0.997,0.9991,0.9991,0.9991,0.9967,0.9964,0.9948,0.9986,0.9976,0.9976,0.9979,1.0004,0.9986,0.998,0.9973,0.9973,0.9978,0.9972,0.9981,0.998,0.9988,0.9988,0.9968,0.9968,0.9984,0.9979,0.9983,0.9972,0.9962,0.998,0.997,0.998,0.997,0.9962,0.9976,0.9998,0.9979,0.9984,0.9984,0.9921,0.9972,1.0001,0.9986,0.9984,0.9972,0.997,0.9972,0.998,0.999,0.9956,0.9966,0.996,0.9985,0.9998,0.998,0.9968,0.9976,0.9976,0.9976,0.9982,0.9965,0.9976,0.9994,0.997,0.997,0.995,0.9982,0.9994,0.9966,0.998,0.9987,0.9963,1.0002,0.999,0.9965,0.99788,1.0001,0.99768,0.9978,0.99761,0.99768,0.99803,0.99785,0.99803,0.99656,0.99525,0.99488,0.99656,0.99656,0.99823,0.99779,0.99738,0.99701,0.99888,0.99888,0.99738,0.99744,0.99668,0.99744,0.9978,0.99782,0.9973,0.99586,0.9961,0.99788,0.99745,0.99676,0.99732,0.99746,0.9982,0.9991,0.9991,0.998,0.99708,0.99818,0.99745,0.99639,0.99531,0.99786,0.99746,0.99526,0.9987,0.99735,0.99264,0.9971,0.99682,0.99386,0.99702,0.99693,0.99562,1.00012,0.99462,0.99939,0.99976,0.99606,0.99154,0.9973,0.99682,0.9951,0.99624,0.99632,0.99376,0.99836,0.99064,0.99064,0.99672,0.99629,0.99708,0.9963,0.99689,0.9977,0.99689,0.99708,0.99708,0.99652,0.99652,0.99652,0.99594,0.99686,0.99746,0.99628,0.99746,0.99748,0.99522,0.99576,0.99614,0.99371,0.99533,0.99536,0.99787,0.99824,0.99836,0.99491,1.00289,0.99743,0.99774,0.99743,0.99745,0.9955,0.99444,0.9955,0.99444,0.99562,0.99736,0.99736,0.9962,0.9964,0.9948,0.99528,0.99577,0.99901,0.99674,0.99512,0.99395,0.99824,0.9964,0.99504,0.99786,0.99504,0.99516,0.99604,0.99786,0.99736,0.99516,0.99468,0.99748,0.9971,0.99746,0.99543,0.99425,0.99484,0.99834,0.99498,0.99745,0.99408,0.99552,0.99552,0.99408,0.99536,0.99458,0.99648,0.99568,0.99519,0.99518,0.99592,0.99654,0.99518,0.99733,0.9943,0.99724,0.99658,0.997,0.99801,0.99416,0.99774,0.99712,0.99418,0.99774,0.99562,0.99693,0.99596,0.99556,0.99596,0.99694,0.99694,0.99697,0.99554,0.99162,0.99495,0.99603,0.9928,0.99516,0.99516,0.99549,0.99354,0.9957,0.99604,0.99635,0.99454,0.99486,0.99007,0.99636,0.99642,0.99642,0.99584,0.99506,0.99568,0.99822,0.99364,0.99378,0.99568,0.99854,0.99739,0.99683,0.99356,0.9953,0.99692,0.99547,0.99294,0.99438,0.99612,0.99634,0.99702,0.99704,0.99702,0.99258,0.99426,0.99747,0.99586,0.99784,0.9971,0.99586,0.9981,0.99462,0.9956,0.99565,0.99418,0.9963,0.99358,0.99572,0.997,0.99498,0.99892,0.9972,0.99534,0.99817,0.99316,0.99316,0.99685,0.99617,0.99529,0.99738,0.994,0.99735,0.99735,0.99451,0.99546,0.99479,0.99615,0.99655,0.99655,0.99666,0.99392,0.99388,0.99388,0.9936,0.99374,0.99523,0.99855,0.9982,0.99593,0.99471,0.99396,0.9902,0.99572,0.99572,0.99572,0.99252,0.99256,0.99235,0.9922,0.99394,0.99379,0.9984,0.9977,0.9933,0.99684,0.99524,0.9946,0.99774,0.99786,0.99764,0.9969,0.99624,0.99354,0.99672,0.99588,0.99672,0.996,0.99702,0.99526,0.99585,0.99352,0.99616,0.99622,0.99616,0.99524,0.9924,0.99434,0.99692,0.99528,0.99384,0.99502,0.99667,0.99649,0.99716,0.99716,0.99541,0.99572,0.99346,0.99599,0.99478,0.99572,0.99538,0.99538,0.99616,0.99652,0.99551,0.99439,0.99588,0.99633,0.99458,0.9951,0.99686,0.99458,0.99419,0.99516,0.99878,0.99534,0.99534,0.99752,0.99534,0.99428,0.99498,0.99498,0.99628,0.99677,0.99478,0.99734,0.99734,0.9992,0.99922,0.99592,0.99769,0.99157,0.99718,0.9947,0.99621,0.99718,0.99242,0.99659,0.99242,0.99798,0.99488,0.99494,0.9983,0.99655,0.99502,0.99514,0.9963,0.99627,0.99569,0.99628,0.99499,0.99633,0.99538,0.99632,0.99437,0.99726,0.99456,0.99564,0.99564,0.996,0.99668,0.99084,0.9935,0.99385,0.99494,0.9944,0.99688,0.99566,0.99636,0.99688,0.9948,0.9956,0.9956,0.99619,0.99734,0.99476,0.99734,0.99914,0.99914,0.99521,0.99638,0.99362,0.99558,0.99323,0.99191,0.99476,0.99444,0.99598,0.99576,0.9955,0.99612,0.9979,0.996,0.9929,0.99532,0.99616,0.99258,0.99652,0.99258,0.99392,0.9948,0.9948,0.9948,0.9948,0.9955,0.99616,0.99616,0.99668,0.99581,0.9976,0.99608,0.99387,0.99448,0.99448,0.99448,0.99538,0.99538,0.99538,0.99538,0.99852,0.99613,0.99472,0.99587,0.99332,0.9969,0.99464,0.99464,0.99648,0.99736,0.99704,0.99724,0.99704,0.995,0.99576,0.99725,0.99656,0.99623,0.99476,0.99623,0.9946,0.99609,0.99557,0.99557,0.99613,0.99613,0.99593,0.99668,0.9961,0.99718,0.99292,0.99612,0.9942,0.99612,0.99745,0.99745,0.99584,0.9956,0.9962,0.9963,0.996,0.9985,0.9974,0.995,0.995,0.995,0.9936,0.9963,0.9974,0.9963,0.9994,0.9966,0.9994,0.9952,0.995,0.9956,0.995,0.9965,0.9956,0.9968,0.9957,0.9962,0.996,0.9956,0.9958,0.9955,1.00369,0.99914,0.99577,0.996,0.99566,0.99322,0.99713,0.99701,0.99472,0.9947,0.99732,0.99374,0.99974,0.99467,0.99706,0.99603,0.99458,0.99724,0.99664,0.99522,0.9958,0.99728,0.99648,0.99728,0.99705,0.99578,0.99334,0.99656,0.99336,1.00242,0.99182,1.00242,0.99182,0.99808,0.99828,0.99498,0.99828,0.99542,0.99606,0.99546,0.99496,0.9942,0.99344,0.99348,0.99636,0.99459,0.99492,0.99508,0.99508,0.99642,0.99555,0.99605,0.996,0.99562,0.99605,0.99814,0.9941,0.99661,0.99712,0.99842,0.99842,0.99489,0.99647,0.99665,0.99633,0.9953,0.99552,0.99553,0.99714,0.99608,0.99444,0.99631,0.99573,0.99717,0.99397,0.9959,0.99538,0.99646,0.9955,0.99531,0.99575,0.99783,0.99419,0.99768,0.99586,0.99765,0.99514,0.99636,0.99627,0.99787,0.99622,0.99622,0.99622,0.99546,0.99546,0.99489,0.99494,0.99546,0.99629,0.99396,0.9934,0.99514,0.99632,0.99467,0.99474,0.99588,0.99622,0.9954,0.9947,0.99362,0.99578,0.99484,0.99492,0.99483,0.99314,0.99402,0.99574,0.99651,0.9949,0.99512,0.99547],\"xaxis\":\"x\",\"y\":[7.4,7.8,7.8,11.2,7.4,7.4,7.9,7.3,7.8,6.7,5.6,7.8,8.5,7.9,7.6,7.9,8.5,6.9,6.3,7.6,7.1,7.8,6.7,8.3,5.2,7.8,7.8,8.1,7.3,8.8,7.5,8.1,4.6,7.7,8.8,6.6,6.6,8.6,7.6,10.2,7.8,7.3,8.8,7.7,7.0,7.2,7.2,6.6,8.0,7.7,8.3,8.8,6.8,6.7,8.3,6.2,7.4,6.3,6.9,8.6,7.7,9.3,7.0,7.9,8.6,7.7,5.0,6.8,7.6,8.1,8.3,8.1,8.1,7.2,8.1,7.8,6.2,7.8,8.4,10.1,7.8,9.4,8.3,7.3,8.8,7.3,7.8,8.2,8.1,8.0,8.0,5.6,7.9,8.4,7.2,8.4,5.2,6.3,5.2,8.1,5.8,6.9,7.3,9.2,7.5,7.5,7.1,7.1,7.1,7.1,6.8,7.6,7.6,7.8,7.4,7.3,7.8,6.8,7.3,6.8,7.9,8.0,7.4,6.9,7.3,7.5,7.0,8.8,8.8,8.9,7.2,6.8,6.7,8.9,7.4,7.9,8.2,6.4,7.6,7.6,7.3,11.5,6.9,9.6,7.0,12.8,12.8,7.8,9.7,8.0,8.2,7.8,7.0,8.7,8.1,7.5,7.8,7.4,6.8,8.6,7.7,8.9,5.2,8.0,8.5,8.2,7.2,8.9,12.0,7.7,15.0,15.0,7.3,7.1,7.3,10.8,7.1,11.1,7.7,8.0,9.4,6.6,7.7,10.0,7.9,7.0,8.0,7.9,12.5,8.1,7.9,6.9,11.5,7.9,7.9,6.9,11.5,10.3,8.9,11.4,7.7,8.9,9.9,9.9,12.0,7.5,8.7,11.6,8.7,10.4,6.9,13.3,10.8,10.6,7.1,7.2,7.5,11.1,8.3,8.4,7.6,10.3,10.3,7.9,9.0,8.6,7.4,9.8,9.6,9.3,10.0,10.0,11.6,10.3,13.4,8.4,7.9,11.9,8.9,7.8,12.5,10.9,10.9,11.9,13.8,9.6,9.1,7.7,13.5,6.1,6.7,11.5,10.5,11.9,12.6,8.2,8.6,11.9,12.5,12.8,12.8,10.4,9.4,7.9,9.1,11.5,9.4,11.4,8.3,7.7,7.8,5.6,13.7,9.5,12.0,6.6,11.5,8.7,6.6,12.2,11.4,7.7,9.8,12.0,12.5,9.0,7.1,9.9,8.8,8.6,10.6,7.0,11.9,6.8,6.6,7.7,10.5,6.6,6.4,9.5,9.1,12.8,10.5,7.8,12.3,10.4,12.3,8.0,11.1,7.0,12.6,15.6,5.3,12.5,9.3,8.6,11.9,11.9,6.8,10.4,7.0,11.3,8.9,9.2,11.6,9.2,8.3,11.5,10.3,8.8,11.4,8.7,13.0,9.6,12.5,9.6,9.3,10.4,9.4,10.6,9.4,10.6,10.2,10.2,9.3,9.2,8.9,8.7,6.5,10.7,7.8,7.2,10.7,8.7,7.8,10.4,10.4,10.5,10.2,10.4,11.2,13.3,10.0,10.7,10.5,10.5,8.5,12.5,10.4,9.8,9.3,9.2,7.0,9.9,9.1,11.9,11.9,10.3,10.0,9.1,9.9,8.1,12.9,11.2,9.2,9.5,9.3,11.2,14.3,9.1,7.5,10.6,12.4,6.8,9.4,9.5,5.0,15.5,10.9,15.6,13.0,12.7,9.0,7.6,13.0,12.7,8.7,9.8,6.2,11.5,10.2,9.9,8.8,8.8,10.6,12.3,12.3,12.0,7.3,5.0,9.0,6.6,9.0,9.9,8.9,12.4,8.5,7.7,8.3,8.8,10.1,6.3,8.8,13.2,7.5,9.6,11.5,11.3,8.3,8.2,10.0,6.8,8.8,8.8,8.7,7.6,8.7,10.4,7.6,10.1,7.9,8.7,9.6,9.5,8.9,9.9,9.9,9.9,8.3,8.7,6.7,10.7,15.9,9.4,8.6,9.7,10.7,12.0,7.2,7.2,7.5,7.2,9.4,8.3,11.3,11.3,8.2,8.2,10.8,8.6,8.3,10.8,8.0,8.5,8.1,9.8,8.1,7.7,8.1,9.2,8.6,9.0,9.0,5.1,7.0,9.4,11.8,10.6,7.0,7.0,7.5,9.1,8.4,7.0,7.4,7.8,10.6,8.9,9.9,7.6,8.4,7.1,8.4,8.9,7.1,9.0,8.1,6.4,6.4,6.4,9.5,8.9,7.3,7.0,7.7,7.7,8.2,9.0,8.3,9.2,11.1,7.3,8.2,7.2,7.3,8.3,7.6,8.3,7.8,7.8,6.3,8.1,8.1,8.8,9.0,9.3,8.8,9.1,9.2,8.8,7.1,7.9,7.1,9.4,9.5,7.9,7.2,6.9,8.3,7.1,7.0,6.5,7.1,9.9,10.0,10.0,8.6,7.4,8.8,7.1,7.7,10.1,10.8,8.7,9.3,9.4,8.6,5.1,7.7,8.4,8.4,7.4,7.6,7.3,12.9,6.9,12.6,9.1,7.0,4.9,6.7,7.1,7.5,7.1,7.5,5.9,11.6,6.7,6.7,10.1,6.6,10.6,7.1,6.4,7.4,6.4,9.3,9.3,9.3,9.3,9.3,8.2,11.7,7.2,7.5,7.2,7.2,6.9,7.3,8.8,7.7,7.6,8.4,8.8,8.9,9.0,6.8,10.7,7.2,10.1,7.2,7.2,7.1,8.3,7.1,8.3,8.9,7.4,7.4,6.8,7.2,6.1,7.4,9.3,9.1,10.0,8.6,5.3,6.8,8.4,8.4,9.6,8.4,8.6,8.6,9.4,8.4,8.6,8.7,7.4,7.6,6.6,8.8,6.2,9.9,10.1,8.3,10.2,8.3,8.9,8.9,8.3,8.2,10.2,8.5,9.0,6.4,8.5,7.1,6.6,8.5,8.5,9.0,10.4,8.8,7.2,8.4,7.0,9.1,9.5,7.3,9.1,7.4,7.1,7.7,9.7,7.7,7.1,7.1,7.7,8.9,6.4,7.5,8.2,6.8,9.1,9.1,8.9,8.9,8.9,7.7,7.5,8.0,8.9,8.0,7.0,11.3,11.3,7.0,8.2,7.7,8.6,7.9,6.4,7.7,8.1,8.9,10.1,7.6,8.7,8.9,6.9,6.4,6.9,7.6,7.1,9.3,9.3,8.5,5.6,8.3,8.2,8.9,7.6,9.9,8.9,11.6,9.1,8.0,10.2,8.2,7.7,6.6,11.1,8.0,9.3,7.5,8.0,9.9,8.6,7.9,7.9,7.2,8.7,6.8,8.5,7.9,11.6,11.6,10.0,7.9,7.0,9.2,6.6,6.6,8.6,8.4,7.4,7.4,8.0,6.3,9.1,8.1,10.8,8.3,5.4,7.9,5.0,7.0,7.0,7.0,7.1,5.6,7.9,6.3,8.8,6.3,10.0,9.1,7.4,7.2,8.5,8.0,10.4,7.5,8.2,7.3,8.2,6.9,7.0,7.3,8.2,7.8,10.0,7.8,10.0,6.1,8.3,9.6,8.3,8.5,5.1,8.5,9.0,8.2,6.5,7.6,9.2,9.7,7.6,7.6,6.5,6.5,5.6,8.2,9.8,6.8,6.7,6.7,8.8,9.1,6.5,7.2,7.0,6.2,7.7,7.7,7.9,7.7,7.9,8.6,9.9,7.2,7.2,9.9,7.2,6.2,6.8,6.8,10.2,7.9,9.0,10.9,10.9,12.6,9.2,7.5,9.0,5.1,7.6,7.7,7.8,7.6,7.1,7.8,7.1,8.1,6.5,7.5,8.3,7.4,7.4,7.1,7.5,7.1,7.9,7.8,7.5,7.0,6.8,8.6,6.3,9.8,8.5,7.2,7.2,10.4,6.9,5.0,7.3,5.9,7.5,7.8,8.0,8.5,7.0,8.0,9.8,7.1,7.1,7.9,8.7,7.0,11.3,7.0,7.0,7.6,8.2,5.9,6.6,7.2,5.7,7.6,5.2,6.7,9.1,7.6,7.5,9.7,7.0,6.5,8.0,7.5,5.4,9.1,5.0,9.1,6.7,6.7,6.7,6.7,6.5,7.4,7.4,7.8,8.4,9.1,7.2,6.6,6.0,6.0,6.0,7.5,7.5,7.5,7.5,11.5,8.2,6.1,7.2,7.2,7.6,6.1,6.1,7.3,7.4,11.6,8.3,11.6,7.2,7.3,6.9,8.0,8.7,7.5,8.7,8.2,7.2,7.5,7.5,8.0,8.0,7.1,8.0,7.4,6.6,6.0,8.0,7.1,8.0,8.6,8.7,7.3,7.2,7.9,7.6,7.2,8.0,8.2,6.0,8.1,6.0,6.6,6.4,8.2,9.9,10.0,6.2,10.0,7.3,7.8,7.7,7.8,7.5,7.0,6.4,7.6,7.8,7.9,7.4,7.6,6.1,10.2,10.0,6.8,7.0,7.3,6.9,7.4,6.8,7.2,7.2,7.8,6.6,11.7,6.5,7.6,8.4,7.9,6.4,6.2,6.9,6.8,7.3,6.7,7.3,7.3,10.0,6.7,7.6,6.1,9.9,5.3,9.9,5.3,7.1,8.2,5.6,8.2,8.1,7.0,6.8,6.0,5.6,7.1,6.2,7.7,6.4,7.0,6.9,6.9,7.8,6.2,7.5,6.7,6.8,7.5,7.1,7.9,6.4,7.1,6.9,6.9,6.5,7.4,6.6,6.1,6.8,6.7,6.8,7.9,7.1,6.6,6.1,7.2,8.0,6.6,7.0,6.2,6.2,8.4,6.5,7.0,11.2,7.4,7.1,6.3,7.3,7.0,6.6,6.6,6.9,7.8,7.8,7.8,7.2,7.2,6.7,6.7,7.2,7.0,6.2,6.4,6.4,7.3,6.0,7.5,8.0,6.2,6.8,7.4,6.1,6.2,6.7,7.5,5.8,6.3,5.4,6.3,6.8,6.2,5.9,5.9],\"yaxis\":\"y\",\"type\":\"scattergl\"}],                        {\"template\":{\"data\":{\"bar\":[{\"error_x\":{\"color\":\"#2a3f5f\"},\"error_y\":{\"color\":\"#2a3f5f\"},\"marker\":{\"line\":{\"color\":\"#E5ECF6\",\"width\":0.5},\"pattern\":{\"fillmode\":\"overlay\",\"size\":10,\"solidity\":0.2}},\"type\":\"bar\"}],\"barpolar\":[{\"marker\":{\"line\":{\"color\":\"#E5ECF6\",\"width\":0.5},\"pattern\":{\"fillmode\":\"overlay\",\"size\":10,\"solidity\":0.2}},\"type\":\"barpolar\"}],\"carpet\":[{\"aaxis\":{\"endlinecolor\":\"#2a3f5f\",\"gridcolor\":\"white\",\"linecolor\":\"white\",\"minorgridcolor\":\"white\",\"startlinecolor\":\"#2a3f5f\"},\"baxis\":{\"endlinecolor\":\"#2a3f5f\",\"gridcolor\":\"white\",\"linecolor\":\"white\",\"minorgridcolor\":\"white\",\"startlinecolor\":\"#2a3f5f\"},\"type\":\"carpet\"}],\"choropleth\":[{\"colorbar\":{\"outlinewidth\":0,\"ticks\":\"\"},\"type\":\"choropleth\"}],\"contour\":[{\"colorbar\":{\"outlinewidth\":0,\"ticks\":\"\"},\"colorscale\":[[0.0,\"#0d0887\"],[0.1111111111111111,\"#46039f\"],[0.2222222222222222,\"#7201a8\"],[0.3333333333333333,\"#9c179e\"],[0.4444444444444444,\"#bd3786\"],[0.5555555555555556,\"#d8576b\"],[0.6666666666666666,\"#ed7953\"],[0.7777777777777778,\"#fb9f3a\"],[0.8888888888888888,\"#fdca26\"],[1.0,\"#f0f921\"]],\"type\":\"contour\"}],\"contourcarpet\":[{\"colorbar\":{\"outlinewidth\":0,\"ticks\":\"\"},\"type\":\"contourcarpet\"}],\"heatmap\":[{\"colorbar\":{\"outlinewidth\":0,\"ticks\":\"\"},\"colorscale\":[[0.0,\"#0d0887\"],[0.1111111111111111,\"#46039f\"],[0.2222222222222222,\"#7201a8\"],[0.3333333333333333,\"#9c179e\"],[0.4444444444444444,\"#bd3786\"],[0.5555555555555556,\"#d8576b\"],[0.6666666666666666,\"#ed7953\"],[0.7777777777777778,\"#fb9f3a\"],[0.8888888888888888,\"#fdca26\"],[1.0,\"#f0f921\"]],\"type\":\"heatmap\"}],\"heatmapgl\":[{\"colorbar\":{\"outlinewidth\":0,\"ticks\":\"\"},\"colorscale\":[[0.0,\"#0d0887\"],[0.1111111111111111,\"#46039f\"],[0.2222222222222222,\"#7201a8\"],[0.3333333333333333,\"#9c179e\"],[0.4444444444444444,\"#bd3786\"],[0.5555555555555556,\"#d8576b\"],[0.6666666666666666,\"#ed7953\"],[0.7777777777777778,\"#fb9f3a\"],[0.8888888888888888,\"#fdca26\"],[1.0,\"#f0f921\"]],\"type\":\"heatmapgl\"}],\"histogram\":[{\"marker\":{\"pattern\":{\"fillmode\":\"overlay\",\"size\":10,\"solidity\":0.2}},\"type\":\"histogram\"}],\"histogram2d\":[{\"colorbar\":{\"outlinewidth\":0,\"ticks\":\"\"},\"colorscale\":[[0.0,\"#0d0887\"],[0.1111111111111111,\"#46039f\"],[0.2222222222222222,\"#7201a8\"],[0.3333333333333333,\"#9c179e\"],[0.4444444444444444,\"#bd3786\"],[0.5555555555555556,\"#d8576b\"],[0.6666666666666666,\"#ed7953\"],[0.7777777777777778,\"#fb9f3a\"],[0.8888888888888888,\"#fdca26\"],[1.0,\"#f0f921\"]],\"type\":\"histogram2d\"}],\"histogram2dcontour\":[{\"colorbar\":{\"outlinewidth\":0,\"ticks\":\"\"},\"colorscale\":[[0.0,\"#0d0887\"],[0.1111111111111111,\"#46039f\"],[0.2222222222222222,\"#7201a8\"],[0.3333333333333333,\"#9c179e\"],[0.4444444444444444,\"#bd3786\"],[0.5555555555555556,\"#d8576b\"],[0.6666666666666666,\"#ed7953\"],[0.7777777777777778,\"#fb9f3a\"],[0.8888888888888888,\"#fdca26\"],[1.0,\"#f0f921\"]],\"type\":\"histogram2dcontour\"}],\"mesh3d\":[{\"colorbar\":{\"outlinewidth\":0,\"ticks\":\"\"},\"type\":\"mesh3d\"}],\"parcoords\":[{\"line\":{\"colorbar\":{\"outlinewidth\":0,\"ticks\":\"\"}},\"type\":\"parcoords\"}],\"pie\":[{\"automargin\":true,\"type\":\"pie\"}],\"scatter\":[{\"marker\":{\"colorbar\":{\"outlinewidth\":0,\"ticks\":\"\"}},\"type\":\"scatter\"}],\"scatter3d\":[{\"line\":{\"colorbar\":{\"outlinewidth\":0,\"ticks\":\"\"}},\"marker\":{\"colorbar\":{\"outlinewidth\":0,\"ticks\":\"\"}},\"type\":\"scatter3d\"}],\"scattercarpet\":[{\"marker\":{\"colorbar\":{\"outlinewidth\":0,\"ticks\":\"\"}},\"type\":\"scattercarpet\"}],\"scattergeo\":[{\"marker\":{\"colorbar\":{\"outlinewidth\":0,\"ticks\":\"\"}},\"type\":\"scattergeo\"}],\"scattergl\":[{\"marker\":{\"colorbar\":{\"outlinewidth\":0,\"ticks\":\"\"}},\"type\":\"scattergl\"}],\"scattermapbox\":[{\"marker\":{\"colorbar\":{\"outlinewidth\":0,\"ticks\":\"\"}},\"type\":\"scattermapbox\"}],\"scatterpolar\":[{\"marker\":{\"colorbar\":{\"outlinewidth\":0,\"ticks\":\"\"}},\"type\":\"scatterpolar\"}],\"scatterpolargl\":[{\"marker\":{\"colorbar\":{\"outlinewidth\":0,\"ticks\":\"\"}},\"type\":\"scatterpolargl\"}],\"scatterternary\":[{\"marker\":{\"colorbar\":{\"outlinewidth\":0,\"ticks\":\"\"}},\"type\":\"scatterternary\"}],\"surface\":[{\"colorbar\":{\"outlinewidth\":0,\"ticks\":\"\"},\"colorscale\":[[0.0,\"#0d0887\"],[0.1111111111111111,\"#46039f\"],[0.2222222222222222,\"#7201a8\"],[0.3333333333333333,\"#9c179e\"],[0.4444444444444444,\"#bd3786\"],[0.5555555555555556,\"#d8576b\"],[0.6666666666666666,\"#ed7953\"],[0.7777777777777778,\"#fb9f3a\"],[0.8888888888888888,\"#fdca26\"],[1.0,\"#f0f921\"]],\"type\":\"surface\"}],\"table\":[{\"cells\":{\"fill\":{\"color\":\"#EBF0F8\"},\"line\":{\"color\":\"white\"}},\"header\":{\"fill\":{\"color\":\"#C8D4E3\"},\"line\":{\"color\":\"white\"}},\"type\":\"table\"}]},\"layout\":{\"annotationdefaults\":{\"arrowcolor\":\"#2a3f5f\",\"arrowhead\":0,\"arrowwidth\":1},\"autotypenumbers\":\"strict\",\"coloraxis\":{\"colorbar\":{\"outlinewidth\":0,\"ticks\":\"\"}},\"colorscale\":{\"diverging\":[[0,\"#8e0152\"],[0.1,\"#c51b7d\"],[0.2,\"#de77ae\"],[0.3,\"#f1b6da\"],[0.4,\"#fde0ef\"],[0.5,\"#f7f7f7\"],[0.6,\"#e6f5d0\"],[0.7,\"#b8e186\"],[0.8,\"#7fbc41\"],[0.9,\"#4d9221\"],[1,\"#276419\"]],\"sequential\":[[0.0,\"#0d0887\"],[0.1111111111111111,\"#46039f\"],[0.2222222222222222,\"#7201a8\"],[0.3333333333333333,\"#9c179e\"],[0.4444444444444444,\"#bd3786\"],[0.5555555555555556,\"#d8576b\"],[0.6666666666666666,\"#ed7953\"],[0.7777777777777778,\"#fb9f3a\"],[0.8888888888888888,\"#fdca26\"],[1.0,\"#f0f921\"]],\"sequentialminus\":[[0.0,\"#0d0887\"],[0.1111111111111111,\"#46039f\"],[0.2222222222222222,\"#7201a8\"],[0.3333333333333333,\"#9c179e\"],[0.4444444444444444,\"#bd3786\"],[0.5555555555555556,\"#d8576b\"],[0.6666666666666666,\"#ed7953\"],[0.7777777777777778,\"#fb9f3a\"],[0.8888888888888888,\"#fdca26\"],[1.0,\"#f0f921\"]]},\"colorway\":[\"#636efa\",\"#EF553B\",\"#00cc96\",\"#ab63fa\",\"#FFA15A\",\"#19d3f3\",\"#FF6692\",\"#B6E880\",\"#FF97FF\",\"#FECB52\"],\"font\":{\"color\":\"#2a3f5f\"},\"geo\":{\"bgcolor\":\"white\",\"lakecolor\":\"white\",\"landcolor\":\"#E5ECF6\",\"showlakes\":true,\"showland\":true,\"subunitcolor\":\"white\"},\"hoverlabel\":{\"align\":\"left\"},\"hovermode\":\"closest\",\"mapbox\":{\"style\":\"light\"},\"paper_bgcolor\":\"white\",\"plot_bgcolor\":\"#E5ECF6\",\"polar\":{\"angularaxis\":{\"gridcolor\":\"white\",\"linecolor\":\"white\",\"ticks\":\"\"},\"bgcolor\":\"#E5ECF6\",\"radialaxis\":{\"gridcolor\":\"white\",\"linecolor\":\"white\",\"ticks\":\"\"}},\"scene\":{\"xaxis\":{\"backgroundcolor\":\"#E5ECF6\",\"gridcolor\":\"white\",\"gridwidth\":2,\"linecolor\":\"white\",\"showbackground\":true,\"ticks\":\"\",\"zerolinecolor\":\"white\"},\"yaxis\":{\"backgroundcolor\":\"#E5ECF6\",\"gridcolor\":\"white\",\"gridwidth\":2,\"linecolor\":\"white\",\"showbackground\":true,\"ticks\":\"\",\"zerolinecolor\":\"white\"},\"zaxis\":{\"backgroundcolor\":\"#E5ECF6\",\"gridcolor\":\"white\",\"gridwidth\":2,\"linecolor\":\"white\",\"showbackground\":true,\"ticks\":\"\",\"zerolinecolor\":\"white\"}},\"shapedefaults\":{\"line\":{\"color\":\"#2a3f5f\"}},\"ternary\":{\"aaxis\":{\"gridcolor\":\"white\",\"linecolor\":\"white\",\"ticks\":\"\"},\"baxis\":{\"gridcolor\":\"white\",\"linecolor\":\"white\",\"ticks\":\"\"},\"bgcolor\":\"#E5ECF6\",\"caxis\":{\"gridcolor\":\"white\",\"linecolor\":\"white\",\"ticks\":\"\"}},\"title\":{\"x\":0.05},\"xaxis\":{\"automargin\":true,\"gridcolor\":\"white\",\"linecolor\":\"white\",\"ticks\":\"\",\"title\":{\"standoff\":15},\"zerolinecolor\":\"white\",\"zerolinewidth\":2},\"yaxis\":{\"automargin\":true,\"gridcolor\":\"white\",\"linecolor\":\"white\",\"ticks\":\"\",\"title\":{\"standoff\":15},\"zerolinecolor\":\"white\",\"zerolinewidth\":2}}},\"xaxis\":{\"anchor\":\"y\",\"domain\":[0.0,1.0],\"title\":{\"text\":\"density\"}},\"yaxis\":{\"anchor\":\"x\",\"domain\":[0.0,1.0],\"title\":{\"text\":\"fixed acidity\"}},\"coloraxis\":{\"colorbar\":{\"title\":{\"text\":\"quality\"}},\"colorscale\":[[0.0,\"#0d0887\"],[0.1111111111111111,\"#46039f\"],[0.2222222222222222,\"#7201a8\"],[0.3333333333333333,\"#9c179e\"],[0.4444444444444444,\"#bd3786\"],[0.5555555555555556,\"#d8576b\"],[0.6666666666666666,\"#ed7953\"],[0.7777777777777778,\"#fb9f3a\"],[0.8888888888888888,\"#fdca26\"],[1.0,\"#f0f921\"]]},\"legend\":{\"tracegroupgap\":0},\"title\":{\"text\":\"Density vs Fixed Acidity\"}},                        {\"responsive\": true}                    ).then(function(){\n",
              "                            \n",
              "var gd = document.getElementById('83fe7ca6-a67b-41f1-ba7d-bdc5cd57e0fd');\n",
              "var x = new MutationObserver(function (mutations, observer) {{\n",
              "        var display = window.getComputedStyle(gd).display;\n",
              "        if (!display || display === 'none') {{\n",
              "            console.log([gd, 'removed!']);\n",
              "            Plotly.purge(gd);\n",
              "            observer.disconnect();\n",
              "        }}\n",
              "}});\n",
              "\n",
              "// Listen for the removal of the full notebook cells\n",
              "var notebookContainer = gd.closest('#notebook-container');\n",
              "if (notebookContainer) {{\n",
              "    x.observe(notebookContainer, {childList: true});\n",
              "}}\n",
              "\n",
              "// Listen for the clearing of the current output cell\n",
              "var outputEl = gd.closest('.output');\n",
              "if (outputEl) {{\n",
              "    x.observe(outputEl, {childList: true});\n",
              "}}\n",
              "\n",
              "                        })                };                            </script>        </div>\n",
              "</body>\n",
              "</html>"
            ]
          },
          "metadata": {}
        }
      ]
    },
    {
      "cell_type": "markdown",
      "source": [
        "##Data Preparation"
      ],
      "metadata": {
        "id": "Vo7cNPcxHony"
      }
    },
    {
      "cell_type": "code",
      "source": [
        "from sklearn.model_selection import train_test_split\n",
        "\n",
        "X = df.copy()\n",
        "y = X.pop(\"quality\")\n",
        "X = X.values\n",
        "y = y.values\n",
        "\n",
        "X_train, X_test, y_train, y_test = train_test_split(X, y, test_size=0.25, stratify=y)\n",
        "\n",
        "y_train = y_train.reshape(-1, 1)\n",
        "y_test = y_test.reshape(-1, 1)"
      ],
      "metadata": {
        "id": "Cj9bWwSOHsSQ"
      },
      "execution_count": 482,
      "outputs": []
    },
    {
      "cell_type": "code",
      "source": [
        "from sklearn.preprocessing import StandardScaler\n",
        "\n",
        "scaler = StandardScaler()\n",
        "\n",
        "X_train = scaler.fit_transform(X_train)\n",
        "X_test = scaler.transform(X_test)"
      ],
      "metadata": {
        "id": "BgiLjusnHz7Z"
      },
      "execution_count": 483,
      "outputs": []
    },
    {
      "cell_type": "code",
      "source": [
        "from tensorflow.keras.utils import to_categorical\n",
        "\n",
        "y_train = to_categorical(y_train, num_classes=10)\n",
        "y_train = y_train[:, 3:9]"
      ],
      "metadata": {
        "id": "iOL_BqZ8f4DT"
      },
      "execution_count": 485,
      "outputs": []
    },
    {
      "cell_type": "markdown",
      "source": [
        "##Model Building"
      ],
      "metadata": {
        "id": "L9srdDaXIuVC"
      }
    },
    {
      "cell_type": "code",
      "source": [
        "from tensorflow.keras.regularizers import l2\n",
        "\n",
        "model = Sequential()\n",
        "model.add(layers.Dense(units=512, activation=\"tanh\", kernel_regularizer=l2(0.01), input_shape=(11,)))\n",
        "# model.add(layers.Dense(units=8, activation=\"tanh\", kernel_regularizer=l2(0.01)))\n",
        "model.add(layers.Dense(units=6, activation=\"softmax\"))\n",
        "model.summary()"
      ],
      "metadata": {
        "colab": {
          "base_uri": "https://localhost:8080/"
        },
        "id": "ZfOcS6qNIvbq",
        "outputId": "62038867-60b9-49d5-b37b-b7d4119fb73c"
      },
      "execution_count": 717,
      "outputs": [
        {
          "output_type": "stream",
          "name": "stdout",
          "text": [
            "Model: \"sequential_61\"\n",
            "_________________________________________________________________\n",
            " Layer (type)                Output Shape              Param #   \n",
            "=================================================================\n",
            " dense_148 (Dense)           (None, 512)               6144      \n",
            "                                                                 \n",
            " dense_149 (Dense)           (None, 6)                 3078      \n",
            "                                                                 \n",
            "=================================================================\n",
            "Total params: 9,222\n",
            "Trainable params: 9,222\n",
            "Non-trainable params: 0\n",
            "_________________________________________________________________\n"
          ]
        }
      ]
    },
    {
      "cell_type": "code",
      "source": [
        "model.compile(\n",
        "    optimizer=\"rmsprop\",\n",
        "    loss=\"categorical_crossentropy\",\n",
        "    metrics=[\"accuracy\"]\n",
        ")"
      ],
      "metadata": {
        "id": "h3lyzTLuJEsn"
      },
      "execution_count": 718,
      "outputs": []
    },
    {
      "cell_type": "code",
      "source": [
        "history = model.fit(X_train, y_train, batch_size=16, epochs=100, validation_split=0.2)"
      ],
      "metadata": {
        "colab": {
          "base_uri": "https://localhost:8080/"
        },
        "id": "2slGwQ3jNsL9",
        "outputId": "7677d8b4-8fa5-455a-b900-46e27a61c0c7"
      },
      "execution_count": 719,
      "outputs": [
        {
          "output_type": "stream",
          "name": "stdout",
          "text": [
            "Epoch 1/100\n",
            "43/43 [==============================] - 1s 8ms/step - loss: 1.5375 - accuracy: 0.5182 - val_loss: 1.3283 - val_accuracy: 0.5872\n",
            "Epoch 2/100\n",
            "43/43 [==============================] - 0s 3ms/step - loss: 1.2136 - accuracy: 0.6015 - val_loss: 1.1705 - val_accuracy: 0.5581\n",
            "Epoch 3/100\n",
            "43/43 [==============================] - 0s 3ms/step - loss: 1.1135 - accuracy: 0.5956 - val_loss: 1.0979 - val_accuracy: 0.5465\n",
            "Epoch 4/100\n",
            "43/43 [==============================] - 0s 3ms/step - loss: 1.0751 - accuracy: 0.6175 - val_loss: 1.0956 - val_accuracy: 0.5872\n",
            "Epoch 5/100\n",
            "43/43 [==============================] - 0s 3ms/step - loss: 1.0543 - accuracy: 0.6000 - val_loss: 1.0783 - val_accuracy: 0.5814\n",
            "Epoch 6/100\n",
            "43/43 [==============================] - 0s 3ms/step - loss: 1.0386 - accuracy: 0.5898 - val_loss: 1.0558 - val_accuracy: 0.5756\n",
            "Epoch 7/100\n",
            "43/43 [==============================] - 0s 3ms/step - loss: 1.0239 - accuracy: 0.5854 - val_loss: 1.0429 - val_accuracy: 0.5640\n",
            "Epoch 8/100\n",
            "43/43 [==============================] - 0s 3ms/step - loss: 1.0082 - accuracy: 0.6146 - val_loss: 1.0237 - val_accuracy: 0.5814\n",
            "Epoch 9/100\n",
            "43/43 [==============================] - 0s 3ms/step - loss: 0.9987 - accuracy: 0.6117 - val_loss: 1.0139 - val_accuracy: 0.5872\n",
            "Epoch 10/100\n",
            "43/43 [==============================] - 0s 3ms/step - loss: 0.9912 - accuracy: 0.6015 - val_loss: 1.0217 - val_accuracy: 0.5523\n",
            "Epoch 11/100\n",
            "43/43 [==============================] - 0s 2ms/step - loss: 0.9868 - accuracy: 0.6058 - val_loss: 1.0265 - val_accuracy: 0.5756\n",
            "Epoch 12/100\n",
            "43/43 [==============================] - 0s 2ms/step - loss: 0.9808 - accuracy: 0.6088 - val_loss: 1.0334 - val_accuracy: 0.5988\n",
            "Epoch 13/100\n",
            "43/43 [==============================] - 0s 3ms/step - loss: 0.9735 - accuracy: 0.6117 - val_loss: 1.0129 - val_accuracy: 0.5407\n",
            "Epoch 14/100\n",
            "43/43 [==============================] - 0s 3ms/step - loss: 0.9676 - accuracy: 0.6088 - val_loss: 1.0178 - val_accuracy: 0.5640\n",
            "Epoch 15/100\n",
            "43/43 [==============================] - 0s 3ms/step - loss: 0.9618 - accuracy: 0.5956 - val_loss: 1.0274 - val_accuracy: 0.5814\n",
            "Epoch 16/100\n",
            "43/43 [==============================] - 0s 3ms/step - loss: 0.9679 - accuracy: 0.6058 - val_loss: 1.0008 - val_accuracy: 0.5698\n",
            "Epoch 17/100\n",
            "43/43 [==============================] - 0s 3ms/step - loss: 0.9591 - accuracy: 0.5985 - val_loss: 0.9980 - val_accuracy: 0.5930\n",
            "Epoch 18/100\n",
            "43/43 [==============================] - 0s 3ms/step - loss: 0.9522 - accuracy: 0.6015 - val_loss: 0.9832 - val_accuracy: 0.5814\n",
            "Epoch 19/100\n",
            "43/43 [==============================] - 0s 3ms/step - loss: 0.9538 - accuracy: 0.6029 - val_loss: 1.0061 - val_accuracy: 0.5930\n",
            "Epoch 20/100\n",
            "43/43 [==============================] - 0s 2ms/step - loss: 0.9510 - accuracy: 0.6131 - val_loss: 0.9961 - val_accuracy: 0.5814\n",
            "Epoch 21/100\n",
            "43/43 [==============================] - 0s 3ms/step - loss: 0.9476 - accuracy: 0.6117 - val_loss: 1.0067 - val_accuracy: 0.5988\n",
            "Epoch 22/100\n",
            "43/43 [==============================] - 0s 3ms/step - loss: 0.9488 - accuracy: 0.6088 - val_loss: 0.9888 - val_accuracy: 0.5523\n",
            "Epoch 23/100\n",
            "43/43 [==============================] - 0s 3ms/step - loss: 0.9446 - accuracy: 0.6015 - val_loss: 1.0109 - val_accuracy: 0.6105\n",
            "Epoch 24/100\n",
            "43/43 [==============================] - 0s 3ms/step - loss: 0.9478 - accuracy: 0.5956 - val_loss: 0.9994 - val_accuracy: 0.5988\n",
            "Epoch 25/100\n",
            "43/43 [==============================] - 0s 3ms/step - loss: 0.9400 - accuracy: 0.6058 - val_loss: 0.9901 - val_accuracy: 0.5640\n",
            "Epoch 26/100\n",
            "43/43 [==============================] - 0s 3ms/step - loss: 0.9446 - accuracy: 0.6000 - val_loss: 0.9978 - val_accuracy: 0.5465\n",
            "Epoch 27/100\n",
            "43/43 [==============================] - 0s 3ms/step - loss: 0.9422 - accuracy: 0.6015 - val_loss: 0.9848 - val_accuracy: 0.5640\n",
            "Epoch 28/100\n",
            "43/43 [==============================] - 0s 4ms/step - loss: 0.9403 - accuracy: 0.5898 - val_loss: 1.0019 - val_accuracy: 0.5756\n",
            "Epoch 29/100\n",
            "43/43 [==============================] - 0s 4ms/step - loss: 0.9427 - accuracy: 0.5971 - val_loss: 0.9850 - val_accuracy: 0.5698\n",
            "Epoch 30/100\n",
            "43/43 [==============================] - 0s 4ms/step - loss: 0.9433 - accuracy: 0.6088 - val_loss: 0.9846 - val_accuracy: 0.5872\n",
            "Epoch 31/100\n",
            "43/43 [==============================] - 0s 4ms/step - loss: 0.9361 - accuracy: 0.6029 - val_loss: 0.9712 - val_accuracy: 0.5872\n",
            "Epoch 32/100\n",
            "43/43 [==============================] - 0s 4ms/step - loss: 0.9431 - accuracy: 0.6058 - val_loss: 0.9928 - val_accuracy: 0.5640\n",
            "Epoch 33/100\n",
            "43/43 [==============================] - 0s 4ms/step - loss: 0.9309 - accuracy: 0.6073 - val_loss: 0.9811 - val_accuracy: 0.5756\n",
            "Epoch 34/100\n",
            "43/43 [==============================] - 0s 4ms/step - loss: 0.9334 - accuracy: 0.6015 - val_loss: 0.9880 - val_accuracy: 0.5523\n",
            "Epoch 35/100\n",
            "43/43 [==============================] - 0s 3ms/step - loss: 0.9419 - accuracy: 0.6088 - val_loss: 0.9881 - val_accuracy: 0.6047\n",
            "Epoch 36/100\n",
            "43/43 [==============================] - 0s 4ms/step - loss: 0.9339 - accuracy: 0.6161 - val_loss: 0.9958 - val_accuracy: 0.5814\n",
            "Epoch 37/100\n",
            "43/43 [==============================] - 0s 5ms/step - loss: 0.9376 - accuracy: 0.6000 - val_loss: 0.9821 - val_accuracy: 0.5814\n",
            "Epoch 38/100\n",
            "43/43 [==============================] - 0s 4ms/step - loss: 0.9292 - accuracy: 0.6029 - val_loss: 0.9788 - val_accuracy: 0.5698\n",
            "Epoch 39/100\n",
            "43/43 [==============================] - 0s 4ms/step - loss: 0.9375 - accuracy: 0.6000 - val_loss: 0.9712 - val_accuracy: 0.5581\n",
            "Epoch 40/100\n",
            "43/43 [==============================] - 0s 4ms/step - loss: 0.9310 - accuracy: 0.6044 - val_loss: 0.9861 - val_accuracy: 0.5465\n",
            "Epoch 41/100\n",
            "43/43 [==============================] - 0s 4ms/step - loss: 0.9375 - accuracy: 0.5985 - val_loss: 0.9874 - val_accuracy: 0.5640\n",
            "Epoch 42/100\n",
            "43/43 [==============================] - 0s 4ms/step - loss: 0.9308 - accuracy: 0.5971 - val_loss: 0.9916 - val_accuracy: 0.5814\n",
            "Epoch 43/100\n",
            "43/43 [==============================] - 0s 4ms/step - loss: 0.9360 - accuracy: 0.6000 - val_loss: 0.9752 - val_accuracy: 0.5872\n",
            "Epoch 44/100\n",
            "43/43 [==============================] - 0s 4ms/step - loss: 0.9318 - accuracy: 0.6248 - val_loss: 1.0003 - val_accuracy: 0.5523\n",
            "Epoch 45/100\n",
            "43/43 [==============================] - 0s 4ms/step - loss: 0.9377 - accuracy: 0.6015 - val_loss: 0.9981 - val_accuracy: 0.5349\n",
            "Epoch 46/100\n",
            "43/43 [==============================] - 0s 3ms/step - loss: 0.9353 - accuracy: 0.6058 - val_loss: 0.9731 - val_accuracy: 0.5698\n",
            "Epoch 47/100\n",
            "43/43 [==============================] - 0s 5ms/step - loss: 0.9332 - accuracy: 0.6044 - val_loss: 0.9897 - val_accuracy: 0.5872\n",
            "Epoch 48/100\n",
            "43/43 [==============================] - 0s 4ms/step - loss: 0.9315 - accuracy: 0.6029 - val_loss: 1.0012 - val_accuracy: 0.5872\n",
            "Epoch 49/100\n",
            "43/43 [==============================] - 0s 3ms/step - loss: 0.9317 - accuracy: 0.6058 - val_loss: 0.9832 - val_accuracy: 0.5756\n",
            "Epoch 50/100\n",
            "43/43 [==============================] - 0s 5ms/step - loss: 0.9296 - accuracy: 0.6029 - val_loss: 0.9908 - val_accuracy: 0.5872\n",
            "Epoch 51/100\n",
            "43/43 [==============================] - 0s 3ms/step - loss: 0.9322 - accuracy: 0.6000 - val_loss: 0.9831 - val_accuracy: 0.6047\n",
            "Epoch 52/100\n",
            "43/43 [==============================] - 0s 3ms/step - loss: 0.9355 - accuracy: 0.5956 - val_loss: 0.9766 - val_accuracy: 0.5814\n",
            "Epoch 53/100\n",
            "43/43 [==============================] - 0s 3ms/step - loss: 0.9350 - accuracy: 0.6058 - val_loss: 0.9847 - val_accuracy: 0.5814\n",
            "Epoch 54/100\n",
            "43/43 [==============================] - 0s 3ms/step - loss: 0.9303 - accuracy: 0.5971 - val_loss: 1.0072 - val_accuracy: 0.5872\n",
            "Epoch 55/100\n",
            "43/43 [==============================] - 0s 3ms/step - loss: 0.9282 - accuracy: 0.5971 - val_loss: 0.9926 - val_accuracy: 0.5872\n",
            "Epoch 56/100\n",
            "43/43 [==============================] - 0s 3ms/step - loss: 0.9350 - accuracy: 0.6161 - val_loss: 0.9996 - val_accuracy: 0.5930\n",
            "Epoch 57/100\n",
            "43/43 [==============================] - 0s 3ms/step - loss: 0.9276 - accuracy: 0.6146 - val_loss: 0.9788 - val_accuracy: 0.5872\n",
            "Epoch 58/100\n",
            "43/43 [==============================] - 0s 3ms/step - loss: 0.9341 - accuracy: 0.5985 - val_loss: 0.9770 - val_accuracy: 0.5640\n",
            "Epoch 59/100\n",
            "43/43 [==============================] - 0s 3ms/step - loss: 0.9308 - accuracy: 0.6058 - val_loss: 0.9924 - val_accuracy: 0.5640\n",
            "Epoch 60/100\n",
            "43/43 [==============================] - 0s 3ms/step - loss: 0.9315 - accuracy: 0.6088 - val_loss: 0.9928 - val_accuracy: 0.5640\n",
            "Epoch 61/100\n",
            "43/43 [==============================] - 0s 3ms/step - loss: 0.9312 - accuracy: 0.6029 - val_loss: 0.9772 - val_accuracy: 0.5698\n",
            "Epoch 62/100\n",
            "43/43 [==============================] - 0s 3ms/step - loss: 0.9239 - accuracy: 0.6190 - val_loss: 1.0223 - val_accuracy: 0.5814\n",
            "Epoch 63/100\n",
            "43/43 [==============================] - 0s 3ms/step - loss: 0.9272 - accuracy: 0.6175 - val_loss: 0.9718 - val_accuracy: 0.5407\n",
            "Epoch 64/100\n",
            "43/43 [==============================] - 0s 4ms/step - loss: 0.9331 - accuracy: 0.6000 - val_loss: 0.9898 - val_accuracy: 0.6105\n",
            "Epoch 65/100\n",
            "43/43 [==============================] - 0s 5ms/step - loss: 0.9364 - accuracy: 0.6015 - val_loss: 0.9835 - val_accuracy: 0.5698\n",
            "Epoch 66/100\n",
            "43/43 [==============================] - 0s 5ms/step - loss: 0.9244 - accuracy: 0.6029 - val_loss: 1.0209 - val_accuracy: 0.5814\n",
            "Epoch 67/100\n",
            "43/43 [==============================] - 0s 4ms/step - loss: 0.9368 - accuracy: 0.6044 - val_loss: 0.9898 - val_accuracy: 0.5581\n",
            "Epoch 68/100\n",
            "43/43 [==============================] - 0s 5ms/step - loss: 0.9239 - accuracy: 0.6044 - val_loss: 0.9998 - val_accuracy: 0.6047\n",
            "Epoch 69/100\n",
            "43/43 [==============================] - 0s 6ms/step - loss: 0.9314 - accuracy: 0.6073 - val_loss: 0.9874 - val_accuracy: 0.5756\n",
            "Epoch 70/100\n",
            "43/43 [==============================] - 0s 7ms/step - loss: 0.9298 - accuracy: 0.5956 - val_loss: 0.9916 - val_accuracy: 0.5814\n",
            "Epoch 71/100\n",
            "43/43 [==============================] - 0s 4ms/step - loss: 0.9244 - accuracy: 0.6088 - val_loss: 0.9872 - val_accuracy: 0.5872\n",
            "Epoch 72/100\n",
            "43/43 [==============================] - 0s 6ms/step - loss: 0.9298 - accuracy: 0.6102 - val_loss: 0.9615 - val_accuracy: 0.5698\n",
            "Epoch 73/100\n",
            "43/43 [==============================] - 0s 9ms/step - loss: 0.9290 - accuracy: 0.6146 - val_loss: 0.9951 - val_accuracy: 0.5988\n",
            "Epoch 74/100\n",
            "43/43 [==============================] - 0s 8ms/step - loss: 0.9318 - accuracy: 0.6146 - val_loss: 1.0056 - val_accuracy: 0.5988\n",
            "Epoch 75/100\n",
            "43/43 [==============================] - 0s 8ms/step - loss: 0.9260 - accuracy: 0.6117 - val_loss: 0.9897 - val_accuracy: 0.5756\n",
            "Epoch 76/100\n",
            "43/43 [==============================] - 0s 5ms/step - loss: 0.9279 - accuracy: 0.6073 - val_loss: 0.9914 - val_accuracy: 0.5814\n",
            "Epoch 77/100\n",
            "43/43 [==============================] - 0s 3ms/step - loss: 0.9289 - accuracy: 0.6044 - val_loss: 1.0034 - val_accuracy: 0.5640\n",
            "Epoch 78/100\n",
            "43/43 [==============================] - 0s 3ms/step - loss: 0.9294 - accuracy: 0.6058 - val_loss: 0.9939 - val_accuracy: 0.5523\n",
            "Epoch 79/100\n",
            "43/43 [==============================] - 0s 3ms/step - loss: 0.9259 - accuracy: 0.6102 - val_loss: 1.0072 - val_accuracy: 0.5698\n",
            "Epoch 80/100\n",
            "43/43 [==============================] - 0s 3ms/step - loss: 0.9319 - accuracy: 0.6117 - val_loss: 0.9807 - val_accuracy: 0.5640\n",
            "Epoch 81/100\n",
            "43/43 [==============================] - 0s 3ms/step - loss: 0.9298 - accuracy: 0.6029 - val_loss: 1.0006 - val_accuracy: 0.5640\n",
            "Epoch 82/100\n",
            "43/43 [==============================] - 0s 3ms/step - loss: 0.9298 - accuracy: 0.6102 - val_loss: 0.9926 - val_accuracy: 0.5523\n",
            "Epoch 83/100\n",
            "43/43 [==============================] - 0s 3ms/step - loss: 0.9313 - accuracy: 0.6044 - val_loss: 0.9917 - val_accuracy: 0.5756\n",
            "Epoch 84/100\n",
            "43/43 [==============================] - 0s 3ms/step - loss: 0.9288 - accuracy: 0.6117 - val_loss: 0.9940 - val_accuracy: 0.5523\n",
            "Epoch 85/100\n",
            "43/43 [==============================] - 0s 3ms/step - loss: 0.9237 - accuracy: 0.6000 - val_loss: 0.9901 - val_accuracy: 0.5581\n",
            "Epoch 86/100\n",
            "43/43 [==============================] - 0s 3ms/step - loss: 0.9300 - accuracy: 0.6117 - val_loss: 1.0038 - val_accuracy: 0.5930\n",
            "Epoch 87/100\n",
            "43/43 [==============================] - 0s 3ms/step - loss: 0.9269 - accuracy: 0.6146 - val_loss: 0.9970 - val_accuracy: 0.5640\n",
            "Epoch 88/100\n",
            "43/43 [==============================] - 0s 3ms/step - loss: 0.9282 - accuracy: 0.6073 - val_loss: 0.9989 - val_accuracy: 0.5872\n",
            "Epoch 89/100\n",
            "43/43 [==============================] - 0s 3ms/step - loss: 0.9284 - accuracy: 0.6146 - val_loss: 0.9910 - val_accuracy: 0.5581\n",
            "Epoch 90/100\n",
            "43/43 [==============================] - 0s 3ms/step - loss: 0.9281 - accuracy: 0.6058 - val_loss: 0.9902 - val_accuracy: 0.5872\n",
            "Epoch 91/100\n",
            "43/43 [==============================] - 0s 3ms/step - loss: 0.9273 - accuracy: 0.6175 - val_loss: 1.0037 - val_accuracy: 0.5756\n",
            "Epoch 92/100\n",
            "43/43 [==============================] - 0s 3ms/step - loss: 0.9279 - accuracy: 0.6088 - val_loss: 1.0147 - val_accuracy: 0.5698\n",
            "Epoch 93/100\n",
            "43/43 [==============================] - 0s 3ms/step - loss: 0.9249 - accuracy: 0.6204 - val_loss: 0.9804 - val_accuracy: 0.5407\n",
            "Epoch 94/100\n",
            "43/43 [==============================] - 0s 3ms/step - loss: 0.9235 - accuracy: 0.6044 - val_loss: 1.0253 - val_accuracy: 0.5872\n",
            "Epoch 95/100\n",
            "43/43 [==============================] - 0s 3ms/step - loss: 0.9247 - accuracy: 0.6102 - val_loss: 1.0278 - val_accuracy: 0.5988\n",
            "Epoch 96/100\n",
            "43/43 [==============================] - 0s 3ms/step - loss: 0.9265 - accuracy: 0.6131 - val_loss: 1.0063 - val_accuracy: 0.5872\n",
            "Epoch 97/100\n",
            "43/43 [==============================] - 0s 3ms/step - loss: 0.9257 - accuracy: 0.6175 - val_loss: 1.0069 - val_accuracy: 0.5698\n",
            "Epoch 98/100\n",
            "43/43 [==============================] - 0s 3ms/step - loss: 0.9227 - accuracy: 0.6146 - val_loss: 1.0017 - val_accuracy: 0.5756\n",
            "Epoch 99/100\n",
            "43/43 [==============================] - 0s 3ms/step - loss: 0.9267 - accuracy: 0.6000 - val_loss: 0.9810 - val_accuracy: 0.5523\n",
            "Epoch 100/100\n",
            "43/43 [==============================] - 0s 3ms/step - loss: 0.9194 - accuracy: 0.6088 - val_loss: 1.0049 - val_accuracy: 0.5930\n"
          ]
        }
      ]
    },
    {
      "cell_type": "markdown",
      "source": [
        "##Model Evaluation"
      ],
      "metadata": {
        "id": "cuRfHcqOrKeN"
      }
    },
    {
      "cell_type": "code",
      "source": [
        "pred = np.argmax(model.predict(X_test), 1) + 3\n",
        "\n",
        "data = {\n",
        "    \"y_pred\" : pred.ravel(),\n",
        "    \"y_true\" : y_test.ravel()\n",
        "}\n",
        "\n",
        "data = pd.DataFrame(data)\n",
        "data.head()"
      ],
      "metadata": {
        "colab": {
          "base_uri": "https://localhost:8080/",
          "height": 224
        },
        "id": "Lv7Ft1z6PyXq",
        "outputId": "fd022b03-c8d6-4cd3-f619-32140f19f595"
      },
      "execution_count": 720,
      "outputs": [
        {
          "output_type": "stream",
          "name": "stdout",
          "text": [
            "9/9 [==============================] - 0s 2ms/step\n"
          ]
        },
        {
          "output_type": "execute_result",
          "data": {
            "text/plain": [
              "   y_pred  y_true\n",
              "0       6       6\n",
              "1       5       4\n",
              "2       5       5\n",
              "3       6       6\n",
              "4       5       6"
            ],
            "text/html": [
              "\n",
              "  <div id=\"df-300c6fd3-4d21-4de1-ace6-e21330285085\">\n",
              "    <div class=\"colab-df-container\">\n",
              "      <div>\n",
              "<style scoped>\n",
              "    .dataframe tbody tr th:only-of-type {\n",
              "        vertical-align: middle;\n",
              "    }\n",
              "\n",
              "    .dataframe tbody tr th {\n",
              "        vertical-align: top;\n",
              "    }\n",
              "\n",
              "    .dataframe thead th {\n",
              "        text-align: right;\n",
              "    }\n",
              "</style>\n",
              "<table border=\"1\" class=\"dataframe\">\n",
              "  <thead>\n",
              "    <tr style=\"text-align: right;\">\n",
              "      <th></th>\n",
              "      <th>y_pred</th>\n",
              "      <th>y_true</th>\n",
              "    </tr>\n",
              "  </thead>\n",
              "  <tbody>\n",
              "    <tr>\n",
              "      <th>0</th>\n",
              "      <td>6</td>\n",
              "      <td>6</td>\n",
              "    </tr>\n",
              "    <tr>\n",
              "      <th>1</th>\n",
              "      <td>5</td>\n",
              "      <td>4</td>\n",
              "    </tr>\n",
              "    <tr>\n",
              "      <th>2</th>\n",
              "      <td>5</td>\n",
              "      <td>5</td>\n",
              "    </tr>\n",
              "    <tr>\n",
              "      <th>3</th>\n",
              "      <td>6</td>\n",
              "      <td>6</td>\n",
              "    </tr>\n",
              "    <tr>\n",
              "      <th>4</th>\n",
              "      <td>5</td>\n",
              "      <td>6</td>\n",
              "    </tr>\n",
              "  </tbody>\n",
              "</table>\n",
              "</div>\n",
              "      <button class=\"colab-df-convert\" onclick=\"convertToInteractive('df-300c6fd3-4d21-4de1-ace6-e21330285085')\"\n",
              "              title=\"Convert this dataframe to an interactive table.\"\n",
              "              style=\"display:none;\">\n",
              "        \n",
              "  <svg xmlns=\"http://www.w3.org/2000/svg\" height=\"24px\"viewBox=\"0 0 24 24\"\n",
              "       width=\"24px\">\n",
              "    <path d=\"M0 0h24v24H0V0z\" fill=\"none\"/>\n",
              "    <path d=\"M18.56 5.44l.94 2.06.94-2.06 2.06-.94-2.06-.94-.94-2.06-.94 2.06-2.06.94zm-11 1L8.5 8.5l.94-2.06 2.06-.94-2.06-.94L8.5 2.5l-.94 2.06-2.06.94zm10 10l.94 2.06.94-2.06 2.06-.94-2.06-.94-.94-2.06-.94 2.06-2.06.94z\"/><path d=\"M17.41 7.96l-1.37-1.37c-.4-.4-.92-.59-1.43-.59-.52 0-1.04.2-1.43.59L10.3 9.45l-7.72 7.72c-.78.78-.78 2.05 0 2.83L4 21.41c.39.39.9.59 1.41.59.51 0 1.02-.2 1.41-.59l7.78-7.78 2.81-2.81c.8-.78.8-2.07 0-2.86zM5.41 20L4 18.59l7.72-7.72 1.47 1.35L5.41 20z\"/>\n",
              "  </svg>\n",
              "      </button>\n",
              "      \n",
              "  <style>\n",
              "    .colab-df-container {\n",
              "      display:flex;\n",
              "      flex-wrap:wrap;\n",
              "      gap: 12px;\n",
              "    }\n",
              "\n",
              "    .colab-df-convert {\n",
              "      background-color: #E8F0FE;\n",
              "      border: none;\n",
              "      border-radius: 50%;\n",
              "      cursor: pointer;\n",
              "      display: none;\n",
              "      fill: #1967D2;\n",
              "      height: 32px;\n",
              "      padding: 0 0 0 0;\n",
              "      width: 32px;\n",
              "    }\n",
              "\n",
              "    .colab-df-convert:hover {\n",
              "      background-color: #E2EBFA;\n",
              "      box-shadow: 0px 1px 2px rgba(60, 64, 67, 0.3), 0px 1px 3px 1px rgba(60, 64, 67, 0.15);\n",
              "      fill: #174EA6;\n",
              "    }\n",
              "\n",
              "    [theme=dark] .colab-df-convert {\n",
              "      background-color: #3B4455;\n",
              "      fill: #D2E3FC;\n",
              "    }\n",
              "\n",
              "    [theme=dark] .colab-df-convert:hover {\n",
              "      background-color: #434B5C;\n",
              "      box-shadow: 0px 1px 3px 1px rgba(0, 0, 0, 0.15);\n",
              "      filter: drop-shadow(0px 1px 2px rgba(0, 0, 0, 0.3));\n",
              "      fill: #FFFFFF;\n",
              "    }\n",
              "  </style>\n",
              "\n",
              "      <script>\n",
              "        const buttonEl =\n",
              "          document.querySelector('#df-300c6fd3-4d21-4de1-ace6-e21330285085 button.colab-df-convert');\n",
              "        buttonEl.style.display =\n",
              "          google.colab.kernel.accessAllowed ? 'block' : 'none';\n",
              "\n",
              "        async function convertToInteractive(key) {\n",
              "          const element = document.querySelector('#df-300c6fd3-4d21-4de1-ace6-e21330285085');\n",
              "          const dataTable =\n",
              "            await google.colab.kernel.invokeFunction('convertToInteractive',\n",
              "                                                     [key], {});\n",
              "          if (!dataTable) return;\n",
              "\n",
              "          const docLinkHtml = 'Like what you see? Visit the ' +\n",
              "            '<a target=\"_blank\" href=https://colab.research.google.com/notebooks/data_table.ipynb>data table notebook</a>'\n",
              "            + ' to learn more about interactive tables.';\n",
              "          element.innerHTML = '';\n",
              "          dataTable['output_type'] = 'display_data';\n",
              "          await google.colab.output.renderOutput(dataTable, element);\n",
              "          const docLink = document.createElement('div');\n",
              "          docLink.innerHTML = docLinkHtml;\n",
              "          element.appendChild(docLink);\n",
              "        }\n",
              "      </script>\n",
              "    </div>\n",
              "  </div>\n",
              "  "
            ]
          },
          "metadata": {},
          "execution_count": 720
        }
      ]
    },
    {
      "cell_type": "code",
      "source": [
        "data[\"error\"] = data[\"y_true\"] - data[\"y_pred\"]"
      ],
      "metadata": {
        "id": "gnxT8mxIZl5I"
      },
      "execution_count": 721,
      "outputs": []
    },
    {
      "cell_type": "code",
      "source": [
        "len(data[data[\"error\"] == 0]) / len(data)"
      ],
      "metadata": {
        "colab": {
          "base_uri": "https://localhost:8080/"
        },
        "id": "Svy8EhHmasEc",
        "outputId": "cfda29a8-33b9-46c9-f782-1c15b267bade"
      },
      "execution_count": 722,
      "outputs": [
        {
          "output_type": "execute_result",
          "data": {
            "text/plain": [
              "0.6013986013986014"
            ]
          },
          "metadata": {},
          "execution_count": 722
        }
      ]
    },
    {
      "cell_type": "code",
      "source": [
        "fig = px.histogram(data, x=\"error\", title=\"Model prediction - error distribution\")\n",
        "fig.show()"
      ],
      "metadata": {
        "colab": {
          "base_uri": "https://localhost:8080/",
          "height": 542
        },
        "id": "6r01-ViMZI9z",
        "outputId": "37169fb9-6653-48c6-cafc-8b73c25e1bd0"
      },
      "execution_count": 723,
      "outputs": [
        {
          "output_type": "display_data",
          "data": {
            "text/html": [
              "<html>\n",
              "<head><meta charset=\"utf-8\" /></head>\n",
              "<body>\n",
              "    <div>            <script src=\"https://cdnjs.cloudflare.com/ajax/libs/mathjax/2.7.5/MathJax.js?config=TeX-AMS-MML_SVG\"></script><script type=\"text/javascript\">if (window.MathJax) {MathJax.Hub.Config({SVG: {font: \"STIX-Web\"}});}</script>                <script type=\"text/javascript\">window.PlotlyConfig = {MathJaxConfig: 'local'};</script>\n",
              "        <script src=\"https://cdn.plot.ly/plotly-2.8.3.min.js\"></script>                <div id=\"3a0d767e-962e-4d07-a02f-b3dc443dbf51\" class=\"plotly-graph-div\" style=\"height:525px; width:100%;\"></div>            <script type=\"text/javascript\">                                    window.PLOTLYENV=window.PLOTLYENV || {};                                    if (document.getElementById(\"3a0d767e-962e-4d07-a02f-b3dc443dbf51\")) {                    Plotly.newPlot(                        \"3a0d767e-962e-4d07-a02f-b3dc443dbf51\",                        [{\"alignmentgroup\":\"True\",\"bingroup\":\"x\",\"hovertemplate\":\"error=%{x}<br>count=%{y}<extra></extra>\",\"legendgroup\":\"\",\"marker\":{\"color\":\"#636efa\",\"pattern\":{\"shape\":\"\"}},\"name\":\"\",\"offsetgroup\":\"\",\"orientation\":\"v\",\"showlegend\":false,\"x\":[0,-1,0,0,1,0,0,0,-1,0,0,0,0,1,1,-1,0,1,1,0,0,0,0,1,0,0,-1,0,1,0,-1,1,0,0,-1,1,0,-1,1,0,0,0,0,0,-1,-1,0,0,-1,0,0,0,0,0,2,0,0,0,0,0,0,1,0,1,0,-1,0,0,0,0,0,0,-2,0,1,1,0,0,-1,0,0,0,-1,0,0,0,1,1,1,1,0,0,-1,1,0,0,-2,0,0,0,0,1,-1,0,0,0,-2,0,-1,0,-1,1,0,1,1,1,0,0,0,1,-1,2,1,-1,-1,0,0,1,0,0,0,1,0,-1,0,-2,0,1,0,0,-1,0,0,-1,0,0,0,-1,0,0,1,0,-1,0,0,1,2,1,1,0,-1,0,0,0,-1,0,1,0,0,1,0,1,0,0,-1,0,0,0,0,0,0,0,0,0,0,0,-1,0,1,-1,-1,0,0,-2,1,0,1,0,1,0,0,0,1,0,0,0,1,-1,0,0,1,-1,1,0,0,0,0,0,1,0,0,0,0,0,0,-1,-1,1,0,1,0,0,0,1,1,0,0,0,-1,1,0,0,0,1,0,-1,1,0,0,2,0,0,-1,1,-1,-1,1,1,0,0,0,1,0,1,1,0,0,1,1,0,0,0,-1,0,0,0,0,-2,0,1,0,0,0,1,-1,0],\"xaxis\":\"x\",\"yaxis\":\"y\",\"type\":\"histogram\"}],                        {\"template\":{\"data\":{\"bar\":[{\"error_x\":{\"color\":\"#2a3f5f\"},\"error_y\":{\"color\":\"#2a3f5f\"},\"marker\":{\"line\":{\"color\":\"#E5ECF6\",\"width\":0.5},\"pattern\":{\"fillmode\":\"overlay\",\"size\":10,\"solidity\":0.2}},\"type\":\"bar\"}],\"barpolar\":[{\"marker\":{\"line\":{\"color\":\"#E5ECF6\",\"width\":0.5},\"pattern\":{\"fillmode\":\"overlay\",\"size\":10,\"solidity\":0.2}},\"type\":\"barpolar\"}],\"carpet\":[{\"aaxis\":{\"endlinecolor\":\"#2a3f5f\",\"gridcolor\":\"white\",\"linecolor\":\"white\",\"minorgridcolor\":\"white\",\"startlinecolor\":\"#2a3f5f\"},\"baxis\":{\"endlinecolor\":\"#2a3f5f\",\"gridcolor\":\"white\",\"linecolor\":\"white\",\"minorgridcolor\":\"white\",\"startlinecolor\":\"#2a3f5f\"},\"type\":\"carpet\"}],\"choropleth\":[{\"colorbar\":{\"outlinewidth\":0,\"ticks\":\"\"},\"type\":\"choropleth\"}],\"contour\":[{\"colorbar\":{\"outlinewidth\":0,\"ticks\":\"\"},\"colorscale\":[[0.0,\"#0d0887\"],[0.1111111111111111,\"#46039f\"],[0.2222222222222222,\"#7201a8\"],[0.3333333333333333,\"#9c179e\"],[0.4444444444444444,\"#bd3786\"],[0.5555555555555556,\"#d8576b\"],[0.6666666666666666,\"#ed7953\"],[0.7777777777777778,\"#fb9f3a\"],[0.8888888888888888,\"#fdca26\"],[1.0,\"#f0f921\"]],\"type\":\"contour\"}],\"contourcarpet\":[{\"colorbar\":{\"outlinewidth\":0,\"ticks\":\"\"},\"type\":\"contourcarpet\"}],\"heatmap\":[{\"colorbar\":{\"outlinewidth\":0,\"ticks\":\"\"},\"colorscale\":[[0.0,\"#0d0887\"],[0.1111111111111111,\"#46039f\"],[0.2222222222222222,\"#7201a8\"],[0.3333333333333333,\"#9c179e\"],[0.4444444444444444,\"#bd3786\"],[0.5555555555555556,\"#d8576b\"],[0.6666666666666666,\"#ed7953\"],[0.7777777777777778,\"#fb9f3a\"],[0.8888888888888888,\"#fdca26\"],[1.0,\"#f0f921\"]],\"type\":\"heatmap\"}],\"heatmapgl\":[{\"colorbar\":{\"outlinewidth\":0,\"ticks\":\"\"},\"colorscale\":[[0.0,\"#0d0887\"],[0.1111111111111111,\"#46039f\"],[0.2222222222222222,\"#7201a8\"],[0.3333333333333333,\"#9c179e\"],[0.4444444444444444,\"#bd3786\"],[0.5555555555555556,\"#d8576b\"],[0.6666666666666666,\"#ed7953\"],[0.7777777777777778,\"#fb9f3a\"],[0.8888888888888888,\"#fdca26\"],[1.0,\"#f0f921\"]],\"type\":\"heatmapgl\"}],\"histogram\":[{\"marker\":{\"pattern\":{\"fillmode\":\"overlay\",\"size\":10,\"solidity\":0.2}},\"type\":\"histogram\"}],\"histogram2d\":[{\"colorbar\":{\"outlinewidth\":0,\"ticks\":\"\"},\"colorscale\":[[0.0,\"#0d0887\"],[0.1111111111111111,\"#46039f\"],[0.2222222222222222,\"#7201a8\"],[0.3333333333333333,\"#9c179e\"],[0.4444444444444444,\"#bd3786\"],[0.5555555555555556,\"#d8576b\"],[0.6666666666666666,\"#ed7953\"],[0.7777777777777778,\"#fb9f3a\"],[0.8888888888888888,\"#fdca26\"],[1.0,\"#f0f921\"]],\"type\":\"histogram2d\"}],\"histogram2dcontour\":[{\"colorbar\":{\"outlinewidth\":0,\"ticks\":\"\"},\"colorscale\":[[0.0,\"#0d0887\"],[0.1111111111111111,\"#46039f\"],[0.2222222222222222,\"#7201a8\"],[0.3333333333333333,\"#9c179e\"],[0.4444444444444444,\"#bd3786\"],[0.5555555555555556,\"#d8576b\"],[0.6666666666666666,\"#ed7953\"],[0.7777777777777778,\"#fb9f3a\"],[0.8888888888888888,\"#fdca26\"],[1.0,\"#f0f921\"]],\"type\":\"histogram2dcontour\"}],\"mesh3d\":[{\"colorbar\":{\"outlinewidth\":0,\"ticks\":\"\"},\"type\":\"mesh3d\"}],\"parcoords\":[{\"line\":{\"colorbar\":{\"outlinewidth\":0,\"ticks\":\"\"}},\"type\":\"parcoords\"}],\"pie\":[{\"automargin\":true,\"type\":\"pie\"}],\"scatter\":[{\"marker\":{\"colorbar\":{\"outlinewidth\":0,\"ticks\":\"\"}},\"type\":\"scatter\"}],\"scatter3d\":[{\"line\":{\"colorbar\":{\"outlinewidth\":0,\"ticks\":\"\"}},\"marker\":{\"colorbar\":{\"outlinewidth\":0,\"ticks\":\"\"}},\"type\":\"scatter3d\"}],\"scattercarpet\":[{\"marker\":{\"colorbar\":{\"outlinewidth\":0,\"ticks\":\"\"}},\"type\":\"scattercarpet\"}],\"scattergeo\":[{\"marker\":{\"colorbar\":{\"outlinewidth\":0,\"ticks\":\"\"}},\"type\":\"scattergeo\"}],\"scattergl\":[{\"marker\":{\"colorbar\":{\"outlinewidth\":0,\"ticks\":\"\"}},\"type\":\"scattergl\"}],\"scattermapbox\":[{\"marker\":{\"colorbar\":{\"outlinewidth\":0,\"ticks\":\"\"}},\"type\":\"scattermapbox\"}],\"scatterpolar\":[{\"marker\":{\"colorbar\":{\"outlinewidth\":0,\"ticks\":\"\"}},\"type\":\"scatterpolar\"}],\"scatterpolargl\":[{\"marker\":{\"colorbar\":{\"outlinewidth\":0,\"ticks\":\"\"}},\"type\":\"scatterpolargl\"}],\"scatterternary\":[{\"marker\":{\"colorbar\":{\"outlinewidth\":0,\"ticks\":\"\"}},\"type\":\"scatterternary\"}],\"surface\":[{\"colorbar\":{\"outlinewidth\":0,\"ticks\":\"\"},\"colorscale\":[[0.0,\"#0d0887\"],[0.1111111111111111,\"#46039f\"],[0.2222222222222222,\"#7201a8\"],[0.3333333333333333,\"#9c179e\"],[0.4444444444444444,\"#bd3786\"],[0.5555555555555556,\"#d8576b\"],[0.6666666666666666,\"#ed7953\"],[0.7777777777777778,\"#fb9f3a\"],[0.8888888888888888,\"#fdca26\"],[1.0,\"#f0f921\"]],\"type\":\"surface\"}],\"table\":[{\"cells\":{\"fill\":{\"color\":\"#EBF0F8\"},\"line\":{\"color\":\"white\"}},\"header\":{\"fill\":{\"color\":\"#C8D4E3\"},\"line\":{\"color\":\"white\"}},\"type\":\"table\"}]},\"layout\":{\"annotationdefaults\":{\"arrowcolor\":\"#2a3f5f\",\"arrowhead\":0,\"arrowwidth\":1},\"autotypenumbers\":\"strict\",\"coloraxis\":{\"colorbar\":{\"outlinewidth\":0,\"ticks\":\"\"}},\"colorscale\":{\"diverging\":[[0,\"#8e0152\"],[0.1,\"#c51b7d\"],[0.2,\"#de77ae\"],[0.3,\"#f1b6da\"],[0.4,\"#fde0ef\"],[0.5,\"#f7f7f7\"],[0.6,\"#e6f5d0\"],[0.7,\"#b8e186\"],[0.8,\"#7fbc41\"],[0.9,\"#4d9221\"],[1,\"#276419\"]],\"sequential\":[[0.0,\"#0d0887\"],[0.1111111111111111,\"#46039f\"],[0.2222222222222222,\"#7201a8\"],[0.3333333333333333,\"#9c179e\"],[0.4444444444444444,\"#bd3786\"],[0.5555555555555556,\"#d8576b\"],[0.6666666666666666,\"#ed7953\"],[0.7777777777777778,\"#fb9f3a\"],[0.8888888888888888,\"#fdca26\"],[1.0,\"#f0f921\"]],\"sequentialminus\":[[0.0,\"#0d0887\"],[0.1111111111111111,\"#46039f\"],[0.2222222222222222,\"#7201a8\"],[0.3333333333333333,\"#9c179e\"],[0.4444444444444444,\"#bd3786\"],[0.5555555555555556,\"#d8576b\"],[0.6666666666666666,\"#ed7953\"],[0.7777777777777778,\"#fb9f3a\"],[0.8888888888888888,\"#fdca26\"],[1.0,\"#f0f921\"]]},\"colorway\":[\"#636efa\",\"#EF553B\",\"#00cc96\",\"#ab63fa\",\"#FFA15A\",\"#19d3f3\",\"#FF6692\",\"#B6E880\",\"#FF97FF\",\"#FECB52\"],\"font\":{\"color\":\"#2a3f5f\"},\"geo\":{\"bgcolor\":\"white\",\"lakecolor\":\"white\",\"landcolor\":\"#E5ECF6\",\"showlakes\":true,\"showland\":true,\"subunitcolor\":\"white\"},\"hoverlabel\":{\"align\":\"left\"},\"hovermode\":\"closest\",\"mapbox\":{\"style\":\"light\"},\"paper_bgcolor\":\"white\",\"plot_bgcolor\":\"#E5ECF6\",\"polar\":{\"angularaxis\":{\"gridcolor\":\"white\",\"linecolor\":\"white\",\"ticks\":\"\"},\"bgcolor\":\"#E5ECF6\",\"radialaxis\":{\"gridcolor\":\"white\",\"linecolor\":\"white\",\"ticks\":\"\"}},\"scene\":{\"xaxis\":{\"backgroundcolor\":\"#E5ECF6\",\"gridcolor\":\"white\",\"gridwidth\":2,\"linecolor\":\"white\",\"showbackground\":true,\"ticks\":\"\",\"zerolinecolor\":\"white\"},\"yaxis\":{\"backgroundcolor\":\"#E5ECF6\",\"gridcolor\":\"white\",\"gridwidth\":2,\"linecolor\":\"white\",\"showbackground\":true,\"ticks\":\"\",\"zerolinecolor\":\"white\"},\"zaxis\":{\"backgroundcolor\":\"#E5ECF6\",\"gridcolor\":\"white\",\"gridwidth\":2,\"linecolor\":\"white\",\"showbackground\":true,\"ticks\":\"\",\"zerolinecolor\":\"white\"}},\"shapedefaults\":{\"line\":{\"color\":\"#2a3f5f\"}},\"ternary\":{\"aaxis\":{\"gridcolor\":\"white\",\"linecolor\":\"white\",\"ticks\":\"\"},\"baxis\":{\"gridcolor\":\"white\",\"linecolor\":\"white\",\"ticks\":\"\"},\"bgcolor\":\"#E5ECF6\",\"caxis\":{\"gridcolor\":\"white\",\"linecolor\":\"white\",\"ticks\":\"\"}},\"title\":{\"x\":0.05},\"xaxis\":{\"automargin\":true,\"gridcolor\":\"white\",\"linecolor\":\"white\",\"ticks\":\"\",\"title\":{\"standoff\":15},\"zerolinecolor\":\"white\",\"zerolinewidth\":2},\"yaxis\":{\"automargin\":true,\"gridcolor\":\"white\",\"linecolor\":\"white\",\"ticks\":\"\",\"title\":{\"standoff\":15},\"zerolinecolor\":\"white\",\"zerolinewidth\":2}}},\"xaxis\":{\"anchor\":\"y\",\"domain\":[0.0,1.0],\"title\":{\"text\":\"error\"}},\"yaxis\":{\"anchor\":\"x\",\"domain\":[0.0,1.0],\"title\":{\"text\":\"count\"}},\"legend\":{\"tracegroupgap\":0},\"title\":{\"text\":\"Model prediction - error distribution\"},\"barmode\":\"relative\"},                        {\"responsive\": true}                    ).then(function(){\n",
              "                            \n",
              "var gd = document.getElementById('3a0d767e-962e-4d07-a02f-b3dc443dbf51');\n",
              "var x = new MutationObserver(function (mutations, observer) {{\n",
              "        var display = window.getComputedStyle(gd).display;\n",
              "        if (!display || display === 'none') {{\n",
              "            console.log([gd, 'removed!']);\n",
              "            Plotly.purge(gd);\n",
              "            observer.disconnect();\n",
              "        }}\n",
              "}});\n",
              "\n",
              "// Listen for the removal of the full notebook cells\n",
              "var notebookContainer = gd.closest('#notebook-container');\n",
              "if (notebookContainer) {{\n",
              "    x.observe(notebookContainer, {childList: true});\n",
              "}}\n",
              "\n",
              "// Listen for the clearing of the current output cell\n",
              "var outputEl = gd.closest('.output');\n",
              "if (outputEl) {{\n",
              "    x.observe(outputEl, {childList: true});\n",
              "}}\n",
              "\n",
              "                        })                };                            </script>        </div>\n",
              "</body>\n",
              "</html>"
            ]
          },
          "metadata": {}
        }
      ]
    },
    {
      "cell_type": "code",
      "source": [
        "from sklearn.metrics import confusion_matrix\n",
        "\n",
        "matrix = confusion_matrix(data[\"y_true\"], data[\"y_pred\"])\n",
        "fig = px.imshow(matrix,\n",
        "                x=[3, 4, 5, 6, 7, 8],\n",
        "                y=[3, 4, 5, 6, 7, 8],\n",
        "                text_auto=True)\n",
        "\n",
        "fig.show()"
      ],
      "metadata": {
        "colab": {
          "base_uri": "https://localhost:8080/",
          "height": 542
        },
        "id": "7Cnp1i6fZUI_",
        "outputId": "57bc42dc-a659-4b8c-f71b-1d67b5a131aa"
      },
      "execution_count": 724,
      "outputs": [
        {
          "output_type": "display_data",
          "data": {
            "text/html": [
              "<html>\n",
              "<head><meta charset=\"utf-8\" /></head>\n",
              "<body>\n",
              "    <div>            <script src=\"https://cdnjs.cloudflare.com/ajax/libs/mathjax/2.7.5/MathJax.js?config=TeX-AMS-MML_SVG\"></script><script type=\"text/javascript\">if (window.MathJax) {MathJax.Hub.Config({SVG: {font: \"STIX-Web\"}});}</script>                <script type=\"text/javascript\">window.PlotlyConfig = {MathJaxConfig: 'local'};</script>\n",
              "        <script src=\"https://cdn.plot.ly/plotly-2.8.3.min.js\"></script>                <div id=\"67837b73-71e1-4f52-9f35-1bf0197e869b\" class=\"plotly-graph-div\" style=\"height:525px; width:100%;\"></div>            <script type=\"text/javascript\">                                    window.PLOTLYENV=window.PLOTLYENV || {};                                    if (document.getElementById(\"67837b73-71e1-4f52-9f35-1bf0197e869b\")) {                    Plotly.newPlot(                        \"67837b73-71e1-4f52-9f35-1bf0197e869b\",                        [{\"coloraxis\":\"coloraxis\",\"name\":\"0\",\"texttemplate\":\"%{z}\",\"x\":[3,4,5,6,7,8],\"y\":[3,4,5,6,7,8],\"z\":[[0,0,1,0,0,0],[0,0,6,2,0,0],[0,1,89,28,3,0],[0,1,36,71,8,0],[0,0,1,23,12,0],[0,0,0,2,2,0]],\"type\":\"heatmap\",\"xaxis\":\"x\",\"yaxis\":\"y\",\"hovertemplate\":\"x: %{x}<br>y: %{y}<br>color: %{z}<extra></extra>\"}],                        {\"template\":{\"data\":{\"bar\":[{\"error_x\":{\"color\":\"#2a3f5f\"},\"error_y\":{\"color\":\"#2a3f5f\"},\"marker\":{\"line\":{\"color\":\"#E5ECF6\",\"width\":0.5},\"pattern\":{\"fillmode\":\"overlay\",\"size\":10,\"solidity\":0.2}},\"type\":\"bar\"}],\"barpolar\":[{\"marker\":{\"line\":{\"color\":\"#E5ECF6\",\"width\":0.5},\"pattern\":{\"fillmode\":\"overlay\",\"size\":10,\"solidity\":0.2}},\"type\":\"barpolar\"}],\"carpet\":[{\"aaxis\":{\"endlinecolor\":\"#2a3f5f\",\"gridcolor\":\"white\",\"linecolor\":\"white\",\"minorgridcolor\":\"white\",\"startlinecolor\":\"#2a3f5f\"},\"baxis\":{\"endlinecolor\":\"#2a3f5f\",\"gridcolor\":\"white\",\"linecolor\":\"white\",\"minorgridcolor\":\"white\",\"startlinecolor\":\"#2a3f5f\"},\"type\":\"carpet\"}],\"choropleth\":[{\"colorbar\":{\"outlinewidth\":0,\"ticks\":\"\"},\"type\":\"choropleth\"}],\"contour\":[{\"colorbar\":{\"outlinewidth\":0,\"ticks\":\"\"},\"colorscale\":[[0.0,\"#0d0887\"],[0.1111111111111111,\"#46039f\"],[0.2222222222222222,\"#7201a8\"],[0.3333333333333333,\"#9c179e\"],[0.4444444444444444,\"#bd3786\"],[0.5555555555555556,\"#d8576b\"],[0.6666666666666666,\"#ed7953\"],[0.7777777777777778,\"#fb9f3a\"],[0.8888888888888888,\"#fdca26\"],[1.0,\"#f0f921\"]],\"type\":\"contour\"}],\"contourcarpet\":[{\"colorbar\":{\"outlinewidth\":0,\"ticks\":\"\"},\"type\":\"contourcarpet\"}],\"heatmap\":[{\"colorbar\":{\"outlinewidth\":0,\"ticks\":\"\"},\"colorscale\":[[0.0,\"#0d0887\"],[0.1111111111111111,\"#46039f\"],[0.2222222222222222,\"#7201a8\"],[0.3333333333333333,\"#9c179e\"],[0.4444444444444444,\"#bd3786\"],[0.5555555555555556,\"#d8576b\"],[0.6666666666666666,\"#ed7953\"],[0.7777777777777778,\"#fb9f3a\"],[0.8888888888888888,\"#fdca26\"],[1.0,\"#f0f921\"]],\"type\":\"heatmap\"}],\"heatmapgl\":[{\"colorbar\":{\"outlinewidth\":0,\"ticks\":\"\"},\"colorscale\":[[0.0,\"#0d0887\"],[0.1111111111111111,\"#46039f\"],[0.2222222222222222,\"#7201a8\"],[0.3333333333333333,\"#9c179e\"],[0.4444444444444444,\"#bd3786\"],[0.5555555555555556,\"#d8576b\"],[0.6666666666666666,\"#ed7953\"],[0.7777777777777778,\"#fb9f3a\"],[0.8888888888888888,\"#fdca26\"],[1.0,\"#f0f921\"]],\"type\":\"heatmapgl\"}],\"histogram\":[{\"marker\":{\"pattern\":{\"fillmode\":\"overlay\",\"size\":10,\"solidity\":0.2}},\"type\":\"histogram\"}],\"histogram2d\":[{\"colorbar\":{\"outlinewidth\":0,\"ticks\":\"\"},\"colorscale\":[[0.0,\"#0d0887\"],[0.1111111111111111,\"#46039f\"],[0.2222222222222222,\"#7201a8\"],[0.3333333333333333,\"#9c179e\"],[0.4444444444444444,\"#bd3786\"],[0.5555555555555556,\"#d8576b\"],[0.6666666666666666,\"#ed7953\"],[0.7777777777777778,\"#fb9f3a\"],[0.8888888888888888,\"#fdca26\"],[1.0,\"#f0f921\"]],\"type\":\"histogram2d\"}],\"histogram2dcontour\":[{\"colorbar\":{\"outlinewidth\":0,\"ticks\":\"\"},\"colorscale\":[[0.0,\"#0d0887\"],[0.1111111111111111,\"#46039f\"],[0.2222222222222222,\"#7201a8\"],[0.3333333333333333,\"#9c179e\"],[0.4444444444444444,\"#bd3786\"],[0.5555555555555556,\"#d8576b\"],[0.6666666666666666,\"#ed7953\"],[0.7777777777777778,\"#fb9f3a\"],[0.8888888888888888,\"#fdca26\"],[1.0,\"#f0f921\"]],\"type\":\"histogram2dcontour\"}],\"mesh3d\":[{\"colorbar\":{\"outlinewidth\":0,\"ticks\":\"\"},\"type\":\"mesh3d\"}],\"parcoords\":[{\"line\":{\"colorbar\":{\"outlinewidth\":0,\"ticks\":\"\"}},\"type\":\"parcoords\"}],\"pie\":[{\"automargin\":true,\"type\":\"pie\"}],\"scatter\":[{\"marker\":{\"colorbar\":{\"outlinewidth\":0,\"ticks\":\"\"}},\"type\":\"scatter\"}],\"scatter3d\":[{\"line\":{\"colorbar\":{\"outlinewidth\":0,\"ticks\":\"\"}},\"marker\":{\"colorbar\":{\"outlinewidth\":0,\"ticks\":\"\"}},\"type\":\"scatter3d\"}],\"scattercarpet\":[{\"marker\":{\"colorbar\":{\"outlinewidth\":0,\"ticks\":\"\"}},\"type\":\"scattercarpet\"}],\"scattergeo\":[{\"marker\":{\"colorbar\":{\"outlinewidth\":0,\"ticks\":\"\"}},\"type\":\"scattergeo\"}],\"scattergl\":[{\"marker\":{\"colorbar\":{\"outlinewidth\":0,\"ticks\":\"\"}},\"type\":\"scattergl\"}],\"scattermapbox\":[{\"marker\":{\"colorbar\":{\"outlinewidth\":0,\"ticks\":\"\"}},\"type\":\"scattermapbox\"}],\"scatterpolar\":[{\"marker\":{\"colorbar\":{\"outlinewidth\":0,\"ticks\":\"\"}},\"type\":\"scatterpolar\"}],\"scatterpolargl\":[{\"marker\":{\"colorbar\":{\"outlinewidth\":0,\"ticks\":\"\"}},\"type\":\"scatterpolargl\"}],\"scatterternary\":[{\"marker\":{\"colorbar\":{\"outlinewidth\":0,\"ticks\":\"\"}},\"type\":\"scatterternary\"}],\"surface\":[{\"colorbar\":{\"outlinewidth\":0,\"ticks\":\"\"},\"colorscale\":[[0.0,\"#0d0887\"],[0.1111111111111111,\"#46039f\"],[0.2222222222222222,\"#7201a8\"],[0.3333333333333333,\"#9c179e\"],[0.4444444444444444,\"#bd3786\"],[0.5555555555555556,\"#d8576b\"],[0.6666666666666666,\"#ed7953\"],[0.7777777777777778,\"#fb9f3a\"],[0.8888888888888888,\"#fdca26\"],[1.0,\"#f0f921\"]],\"type\":\"surface\"}],\"table\":[{\"cells\":{\"fill\":{\"color\":\"#EBF0F8\"},\"line\":{\"color\":\"white\"}},\"header\":{\"fill\":{\"color\":\"#C8D4E3\"},\"line\":{\"color\":\"white\"}},\"type\":\"table\"}]},\"layout\":{\"annotationdefaults\":{\"arrowcolor\":\"#2a3f5f\",\"arrowhead\":0,\"arrowwidth\":1},\"autotypenumbers\":\"strict\",\"coloraxis\":{\"colorbar\":{\"outlinewidth\":0,\"ticks\":\"\"}},\"colorscale\":{\"diverging\":[[0,\"#8e0152\"],[0.1,\"#c51b7d\"],[0.2,\"#de77ae\"],[0.3,\"#f1b6da\"],[0.4,\"#fde0ef\"],[0.5,\"#f7f7f7\"],[0.6,\"#e6f5d0\"],[0.7,\"#b8e186\"],[0.8,\"#7fbc41\"],[0.9,\"#4d9221\"],[1,\"#276419\"]],\"sequential\":[[0.0,\"#0d0887\"],[0.1111111111111111,\"#46039f\"],[0.2222222222222222,\"#7201a8\"],[0.3333333333333333,\"#9c179e\"],[0.4444444444444444,\"#bd3786\"],[0.5555555555555556,\"#d8576b\"],[0.6666666666666666,\"#ed7953\"],[0.7777777777777778,\"#fb9f3a\"],[0.8888888888888888,\"#fdca26\"],[1.0,\"#f0f921\"]],\"sequentialminus\":[[0.0,\"#0d0887\"],[0.1111111111111111,\"#46039f\"],[0.2222222222222222,\"#7201a8\"],[0.3333333333333333,\"#9c179e\"],[0.4444444444444444,\"#bd3786\"],[0.5555555555555556,\"#d8576b\"],[0.6666666666666666,\"#ed7953\"],[0.7777777777777778,\"#fb9f3a\"],[0.8888888888888888,\"#fdca26\"],[1.0,\"#f0f921\"]]},\"colorway\":[\"#636efa\",\"#EF553B\",\"#00cc96\",\"#ab63fa\",\"#FFA15A\",\"#19d3f3\",\"#FF6692\",\"#B6E880\",\"#FF97FF\",\"#FECB52\"],\"font\":{\"color\":\"#2a3f5f\"},\"geo\":{\"bgcolor\":\"white\",\"lakecolor\":\"white\",\"landcolor\":\"#E5ECF6\",\"showlakes\":true,\"showland\":true,\"subunitcolor\":\"white\"},\"hoverlabel\":{\"align\":\"left\"},\"hovermode\":\"closest\",\"mapbox\":{\"style\":\"light\"},\"paper_bgcolor\":\"white\",\"plot_bgcolor\":\"#E5ECF6\",\"polar\":{\"angularaxis\":{\"gridcolor\":\"white\",\"linecolor\":\"white\",\"ticks\":\"\"},\"bgcolor\":\"#E5ECF6\",\"radialaxis\":{\"gridcolor\":\"white\",\"linecolor\":\"white\",\"ticks\":\"\"}},\"scene\":{\"xaxis\":{\"backgroundcolor\":\"#E5ECF6\",\"gridcolor\":\"white\",\"gridwidth\":2,\"linecolor\":\"white\",\"showbackground\":true,\"ticks\":\"\",\"zerolinecolor\":\"white\"},\"yaxis\":{\"backgroundcolor\":\"#E5ECF6\",\"gridcolor\":\"white\",\"gridwidth\":2,\"linecolor\":\"white\",\"showbackground\":true,\"ticks\":\"\",\"zerolinecolor\":\"white\"},\"zaxis\":{\"backgroundcolor\":\"#E5ECF6\",\"gridcolor\":\"white\",\"gridwidth\":2,\"linecolor\":\"white\",\"showbackground\":true,\"ticks\":\"\",\"zerolinecolor\":\"white\"}},\"shapedefaults\":{\"line\":{\"color\":\"#2a3f5f\"}},\"ternary\":{\"aaxis\":{\"gridcolor\":\"white\",\"linecolor\":\"white\",\"ticks\":\"\"},\"baxis\":{\"gridcolor\":\"white\",\"linecolor\":\"white\",\"ticks\":\"\"},\"bgcolor\":\"#E5ECF6\",\"caxis\":{\"gridcolor\":\"white\",\"linecolor\":\"white\",\"ticks\":\"\"}},\"title\":{\"x\":0.05},\"xaxis\":{\"automargin\":true,\"gridcolor\":\"white\",\"linecolor\":\"white\",\"ticks\":\"\",\"title\":{\"standoff\":15},\"zerolinecolor\":\"white\",\"zerolinewidth\":2},\"yaxis\":{\"automargin\":true,\"gridcolor\":\"white\",\"linecolor\":\"white\",\"ticks\":\"\",\"title\":{\"standoff\":15},\"zerolinecolor\":\"white\",\"zerolinewidth\":2}}},\"xaxis\":{\"anchor\":\"y\",\"domain\":[0.0,1.0],\"scaleanchor\":\"y\",\"constrain\":\"domain\"},\"yaxis\":{\"anchor\":\"x\",\"domain\":[0.0,1.0],\"autorange\":\"reversed\",\"constrain\":\"domain\"},\"coloraxis\":{\"colorscale\":[[0.0,\"#0d0887\"],[0.1111111111111111,\"#46039f\"],[0.2222222222222222,\"#7201a8\"],[0.3333333333333333,\"#9c179e\"],[0.4444444444444444,\"#bd3786\"],[0.5555555555555556,\"#d8576b\"],[0.6666666666666666,\"#ed7953\"],[0.7777777777777778,\"#fb9f3a\"],[0.8888888888888888,\"#fdca26\"],[1.0,\"#f0f921\"]]},\"margin\":{\"t\":60}},                        {\"responsive\": true}                    ).then(function(){\n",
              "                            \n",
              "var gd = document.getElementById('67837b73-71e1-4f52-9f35-1bf0197e869b');\n",
              "var x = new MutationObserver(function (mutations, observer) {{\n",
              "        var display = window.getComputedStyle(gd).display;\n",
              "        if (!display || display === 'none') {{\n",
              "            console.log([gd, 'removed!']);\n",
              "            Plotly.purge(gd);\n",
              "            observer.disconnect();\n",
              "        }}\n",
              "}});\n",
              "\n",
              "// Listen for the removal of the full notebook cells\n",
              "var notebookContainer = gd.closest('#notebook-container');\n",
              "if (notebookContainer) {{\n",
              "    x.observe(notebookContainer, {childList: true});\n",
              "}}\n",
              "\n",
              "// Listen for the clearing of the current output cell\n",
              "var outputEl = gd.closest('.output');\n",
              "if (outputEl) {{\n",
              "    x.observe(outputEl, {childList: true});\n",
              "}}\n",
              "\n",
              "                        })                };                            </script>        </div>\n",
              "</body>\n",
              "</html>"
            ]
          },
          "metadata": {}
        }
      ]
    },
    {
      "cell_type": "code",
      "source": [
        "X = df.copy()\n",
        "y = X.pop('quality')\n",
        "X = X.values\n",
        "y = y.values"
      ],
      "metadata": {
        "id": "GTD3bWYHlNcq"
      },
      "execution_count": 725,
      "outputs": []
    },
    {
      "cell_type": "code",
      "source": [
        "pred = model.predict(X)\n",
        "pred = np.argmax(pred, 1) + 3"
      ],
      "metadata": {
        "colab": {
          "base_uri": "https://localhost:8080/"
        },
        "id": "LCixx24xoYFK",
        "outputId": "9b3441a7-e930-416b-ea07-e4d86763264c"
      },
      "execution_count": 726,
      "outputs": [
        {
          "output_type": "stream",
          "name": "stdout",
          "text": [
            "36/36 [==============================] - 0s 1ms/step\n"
          ]
        }
      ]
    },
    {
      "cell_type": "code",
      "source": [
        "matrix = confusion_matrix(y, pred)\n",
        "fig = px.imshow(matrix,\n",
        "                x=[3, 4, 5, 6, 7, 8],\n",
        "                y=[3, 4, 5, 6, 7, 8],\n",
        "                text_auto=True)\n",
        "\n",
        "fig.show()"
      ],
      "metadata": {
        "colab": {
          "base_uri": "https://localhost:8080/",
          "height": 542
        },
        "id": "Pk4s1DwsodSB",
        "outputId": "03e9ec01-740d-4ebd-a375-59bb0a4c7c03"
      },
      "execution_count": 727,
      "outputs": [
        {
          "output_type": "display_data",
          "data": {
            "text/html": [
              "<html>\n",
              "<head><meta charset=\"utf-8\" /></head>\n",
              "<body>\n",
              "    <div>            <script src=\"https://cdnjs.cloudflare.com/ajax/libs/mathjax/2.7.5/MathJax.js?config=TeX-AMS-MML_SVG\"></script><script type=\"text/javascript\">if (window.MathJax) {MathJax.Hub.Config({SVG: {font: \"STIX-Web\"}});}</script>                <script type=\"text/javascript\">window.PlotlyConfig = {MathJaxConfig: 'local'};</script>\n",
              "        <script src=\"https://cdn.plot.ly/plotly-2.8.3.min.js\"></script>                <div id=\"66d3ca78-fdb4-4285-9852-a99c353636f1\" class=\"plotly-graph-div\" style=\"height:525px; width:100%;\"></div>            <script type=\"text/javascript\">                                    window.PLOTLYENV=window.PLOTLYENV || {};                                    if (document.getElementById(\"66d3ca78-fdb4-4285-9852-a99c353636f1\")) {                    Plotly.newPlot(                        \"66d3ca78-fdb4-4285-9852-a99c353636f1\",                        [{\"coloraxis\":\"coloraxis\",\"name\":\"0\",\"texttemplate\":\"%{z}\",\"x\":[3,4,5,6,7,8],\"y\":[3,4,5,6,7,8],\"z\":[[0,0,2,0,4,0],[0,0,12,8,13,0],[0,0,242,126,115,0],[0,0,127,186,149,0],[0,0,22,47,74,0],[0,0,2,4,10,0]],\"type\":\"heatmap\",\"xaxis\":\"x\",\"yaxis\":\"y\",\"hovertemplate\":\"x: %{x}<br>y: %{y}<br>color: %{z}<extra></extra>\"}],                        {\"template\":{\"data\":{\"bar\":[{\"error_x\":{\"color\":\"#2a3f5f\"},\"error_y\":{\"color\":\"#2a3f5f\"},\"marker\":{\"line\":{\"color\":\"#E5ECF6\",\"width\":0.5},\"pattern\":{\"fillmode\":\"overlay\",\"size\":10,\"solidity\":0.2}},\"type\":\"bar\"}],\"barpolar\":[{\"marker\":{\"line\":{\"color\":\"#E5ECF6\",\"width\":0.5},\"pattern\":{\"fillmode\":\"overlay\",\"size\":10,\"solidity\":0.2}},\"type\":\"barpolar\"}],\"carpet\":[{\"aaxis\":{\"endlinecolor\":\"#2a3f5f\",\"gridcolor\":\"white\",\"linecolor\":\"white\",\"minorgridcolor\":\"white\",\"startlinecolor\":\"#2a3f5f\"},\"baxis\":{\"endlinecolor\":\"#2a3f5f\",\"gridcolor\":\"white\",\"linecolor\":\"white\",\"minorgridcolor\":\"white\",\"startlinecolor\":\"#2a3f5f\"},\"type\":\"carpet\"}],\"choropleth\":[{\"colorbar\":{\"outlinewidth\":0,\"ticks\":\"\"},\"type\":\"choropleth\"}],\"contour\":[{\"colorbar\":{\"outlinewidth\":0,\"ticks\":\"\"},\"colorscale\":[[0.0,\"#0d0887\"],[0.1111111111111111,\"#46039f\"],[0.2222222222222222,\"#7201a8\"],[0.3333333333333333,\"#9c179e\"],[0.4444444444444444,\"#bd3786\"],[0.5555555555555556,\"#d8576b\"],[0.6666666666666666,\"#ed7953\"],[0.7777777777777778,\"#fb9f3a\"],[0.8888888888888888,\"#fdca26\"],[1.0,\"#f0f921\"]],\"type\":\"contour\"}],\"contourcarpet\":[{\"colorbar\":{\"outlinewidth\":0,\"ticks\":\"\"},\"type\":\"contourcarpet\"}],\"heatmap\":[{\"colorbar\":{\"outlinewidth\":0,\"ticks\":\"\"},\"colorscale\":[[0.0,\"#0d0887\"],[0.1111111111111111,\"#46039f\"],[0.2222222222222222,\"#7201a8\"],[0.3333333333333333,\"#9c179e\"],[0.4444444444444444,\"#bd3786\"],[0.5555555555555556,\"#d8576b\"],[0.6666666666666666,\"#ed7953\"],[0.7777777777777778,\"#fb9f3a\"],[0.8888888888888888,\"#fdca26\"],[1.0,\"#f0f921\"]],\"type\":\"heatmap\"}],\"heatmapgl\":[{\"colorbar\":{\"outlinewidth\":0,\"ticks\":\"\"},\"colorscale\":[[0.0,\"#0d0887\"],[0.1111111111111111,\"#46039f\"],[0.2222222222222222,\"#7201a8\"],[0.3333333333333333,\"#9c179e\"],[0.4444444444444444,\"#bd3786\"],[0.5555555555555556,\"#d8576b\"],[0.6666666666666666,\"#ed7953\"],[0.7777777777777778,\"#fb9f3a\"],[0.8888888888888888,\"#fdca26\"],[1.0,\"#f0f921\"]],\"type\":\"heatmapgl\"}],\"histogram\":[{\"marker\":{\"pattern\":{\"fillmode\":\"overlay\",\"size\":10,\"solidity\":0.2}},\"type\":\"histogram\"}],\"histogram2d\":[{\"colorbar\":{\"outlinewidth\":0,\"ticks\":\"\"},\"colorscale\":[[0.0,\"#0d0887\"],[0.1111111111111111,\"#46039f\"],[0.2222222222222222,\"#7201a8\"],[0.3333333333333333,\"#9c179e\"],[0.4444444444444444,\"#bd3786\"],[0.5555555555555556,\"#d8576b\"],[0.6666666666666666,\"#ed7953\"],[0.7777777777777778,\"#fb9f3a\"],[0.8888888888888888,\"#fdca26\"],[1.0,\"#f0f921\"]],\"type\":\"histogram2d\"}],\"histogram2dcontour\":[{\"colorbar\":{\"outlinewidth\":0,\"ticks\":\"\"},\"colorscale\":[[0.0,\"#0d0887\"],[0.1111111111111111,\"#46039f\"],[0.2222222222222222,\"#7201a8\"],[0.3333333333333333,\"#9c179e\"],[0.4444444444444444,\"#bd3786\"],[0.5555555555555556,\"#d8576b\"],[0.6666666666666666,\"#ed7953\"],[0.7777777777777778,\"#fb9f3a\"],[0.8888888888888888,\"#fdca26\"],[1.0,\"#f0f921\"]],\"type\":\"histogram2dcontour\"}],\"mesh3d\":[{\"colorbar\":{\"outlinewidth\":0,\"ticks\":\"\"},\"type\":\"mesh3d\"}],\"parcoords\":[{\"line\":{\"colorbar\":{\"outlinewidth\":0,\"ticks\":\"\"}},\"type\":\"parcoords\"}],\"pie\":[{\"automargin\":true,\"type\":\"pie\"}],\"scatter\":[{\"marker\":{\"colorbar\":{\"outlinewidth\":0,\"ticks\":\"\"}},\"type\":\"scatter\"}],\"scatter3d\":[{\"line\":{\"colorbar\":{\"outlinewidth\":0,\"ticks\":\"\"}},\"marker\":{\"colorbar\":{\"outlinewidth\":0,\"ticks\":\"\"}},\"type\":\"scatter3d\"}],\"scattercarpet\":[{\"marker\":{\"colorbar\":{\"outlinewidth\":0,\"ticks\":\"\"}},\"type\":\"scattercarpet\"}],\"scattergeo\":[{\"marker\":{\"colorbar\":{\"outlinewidth\":0,\"ticks\":\"\"}},\"type\":\"scattergeo\"}],\"scattergl\":[{\"marker\":{\"colorbar\":{\"outlinewidth\":0,\"ticks\":\"\"}},\"type\":\"scattergl\"}],\"scattermapbox\":[{\"marker\":{\"colorbar\":{\"outlinewidth\":0,\"ticks\":\"\"}},\"type\":\"scattermapbox\"}],\"scatterpolar\":[{\"marker\":{\"colorbar\":{\"outlinewidth\":0,\"ticks\":\"\"}},\"type\":\"scatterpolar\"}],\"scatterpolargl\":[{\"marker\":{\"colorbar\":{\"outlinewidth\":0,\"ticks\":\"\"}},\"type\":\"scatterpolargl\"}],\"scatterternary\":[{\"marker\":{\"colorbar\":{\"outlinewidth\":0,\"ticks\":\"\"}},\"type\":\"scatterternary\"}],\"surface\":[{\"colorbar\":{\"outlinewidth\":0,\"ticks\":\"\"},\"colorscale\":[[0.0,\"#0d0887\"],[0.1111111111111111,\"#46039f\"],[0.2222222222222222,\"#7201a8\"],[0.3333333333333333,\"#9c179e\"],[0.4444444444444444,\"#bd3786\"],[0.5555555555555556,\"#d8576b\"],[0.6666666666666666,\"#ed7953\"],[0.7777777777777778,\"#fb9f3a\"],[0.8888888888888888,\"#fdca26\"],[1.0,\"#f0f921\"]],\"type\":\"surface\"}],\"table\":[{\"cells\":{\"fill\":{\"color\":\"#EBF0F8\"},\"line\":{\"color\":\"white\"}},\"header\":{\"fill\":{\"color\":\"#C8D4E3\"},\"line\":{\"color\":\"white\"}},\"type\":\"table\"}]},\"layout\":{\"annotationdefaults\":{\"arrowcolor\":\"#2a3f5f\",\"arrowhead\":0,\"arrowwidth\":1},\"autotypenumbers\":\"strict\",\"coloraxis\":{\"colorbar\":{\"outlinewidth\":0,\"ticks\":\"\"}},\"colorscale\":{\"diverging\":[[0,\"#8e0152\"],[0.1,\"#c51b7d\"],[0.2,\"#de77ae\"],[0.3,\"#f1b6da\"],[0.4,\"#fde0ef\"],[0.5,\"#f7f7f7\"],[0.6,\"#e6f5d0\"],[0.7,\"#b8e186\"],[0.8,\"#7fbc41\"],[0.9,\"#4d9221\"],[1,\"#276419\"]],\"sequential\":[[0.0,\"#0d0887\"],[0.1111111111111111,\"#46039f\"],[0.2222222222222222,\"#7201a8\"],[0.3333333333333333,\"#9c179e\"],[0.4444444444444444,\"#bd3786\"],[0.5555555555555556,\"#d8576b\"],[0.6666666666666666,\"#ed7953\"],[0.7777777777777778,\"#fb9f3a\"],[0.8888888888888888,\"#fdca26\"],[1.0,\"#f0f921\"]],\"sequentialminus\":[[0.0,\"#0d0887\"],[0.1111111111111111,\"#46039f\"],[0.2222222222222222,\"#7201a8\"],[0.3333333333333333,\"#9c179e\"],[0.4444444444444444,\"#bd3786\"],[0.5555555555555556,\"#d8576b\"],[0.6666666666666666,\"#ed7953\"],[0.7777777777777778,\"#fb9f3a\"],[0.8888888888888888,\"#fdca26\"],[1.0,\"#f0f921\"]]},\"colorway\":[\"#636efa\",\"#EF553B\",\"#00cc96\",\"#ab63fa\",\"#FFA15A\",\"#19d3f3\",\"#FF6692\",\"#B6E880\",\"#FF97FF\",\"#FECB52\"],\"font\":{\"color\":\"#2a3f5f\"},\"geo\":{\"bgcolor\":\"white\",\"lakecolor\":\"white\",\"landcolor\":\"#E5ECF6\",\"showlakes\":true,\"showland\":true,\"subunitcolor\":\"white\"},\"hoverlabel\":{\"align\":\"left\"},\"hovermode\":\"closest\",\"mapbox\":{\"style\":\"light\"},\"paper_bgcolor\":\"white\",\"plot_bgcolor\":\"#E5ECF6\",\"polar\":{\"angularaxis\":{\"gridcolor\":\"white\",\"linecolor\":\"white\",\"ticks\":\"\"},\"bgcolor\":\"#E5ECF6\",\"radialaxis\":{\"gridcolor\":\"white\",\"linecolor\":\"white\",\"ticks\":\"\"}},\"scene\":{\"xaxis\":{\"backgroundcolor\":\"#E5ECF6\",\"gridcolor\":\"white\",\"gridwidth\":2,\"linecolor\":\"white\",\"showbackground\":true,\"ticks\":\"\",\"zerolinecolor\":\"white\"},\"yaxis\":{\"backgroundcolor\":\"#E5ECF6\",\"gridcolor\":\"white\",\"gridwidth\":2,\"linecolor\":\"white\",\"showbackground\":true,\"ticks\":\"\",\"zerolinecolor\":\"white\"},\"zaxis\":{\"backgroundcolor\":\"#E5ECF6\",\"gridcolor\":\"white\",\"gridwidth\":2,\"linecolor\":\"white\",\"showbackground\":true,\"ticks\":\"\",\"zerolinecolor\":\"white\"}},\"shapedefaults\":{\"line\":{\"color\":\"#2a3f5f\"}},\"ternary\":{\"aaxis\":{\"gridcolor\":\"white\",\"linecolor\":\"white\",\"ticks\":\"\"},\"baxis\":{\"gridcolor\":\"white\",\"linecolor\":\"white\",\"ticks\":\"\"},\"bgcolor\":\"#E5ECF6\",\"caxis\":{\"gridcolor\":\"white\",\"linecolor\":\"white\",\"ticks\":\"\"}},\"title\":{\"x\":0.05},\"xaxis\":{\"automargin\":true,\"gridcolor\":\"white\",\"linecolor\":\"white\",\"ticks\":\"\",\"title\":{\"standoff\":15},\"zerolinecolor\":\"white\",\"zerolinewidth\":2},\"yaxis\":{\"automargin\":true,\"gridcolor\":\"white\",\"linecolor\":\"white\",\"ticks\":\"\",\"title\":{\"standoff\":15},\"zerolinecolor\":\"white\",\"zerolinewidth\":2}}},\"xaxis\":{\"anchor\":\"y\",\"domain\":[0.0,1.0],\"scaleanchor\":\"y\",\"constrain\":\"domain\"},\"yaxis\":{\"anchor\":\"x\",\"domain\":[0.0,1.0],\"autorange\":\"reversed\",\"constrain\":\"domain\"},\"coloraxis\":{\"colorscale\":[[0.0,\"#0d0887\"],[0.1111111111111111,\"#46039f\"],[0.2222222222222222,\"#7201a8\"],[0.3333333333333333,\"#9c179e\"],[0.4444444444444444,\"#bd3786\"],[0.5555555555555556,\"#d8576b\"],[0.6666666666666666,\"#ed7953\"],[0.7777777777777778,\"#fb9f3a\"],[0.8888888888888888,\"#fdca26\"],[1.0,\"#f0f921\"]]},\"margin\":{\"t\":60}},                        {\"responsive\": true}                    ).then(function(){\n",
              "                            \n",
              "var gd = document.getElementById('66d3ca78-fdb4-4285-9852-a99c353636f1');\n",
              "var x = new MutationObserver(function (mutations, observer) {{\n",
              "        var display = window.getComputedStyle(gd).display;\n",
              "        if (!display || display === 'none') {{\n",
              "            console.log([gd, 'removed!']);\n",
              "            Plotly.purge(gd);\n",
              "            observer.disconnect();\n",
              "        }}\n",
              "}});\n",
              "\n",
              "// Listen for the removal of the full notebook cells\n",
              "var notebookContainer = gd.closest('#notebook-container');\n",
              "if (notebookContainer) {{\n",
              "    x.observe(notebookContainer, {childList: true});\n",
              "}}\n",
              "\n",
              "// Listen for the clearing of the current output cell\n",
              "var outputEl = gd.closest('.output');\n",
              "if (outputEl) {{\n",
              "    x.observe(outputEl, {childList: true});\n",
              "}}\n",
              "\n",
              "                        })                };                            </script>        </div>\n",
              "</body>\n",
              "</html>"
            ]
          },
          "metadata": {}
        }
      ]
    },
    {
      "cell_type": "code",
      "source": [
        "data = {\n",
        "    \"y_pred\" : pred.ravel(),\n",
        "    \"y_true\" : y.ravel()\n",
        "}\n",
        "\n",
        "data = pd.DataFrame(data)\n",
        "\n",
        "data[\"error\"] = data[\"y_true\"] - data[\"y_pred\"]"
      ],
      "metadata": {
        "id": "AIx7tYM_o2Fz"
      },
      "execution_count": 728,
      "outputs": []
    },
    {
      "cell_type": "code",
      "source": [
        "fig = px.histogram(data, x=\"error\", title=\"Model prediction - error distribution\")\n",
        "fig.show()"
      ],
      "metadata": {
        "colab": {
          "base_uri": "https://localhost:8080/",
          "height": 542
        },
        "id": "q99fsjG0rfj5",
        "outputId": "516e2921-6fd3-42e2-c7a2-273df13d9e55"
      },
      "execution_count": 729,
      "outputs": [
        {
          "output_type": "display_data",
          "data": {
            "text/html": [
              "<html>\n",
              "<head><meta charset=\"utf-8\" /></head>\n",
              "<body>\n",
              "    <div>            <script src=\"https://cdnjs.cloudflare.com/ajax/libs/mathjax/2.7.5/MathJax.js?config=TeX-AMS-MML_SVG\"></script><script type=\"text/javascript\">if (window.MathJax) {MathJax.Hub.Config({SVG: {font: \"STIX-Web\"}});}</script>                <script type=\"text/javascript\">window.PlotlyConfig = {MathJaxConfig: 'local'};</script>\n",
              "        <script src=\"https://cdn.plot.ly/plotly-2.8.3.min.js\"></script>                <div id=\"d5d0d0b2-b226-4f13-bb6d-aec0f8a4b618\" class=\"plotly-graph-div\" style=\"height:525px; width:100%;\"></div>            <script type=\"text/javascript\">                                    window.PLOTLYENV=window.PLOTLYENV || {};                                    if (document.getElementById(\"d5d0d0b2-b226-4f13-bb6d-aec0f8a4b618\")) {                    Plotly.newPlot(                        \"d5d0d0b2-b226-4f13-bb6d-aec0f8a4b618\",                        [{\"alignmentgroup\":\"True\",\"bingroup\":\"x\",\"hovertemplate\":\"error=%{x}<br>count=%{y}<extra></extra>\",\"legendgroup\":\"\",\"marker\":{\"color\":\"#636efa\",\"pattern\":{\"shape\":\"\"}},\"name\":\"\",\"offsetgroup\":\"\",\"orientation\":\"v\",\"showlegend\":false,\"x\":[-1,0,0,1,-1,-1,0,0,0,0,0,-1,2,1,0,-1,0,0,-1,-2,-1,-1,0,0,0,-1,-1,1,0,-1,-1,-2,-1,0,-1,-1,-1,0,1,-2,0,1,0,0,0,-2,-2,-2,-1,0,-1,-1,0,0,-1,-2,0,1,-1,1,-1,0,-1,0,1,-1,-1,-1,-2,0,1,0,0,0,0,0,0,0,0,0,0,1,0,0,1,-2,0,-2,-2,0,0,0,0,0,0,0,1,-1,1,0,0,0,-1,-1,0,0,0,0,0,-1,1,-2,-3,0,0,0,0,0,-1,1,-3,-1,0,0,-1,0,-2,0,0,0,-1,0,1,0,0,0,0,1,-1,-1,0,-1,-2,0,0,0,0,0,-1,1,0,1,0,0,0,0,1,0,-2,0,1,1,2,1,1,1,0,0,-1,1,0,0,0,0,0,0,0,-2,0,0,-2,0,0,1,0,-1,-1,0,-2,-1,2,0,-1,1,1,0,-1,1,2,-1,0,2,0,0,0,0,1,0,1,0,-1,1,-1,0,-1,-1,0,-1,-1,0,0,-1,-1,1,1,0,0,2,1,0,0,0,0,-2,-1,-1,1,0,-1,0,0,-1,-1,0,-1,0,0,-2,0,1,0,-1,0,0,0,0,1,-1,-2,1,1,-2,0,0,0,0,0,-1,0,0,1,3,0,-1,1,0,0,0,0,1,0,-1,0,0,-2,1,0,0,0,0,-1,0,-1,-1,1,0,0,1,0,0,-1,0,0,0,-2,1,-2,1,-1,0,2,1,1,0,-2,0,0,0,0,0,0,1,-2,0,-2,-1,-2,-1,0,-1,-1,-1,-1,0,1,-1,-2,-1,0,-2,1,-2,-2,-1,-1,0,0,1,1,1,0,0,1,1,0,2,2,0,0,0,-1,1,1,1,0,0,0,-1,-4,0,0,0,1,-1,0,-1,-1,0,0,0,-1,-1,0,-2,-1,-1,-2,1,-1,0,0,-1,1,0,0,0,0,-2,-1,-2,0,-2,0,1,0,-2,-1,-1,0,0,-1,-3,0,0,0,-2,-2,0,0,2,0,1,0,0,0,-1,0,-2,1,0,1,0,0,-2,0,0,-1,-2,0,0,-1,0,-2,-2,0,0,0,-2,0,-1,0,-1,0,0,1,-1,-1,-1,-3,1,1,-1,-1,0,-1,0,-1,1,0,0,0,0,-1,-1,-1,-1,-2,-2,-1,-1,0,-1,0,0,-2,0,-2,-2,-2,0,0,0,0,0,0,0,-1,1,0,0,-1,-3,0,-2,-1,0,0,0,0,0,-2,0,-2,0,0,-2,0,-2,-2,1,-1,-2,-2,0,0,-1,1,-1,-1,0,0,0,1,0,0,-1,0,-1,0,0,0,-1,-1,0,0,-1,-1,1,1,0,1,-1,1,0,0,1,-2,-1,-1,0,1,-1,0,0,1,1,0,1,0,1,-2,-1,0,0,1,-1,-2,2,1,-1,0,-2,-1,-2,-1,-3,0,0,-1,1,-1,-2,0,-1,-3,-1,-2,2,2,1,-1,1,0,-1,0,-1,-2,-2,0,0,0,1,1,0,-1,0,0,-1,-2,0,0,0,-1,1,-1,0,1,0,0,-1,0,1,0,1,0,1,-1,1,1,0,0,-1,1,-1,-1,-1,-1,0,0,1,0,-2,0,-2,2,1,-1,-2,0,-1,1,-1,1,-2,0,2,0,0,0,0,0,0,0,0,-2,-1,1,0,-2,-2,0,0,0,-1,0,0,0,1,-1,-1,0,-1,-1,0,-1,-1,-1,0,0,0,-1,-1,0,-1,0,0,0,0,0,-1,-1,0,-1,0,1,-1,-1,-1,-2,-1,0,0,0,-1,0,-2,1,0,1,1,0,0,1,0,0,-1,-1,-1,0,-2,0,1,0,0,1,0,-1,1,-1,-1,-1,-1,0,0,-1,1,0,0,-1,-2,2,2,1,0,0,0,0,1,1,3,-1,-1,1,-1,-1,-2,0,-1,-1,-1,0,0,-2,1,-1,2,0,1,-1,-1,-1,-1,-2,1,0,0,0,0,-1,1,0,0,0,-1,0,1,1,1,-1,-1,0,0,0,0,-1,-1,1,-1,0,-1,2,2,0,-2,1,1,-1,-1,-1,1,1,0,-2,0,1,-2,0,0,0,-3,-1,-2,1,1,1,-1,1,1,-1,0,1,0,1,1,-1,1,0,-1,-1,-1,1,0,0,0,-1,0,-1,-2,2,0,1,0,0,-1,-1,-1,-2,-3,0,0,-1,0,0,0,-2,-2,-1,0,1,0,0,-3,0,0,0,0,-1,1,1,1,-1,-1,0,1,-3,-1,1,0,1,1,-1,1,-1,-1,0,0,-2,1,0,0,0,-1,-4,0,1,-1,0,0,0,0,-1,-1,1,0,1,0,-2,0,0,0,0,-1,1,1,0,0,0,-2,0,-1,-1,-1,0,0,0,0,-2,0,-2,-2,1,0,-1,-1,1,0,0,0,0,0,0,1,1,0,-1,0,-1,0,0,0,0,0,0,0,-1,0,0,-1,-2,0,-1,-2,0,0,0,-1,1,1,-1,0,1,0,-1,-1,-1,0,-2,-2,-2,1,-1,0,-1,0,0,-2,-2,0,0,0,1,1,1,0,-1,-2,1,-2,1,-1,2,1,0,1,-1,-1,0,-2,0,1,-3,0,-1,2,-2,2,-2,-1,-2,0,0,0,2,0,2,-4,-2,-3,-2,-2,-1,-1,-2,-2,-1,-2,0,1,0,-1,-1,0,-1,-1,-4,-1,-1,-1,-2,0,-1,1,1,0,-2,-1,0,0,-1,0,1,0,-1,-1,-1,0,1,0,-2,0,0,0,-1,-1,1,-1,0,-1,0,-2,-1,0,0,0,0,-2,-2,0,0,-2,-1,0,0,-1,0,1,-1,0,-1,-1,0,-1,0,1,0,0,0,0,0,0,-1,0,-1],\"xaxis\":\"x\",\"yaxis\":\"y\",\"type\":\"histogram\"}],                        {\"template\":{\"data\":{\"bar\":[{\"error_x\":{\"color\":\"#2a3f5f\"},\"error_y\":{\"color\":\"#2a3f5f\"},\"marker\":{\"line\":{\"color\":\"#E5ECF6\",\"width\":0.5},\"pattern\":{\"fillmode\":\"overlay\",\"size\":10,\"solidity\":0.2}},\"type\":\"bar\"}],\"barpolar\":[{\"marker\":{\"line\":{\"color\":\"#E5ECF6\",\"width\":0.5},\"pattern\":{\"fillmode\":\"overlay\",\"size\":10,\"solidity\":0.2}},\"type\":\"barpolar\"}],\"carpet\":[{\"aaxis\":{\"endlinecolor\":\"#2a3f5f\",\"gridcolor\":\"white\",\"linecolor\":\"white\",\"minorgridcolor\":\"white\",\"startlinecolor\":\"#2a3f5f\"},\"baxis\":{\"endlinecolor\":\"#2a3f5f\",\"gridcolor\":\"white\",\"linecolor\":\"white\",\"minorgridcolor\":\"white\",\"startlinecolor\":\"#2a3f5f\"},\"type\":\"carpet\"}],\"choropleth\":[{\"colorbar\":{\"outlinewidth\":0,\"ticks\":\"\"},\"type\":\"choropleth\"}],\"contour\":[{\"colorbar\":{\"outlinewidth\":0,\"ticks\":\"\"},\"colorscale\":[[0.0,\"#0d0887\"],[0.1111111111111111,\"#46039f\"],[0.2222222222222222,\"#7201a8\"],[0.3333333333333333,\"#9c179e\"],[0.4444444444444444,\"#bd3786\"],[0.5555555555555556,\"#d8576b\"],[0.6666666666666666,\"#ed7953\"],[0.7777777777777778,\"#fb9f3a\"],[0.8888888888888888,\"#fdca26\"],[1.0,\"#f0f921\"]],\"type\":\"contour\"}],\"contourcarpet\":[{\"colorbar\":{\"outlinewidth\":0,\"ticks\":\"\"},\"type\":\"contourcarpet\"}],\"heatmap\":[{\"colorbar\":{\"outlinewidth\":0,\"ticks\":\"\"},\"colorscale\":[[0.0,\"#0d0887\"],[0.1111111111111111,\"#46039f\"],[0.2222222222222222,\"#7201a8\"],[0.3333333333333333,\"#9c179e\"],[0.4444444444444444,\"#bd3786\"],[0.5555555555555556,\"#d8576b\"],[0.6666666666666666,\"#ed7953\"],[0.7777777777777778,\"#fb9f3a\"],[0.8888888888888888,\"#fdca26\"],[1.0,\"#f0f921\"]],\"type\":\"heatmap\"}],\"heatmapgl\":[{\"colorbar\":{\"outlinewidth\":0,\"ticks\":\"\"},\"colorscale\":[[0.0,\"#0d0887\"],[0.1111111111111111,\"#46039f\"],[0.2222222222222222,\"#7201a8\"],[0.3333333333333333,\"#9c179e\"],[0.4444444444444444,\"#bd3786\"],[0.5555555555555556,\"#d8576b\"],[0.6666666666666666,\"#ed7953\"],[0.7777777777777778,\"#fb9f3a\"],[0.8888888888888888,\"#fdca26\"],[1.0,\"#f0f921\"]],\"type\":\"heatmapgl\"}],\"histogram\":[{\"marker\":{\"pattern\":{\"fillmode\":\"overlay\",\"size\":10,\"solidity\":0.2}},\"type\":\"histogram\"}],\"histogram2d\":[{\"colorbar\":{\"outlinewidth\":0,\"ticks\":\"\"},\"colorscale\":[[0.0,\"#0d0887\"],[0.1111111111111111,\"#46039f\"],[0.2222222222222222,\"#7201a8\"],[0.3333333333333333,\"#9c179e\"],[0.4444444444444444,\"#bd3786\"],[0.5555555555555556,\"#d8576b\"],[0.6666666666666666,\"#ed7953\"],[0.7777777777777778,\"#fb9f3a\"],[0.8888888888888888,\"#fdca26\"],[1.0,\"#f0f921\"]],\"type\":\"histogram2d\"}],\"histogram2dcontour\":[{\"colorbar\":{\"outlinewidth\":0,\"ticks\":\"\"},\"colorscale\":[[0.0,\"#0d0887\"],[0.1111111111111111,\"#46039f\"],[0.2222222222222222,\"#7201a8\"],[0.3333333333333333,\"#9c179e\"],[0.4444444444444444,\"#bd3786\"],[0.5555555555555556,\"#d8576b\"],[0.6666666666666666,\"#ed7953\"],[0.7777777777777778,\"#fb9f3a\"],[0.8888888888888888,\"#fdca26\"],[1.0,\"#f0f921\"]],\"type\":\"histogram2dcontour\"}],\"mesh3d\":[{\"colorbar\":{\"outlinewidth\":0,\"ticks\":\"\"},\"type\":\"mesh3d\"}],\"parcoords\":[{\"line\":{\"colorbar\":{\"outlinewidth\":0,\"ticks\":\"\"}},\"type\":\"parcoords\"}],\"pie\":[{\"automargin\":true,\"type\":\"pie\"}],\"scatter\":[{\"marker\":{\"colorbar\":{\"outlinewidth\":0,\"ticks\":\"\"}},\"type\":\"scatter\"}],\"scatter3d\":[{\"line\":{\"colorbar\":{\"outlinewidth\":0,\"ticks\":\"\"}},\"marker\":{\"colorbar\":{\"outlinewidth\":0,\"ticks\":\"\"}},\"type\":\"scatter3d\"}],\"scattercarpet\":[{\"marker\":{\"colorbar\":{\"outlinewidth\":0,\"ticks\":\"\"}},\"type\":\"scattercarpet\"}],\"scattergeo\":[{\"marker\":{\"colorbar\":{\"outlinewidth\":0,\"ticks\":\"\"}},\"type\":\"scattergeo\"}],\"scattergl\":[{\"marker\":{\"colorbar\":{\"outlinewidth\":0,\"ticks\":\"\"}},\"type\":\"scattergl\"}],\"scattermapbox\":[{\"marker\":{\"colorbar\":{\"outlinewidth\":0,\"ticks\":\"\"}},\"type\":\"scattermapbox\"}],\"scatterpolar\":[{\"marker\":{\"colorbar\":{\"outlinewidth\":0,\"ticks\":\"\"}},\"type\":\"scatterpolar\"}],\"scatterpolargl\":[{\"marker\":{\"colorbar\":{\"outlinewidth\":0,\"ticks\":\"\"}},\"type\":\"scatterpolargl\"}],\"scatterternary\":[{\"marker\":{\"colorbar\":{\"outlinewidth\":0,\"ticks\":\"\"}},\"type\":\"scatterternary\"}],\"surface\":[{\"colorbar\":{\"outlinewidth\":0,\"ticks\":\"\"},\"colorscale\":[[0.0,\"#0d0887\"],[0.1111111111111111,\"#46039f\"],[0.2222222222222222,\"#7201a8\"],[0.3333333333333333,\"#9c179e\"],[0.4444444444444444,\"#bd3786\"],[0.5555555555555556,\"#d8576b\"],[0.6666666666666666,\"#ed7953\"],[0.7777777777777778,\"#fb9f3a\"],[0.8888888888888888,\"#fdca26\"],[1.0,\"#f0f921\"]],\"type\":\"surface\"}],\"table\":[{\"cells\":{\"fill\":{\"color\":\"#EBF0F8\"},\"line\":{\"color\":\"white\"}},\"header\":{\"fill\":{\"color\":\"#C8D4E3\"},\"line\":{\"color\":\"white\"}},\"type\":\"table\"}]},\"layout\":{\"annotationdefaults\":{\"arrowcolor\":\"#2a3f5f\",\"arrowhead\":0,\"arrowwidth\":1},\"autotypenumbers\":\"strict\",\"coloraxis\":{\"colorbar\":{\"outlinewidth\":0,\"ticks\":\"\"}},\"colorscale\":{\"diverging\":[[0,\"#8e0152\"],[0.1,\"#c51b7d\"],[0.2,\"#de77ae\"],[0.3,\"#f1b6da\"],[0.4,\"#fde0ef\"],[0.5,\"#f7f7f7\"],[0.6,\"#e6f5d0\"],[0.7,\"#b8e186\"],[0.8,\"#7fbc41\"],[0.9,\"#4d9221\"],[1,\"#276419\"]],\"sequential\":[[0.0,\"#0d0887\"],[0.1111111111111111,\"#46039f\"],[0.2222222222222222,\"#7201a8\"],[0.3333333333333333,\"#9c179e\"],[0.4444444444444444,\"#bd3786\"],[0.5555555555555556,\"#d8576b\"],[0.6666666666666666,\"#ed7953\"],[0.7777777777777778,\"#fb9f3a\"],[0.8888888888888888,\"#fdca26\"],[1.0,\"#f0f921\"]],\"sequentialminus\":[[0.0,\"#0d0887\"],[0.1111111111111111,\"#46039f\"],[0.2222222222222222,\"#7201a8\"],[0.3333333333333333,\"#9c179e\"],[0.4444444444444444,\"#bd3786\"],[0.5555555555555556,\"#d8576b\"],[0.6666666666666666,\"#ed7953\"],[0.7777777777777778,\"#fb9f3a\"],[0.8888888888888888,\"#fdca26\"],[1.0,\"#f0f921\"]]},\"colorway\":[\"#636efa\",\"#EF553B\",\"#00cc96\",\"#ab63fa\",\"#FFA15A\",\"#19d3f3\",\"#FF6692\",\"#B6E880\",\"#FF97FF\",\"#FECB52\"],\"font\":{\"color\":\"#2a3f5f\"},\"geo\":{\"bgcolor\":\"white\",\"lakecolor\":\"white\",\"landcolor\":\"#E5ECF6\",\"showlakes\":true,\"showland\":true,\"subunitcolor\":\"white\"},\"hoverlabel\":{\"align\":\"left\"},\"hovermode\":\"closest\",\"mapbox\":{\"style\":\"light\"},\"paper_bgcolor\":\"white\",\"plot_bgcolor\":\"#E5ECF6\",\"polar\":{\"angularaxis\":{\"gridcolor\":\"white\",\"linecolor\":\"white\",\"ticks\":\"\"},\"bgcolor\":\"#E5ECF6\",\"radialaxis\":{\"gridcolor\":\"white\",\"linecolor\":\"white\",\"ticks\":\"\"}},\"scene\":{\"xaxis\":{\"backgroundcolor\":\"#E5ECF6\",\"gridcolor\":\"white\",\"gridwidth\":2,\"linecolor\":\"white\",\"showbackground\":true,\"ticks\":\"\",\"zerolinecolor\":\"white\"},\"yaxis\":{\"backgroundcolor\":\"#E5ECF6\",\"gridcolor\":\"white\",\"gridwidth\":2,\"linecolor\":\"white\",\"showbackground\":true,\"ticks\":\"\",\"zerolinecolor\":\"white\"},\"zaxis\":{\"backgroundcolor\":\"#E5ECF6\",\"gridcolor\":\"white\",\"gridwidth\":2,\"linecolor\":\"white\",\"showbackground\":true,\"ticks\":\"\",\"zerolinecolor\":\"white\"}},\"shapedefaults\":{\"line\":{\"color\":\"#2a3f5f\"}},\"ternary\":{\"aaxis\":{\"gridcolor\":\"white\",\"linecolor\":\"white\",\"ticks\":\"\"},\"baxis\":{\"gridcolor\":\"white\",\"linecolor\":\"white\",\"ticks\":\"\"},\"bgcolor\":\"#E5ECF6\",\"caxis\":{\"gridcolor\":\"white\",\"linecolor\":\"white\",\"ticks\":\"\"}},\"title\":{\"x\":0.05},\"xaxis\":{\"automargin\":true,\"gridcolor\":\"white\",\"linecolor\":\"white\",\"ticks\":\"\",\"title\":{\"standoff\":15},\"zerolinecolor\":\"white\",\"zerolinewidth\":2},\"yaxis\":{\"automargin\":true,\"gridcolor\":\"white\",\"linecolor\":\"white\",\"ticks\":\"\",\"title\":{\"standoff\":15},\"zerolinecolor\":\"white\",\"zerolinewidth\":2}}},\"xaxis\":{\"anchor\":\"y\",\"domain\":[0.0,1.0],\"title\":{\"text\":\"error\"}},\"yaxis\":{\"anchor\":\"x\",\"domain\":[0.0,1.0],\"title\":{\"text\":\"count\"}},\"legend\":{\"tracegroupgap\":0},\"title\":{\"text\":\"Model prediction - error distribution\"},\"barmode\":\"relative\"},                        {\"responsive\": true}                    ).then(function(){\n",
              "                            \n",
              "var gd = document.getElementById('d5d0d0b2-b226-4f13-bb6d-aec0f8a4b618');\n",
              "var x = new MutationObserver(function (mutations, observer) {{\n",
              "        var display = window.getComputedStyle(gd).display;\n",
              "        if (!display || display === 'none') {{\n",
              "            console.log([gd, 'removed!']);\n",
              "            Plotly.purge(gd);\n",
              "            observer.disconnect();\n",
              "        }}\n",
              "}});\n",
              "\n",
              "// Listen for the removal of the full notebook cells\n",
              "var notebookContainer = gd.closest('#notebook-container');\n",
              "if (notebookContainer) {{\n",
              "    x.observe(notebookContainer, {childList: true});\n",
              "}}\n",
              "\n",
              "// Listen for the clearing of the current output cell\n",
              "var outputEl = gd.closest('.output');\n",
              "if (outputEl) {{\n",
              "    x.observe(outputEl, {childList: true});\n",
              "}}\n",
              "\n",
              "                        })                };                            </script>        </div>\n",
              "</body>\n",
              "</html>"
            ]
          },
          "metadata": {}
        }
      ]
    }
  ]
}